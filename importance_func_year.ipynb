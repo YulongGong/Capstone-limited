{
  "nbformat": 4,
  "nbformat_minor": 0,
  "metadata": {
    "colab": {
      "name": "importance_func_year.ipynb",
      "provenance": [],
      "toc_visible": true
    },
    "kernelspec": {
      "display_name": "Python 3",
      "language": "python",
      "name": "python3"
    },
    "language_info": {
      "codemirror_mode": {
        "name": "ipython",
        "version": 3
      },
      "file_extension": ".py",
      "mimetype": "text/x-python",
      "name": "python",
      "nbconvert_exporter": "python",
      "pygments_lexer": "ipython3",
      "version": "3.8.3"
    }
  },
  "cells": [
    {
      "cell_type": "code",
      "metadata": {
        "id": "cWH3ePtgBFDs"
      },
      "source": [
        "import numpy as np\n",
        "import pandas as pd\n",
        "import seaborn as sns\n",
        "import matplotlib.pyplot as plt\n",
        "\n",
        "import sklearn\n",
        "from sklearn.tree import DecisionTreeClassifier\n",
        "from sklearn.ensemble import RandomForestClassifier\n",
        "from sklearn.linear_model import LogisticRegression\n",
        "from sklearn.metrics import accuracy_score, confusion_matrix, classification_report\n",
        "\n",
        "import xgboost\n",
        "from xgboost import XGBClassifier"
      ],
      "execution_count": null,
      "outputs": []
    },
    {
      "cell_type": "code",
      "metadata": {
        "id": "46moEFWlMV1g"
      },
      "source": [
        "def var_stats(source):\n",
        "\n",
        "  # read the source to a dataframe\n",
        "  source = pd.read_csv(source)\n",
        "\n",
        "  # stats of source\n",
        "  d = source.describe(percentiles=[0.01, 0.05, 0.1, 0.25, 0.5, 0.75, 0.9, 0.95, 0.99]).T\n",
        "  d['miss'] = source.isnull().sum()\n",
        "  d['missrate'] = d['miss']/len(source)\n",
        "\n",
        "  # export an csv\n",
        "  d.to_csv('source_sum_year.csv')"
      ],
      "execution_count": null,
      "outputs": []
    },
    {
      "cell_type": "code",
      "metadata": {
        "id": "eSAXbz7x6ppg"
      },
      "source": [
        "def plot_feature_importance(importance,names,model_type):\n",
        "\n",
        "  #Create arrays from feature importance and feature names\n",
        "  feature_importance = np.array(importance)\n",
        "  feature_names = np.array(names)\n",
        "\n",
        "  #Create a DataFrame using a Dictionary\n",
        "  data={'feature_names':feature_names,'feature_importance':feature_importance}\n",
        "  fi_df = pd.DataFrame(data)\n",
        "\n",
        "  #Sort the DataFrame in order decreasing feature importance\n",
        "  fi_df.sort_values(by=['feature_importance'], ascending=False,inplace=True)\n",
        "\n",
        "  #Define size of bar plot\n",
        "  plt.figure(figsize=(10,8))\n",
        "  #Plot Searborn bar chart\n",
        "  sns.barplot(x=fi_df['feature_importance'], y=fi_df['feature_names'])\n",
        "  #Add chart labels\n",
        "  plt.title(model_type + ' FEATURE IMPORTANCE')\n",
        "  plt.xlabel('FEATURE IMPORTANCE')\n",
        "  plt.ylabel('FEATURE NAMES')"
      ],
      "execution_count": null,
      "outputs": []
    },
    {
      "cell_type": "code",
      "metadata": {
        "id": "daw_MCjoBL8h"
      },
      "source": [
        "def imp_rank(source, dataset, varinfo):\n",
        "\n",
        "  # read the source to a dataframe\n",
        "  source = pd.read_csv(source)\n",
        "\n",
        "  X_train = pd.read_csv(dataset)\n",
        "  y_train = X_train['no_hit']\n",
        "  X_train = X_train.drop(['Unnamed: 0', 'no_hit'], axis=1)\n",
        "\n",
        "  # merge source and dataset together\n",
        "  data = source.merge(X_train, left_on = ['pol_id',\t'year'], right_on = ['pol_id',\t'year'], how='inner')\n",
        "\n",
        "  # drop index, categorical\n",
        "  var = data.drop(['pol_id','year','STATE','ZIP5','ZIP4'], axis=1)\n",
        "\n",
        "  # impute NA with mean\n",
        "  var = var.apply(lambda x: x.fillna(x.mean()))\n",
        "\n",
        "  fig, axes = plt.subplots(nrows=1, ncols=3, figsize=(10, 8)) \n",
        "\n",
        "  # RandomForest Check\n",
        "  modelRF = RandomForestClassifier(n_jobs=-1)\n",
        "  modelRF.fit(var, y_train)\n",
        "  impRF = modelRF.feature_importances_\n",
        "  #plt.subplot(1, 2, 1)\n",
        "  #plot_feature_importance(impRF,var.columns,'RANDOM FOREST')\n",
        "  # Plot cumulative importance\n",
        "  \n",
        "  axes[0].plot(range(1, len(impRF)+1), np.cumsum(impRF))\n",
        "  axes[0].set_title(\"Cum_imp_Random Forest\")\n",
        "  \n",
        "\n",
        "  # XGBoost Check\n",
        "  modelXG = XGBClassifier()\n",
        "  modelXG.fit(var, y_train)\n",
        "  impXG = modelXG.feature_importances_\n",
        "  #plt.subplot(1, 2, 1)\n",
        "  #plot_feature_importance(impXG,var.columns,'XGBOOST')\n",
        "  # Plot cumulative importance\n",
        "  \n",
        "  axes[1].plot(range(1, len(impXG)+1), np.cumsum(impXG))\n",
        "  axes[1].set_title(\"Cum_imp_XGBoost\")\n",
        "  \n",
        "\n",
        "  # DecisionTree Check\n",
        "  modelDT = DecisionTreeClassifier()\n",
        "  modelDT.fit(var, y_train)\n",
        "  impDT = modelDT.feature_importances_\n",
        "  #plt.subplot(1, 2, 1)\n",
        "  #plot_feature_importance(impDT,var.columns,'DECISION TREES')\n",
        "  # Plot cumulative importance\n",
        "  \n",
        "  axes[2].plot(range(1, len(impDT)+1), np.cumsum(impDT))\n",
        "  axes[2].set_title(\"Cum_imp_Decision Trees\")\n",
        "  \n",
        "\n",
        "  # Lasso coefficient\n",
        "  modelLS = LogisticRegression(penalty='l1', solver='liblinear')\n",
        "  modelLS.fit(var, y_train)\n",
        "  impLS = modelLS.coef_\n",
        "  #plot_feature_importance(impLS[0],var.columns,'LASSO REGRESSION')\n",
        "\n",
        "  # append the information to varinfo\n",
        "  s = pd.read_csv(varinfo)\n",
        "  s = s.drop([0])\n",
        "  s['RF_imp'] = impRF\n",
        "  s['XGB_imp'] = impXG\n",
        "  s['DT_imp'] = impDT\n",
        "  s['Lasso_coe'] = impLS[0]\n",
        "  s['LS_imp'] = (s['Lasso_coe'].abs())/(s['Lasso_coe'].abs().sum())\n",
        "\n",
        "  \n",
        "\n",
        "  s.to_csv('importance_year.csv')\n",
        "\n"
      ],
      "execution_count": null,
      "outputs": []
    },
    {
      "cell_type": "code",
      "metadata": {
        "id": "FSRWqXprM_Mh"
      },
      "source": [
        "var_stats('C:/Users/94018/Documents/BA886-7/result_final.csv')"
      ],
      "execution_count": null,
      "outputs": []
    },
    {
      "cell_type": "code",
      "metadata": {
        "colab": {
          "base_uri": "https://localhost:8080/",
          "height": 499
        },
        "id": "6bAJXk9DI1VM",
        "outputId": "da9a97b1-df1c-4708-9541-59f411d5670f"
      },
      "source": [
        "imp_rank('C:/Users/94018/Documents/BA886-7/result_final.csv','C:/Users/94018/OneDrive/Documents/BA886-7/Data/idyr_train.csv','C:/Users/94018/Documents/BA886-7/source_sum_year.csv')"
      ],
      "execution_count": null,
      "outputs": [
        {
          "output_type": "stream",
          "text": [
            "C:\\Users\\94018\\anaconda3\\lib\\site-packages\\xgboost\\sklearn.py:888: UserWarning: The use of label encoder in XGBClassifier is deprecated and will be removed in a future release. To remove this warning, do the following: 1) Pass option use_label_encoder=False when constructing XGBClassifier object; and 2) Encode your labels (y) as integers starting with 0, i.e. 0, 1, 2, ..., [num_class - 1].\n",
            "  warnings.warn(label_encoder_deprecation_msg, UserWarning)\n"
          ],
          "name": "stderr"
        },
        {
          "output_type": "stream",
          "text": [
            "[16:20:03] WARNING: C:/Users/Administrator/workspace/xgboost-win64_release_1.3.0/src/learner.cc:1061: Starting in XGBoost 1.3.0, the default evaluation metric used with the objective 'binary:logistic' was changed from 'error' to 'logloss'. Explicitly set eval_metric if you'd like to restore the old behavior.\n"
          ],
          "name": "stdout"
        },
        {
          "output_type": "display_data",
          "data": {
            "image/png": "[encoded data removed]",
            "text/plain": [
              "<Figure size 720x576 with 3 Axes>"
            ]
          },
          "metadata": {
            "tags": [],
            "needs_background": "light"
          }
        }
      ]
    },
    {
      "cell_type": "markdown",
      "metadata": {
        "id": "ZXsv6AphJ0Cj"
      },
      "source": [
        "# test the models"
      ]
    },
    {
      "cell_type": "code",
      "metadata": {
        "id": "FAp8RMjqJ3Sx"
      },
      "source": [
        "source1 = pd.read_csv('C:/Users/94018/Documents/BA886-7/result_final.csv')\n",
        "X_train = pd.read_csv('C:/Users/94018/OneDrive/Documents/BA886-7/Data/idyr_train.csv')\n",
        "y_train = X_train['no_hit']\n",
        "X_train = X_train.drop(['Unnamed: 0', 'no_hit'], axis=1)\n",
        "data1 = source1.merge(X_train, left_on = ['pol_id',\t'year'], right_on = ['pol_id',\t'year'], how='inner')\n",
        "var = data1.drop(['pol_id','year','STATE','ZIP5','ZIP4'], axis=1)\n",
        "var = var.apply(lambda x: x.fillna(x.mean()))"
      ],
      "execution_count": null,
      "outputs": []
    },
    {
      "cell_type": "code",
      "metadata": {
        "colab": {
          "base_uri": "https://localhost:8080/",
          "height": 253
        },
        "id": "tPGZ1oi2RKue",
        "outputId": "2878e0b1-3793-43c4-949e-a626da848df4"
      },
      "source": [
        "var.head()"
      ],
      "execution_count": null,
      "outputs": [
        {
          "output_type": "execute_result",
          "data": {
            "text/html": [
              "<div>\n",
              "<style scoped>\n",
              "    .dataframe tbody tr th:only-of-type {\n",
              "        vertical-align: middle;\n",
              "    }\n",
              "\n",
              "    .dataframe tbody tr th {\n",
              "        vertical-align: top;\n",
              "    }\n",
              "\n",
              "    .dataframe thead th {\n",
              "        text-align: right;\n",
              "    }\n",
              "</style>\n",
              "<table border=\"1\" class=\"dataframe\">\n",
              "  <thead>\n",
              "    <tr style=\"text-align: right;\">\n",
              "      <th></th>\n",
              "      <th>Unnamed: 0</th>\n",
              "      <th>var0009</th>\n",
              "      <th>var0010</th>\n",
              "      <th>var0011</th>\n",
              "      <th>var0012</th>\n",
              "      <th>var0013</th>\n",
              "      <th>var0014</th>\n",
              "      <th>var0015</th>\n",
              "      <th>var0016</th>\n",
              "      <th>var0017</th>\n",
              "      <th>...</th>\n",
              "      <th>var1089</th>\n",
              "      <th>var1090</th>\n",
              "      <th>var1091</th>\n",
              "      <th>var1092</th>\n",
              "      <th>var1093</th>\n",
              "      <th>var1094</th>\n",
              "      <th>var1095</th>\n",
              "      <th>var1096</th>\n",
              "      <th>var1097</th>\n",
              "      <th>var1098</th>\n",
              "    </tr>\n",
              "  </thead>\n",
              "  <tbody>\n",
              "    <tr>\n",
              "      <th>0</th>\n",
              "      <td>0</td>\n",
              "      <td>1.399839e+13</td>\n",
              "      <td>1.499798e+13</td>\n",
              "      <td>9.912679</td>\n",
              "      <td>1.239086</td>\n",
              "      <td>1.147003</td>\n",
              "      <td>2003.228284</td>\n",
              "      <td>1.212413</td>\n",
              "      <td>1.212413</td>\n",
              "      <td>1.152318</td>\n",
              "      <td>...</td>\n",
              "      <td>0.464817</td>\n",
              "      <td>0.005411</td>\n",
              "      <td>1.610939</td>\n",
              "      <td>0.017109</td>\n",
              "      <td>0.014483</td>\n",
              "      <td>529.444681</td>\n",
              "      <td>16.0833</td>\n",
              "      <td>1.480715</td>\n",
              "      <td>0.494665</td>\n",
              "      <td>1.875034</td>\n",
              "    </tr>\n",
              "    <tr>\n",
              "      <th>1</th>\n",
              "      <td>1</td>\n",
              "      <td>1.399839e+13</td>\n",
              "      <td>1.499798e+13</td>\n",
              "      <td>9.912679</td>\n",
              "      <td>1.239086</td>\n",
              "      <td>1.147003</td>\n",
              "      <td>2003.228284</td>\n",
              "      <td>1.212413</td>\n",
              "      <td>1.212413</td>\n",
              "      <td>1.152318</td>\n",
              "      <td>...</td>\n",
              "      <td>0.951674</td>\n",
              "      <td>0.005470</td>\n",
              "      <td>3.179847</td>\n",
              "      <td>0.019704</td>\n",
              "      <td>0.020778</td>\n",
              "      <td>546.633370</td>\n",
              "      <td>14.8333</td>\n",
              "      <td>1.103489</td>\n",
              "      <td>0.933914</td>\n",
              "      <td>1.571223</td>\n",
              "    </tr>\n",
              "    <tr>\n",
              "      <th>2</th>\n",
              "      <td>2</td>\n",
              "      <td>1.399839e+13</td>\n",
              "      <td>1.499798e+13</td>\n",
              "      <td>9.912679</td>\n",
              "      <td>1.239086</td>\n",
              "      <td>1.147003</td>\n",
              "      <td>2003.228284</td>\n",
              "      <td>1.212413</td>\n",
              "      <td>1.212413</td>\n",
              "      <td>1.152318</td>\n",
              "      <td>...</td>\n",
              "      <td>0.267688</td>\n",
              "      <td>0.005767</td>\n",
              "      <td>1.267937</td>\n",
              "      <td>0.017109</td>\n",
              "      <td>0.020778</td>\n",
              "      <td>550.908492</td>\n",
              "      <td>16.0834</td>\n",
              "      <td>2.230486</td>\n",
              "      <td>0.294765</td>\n",
              "      <td>1.608837</td>\n",
              "    </tr>\n",
              "    <tr>\n",
              "      <th>3</th>\n",
              "      <td>3</td>\n",
              "      <td>1.399839e+13</td>\n",
              "      <td>1.499798e+13</td>\n",
              "      <td>9.912679</td>\n",
              "      <td>1.239086</td>\n",
              "      <td>1.147003</td>\n",
              "      <td>2003.228284</td>\n",
              "      <td>1.212413</td>\n",
              "      <td>1.212413</td>\n",
              "      <td>1.152318</td>\n",
              "      <td>...</td>\n",
              "      <td>1.000840</td>\n",
              "      <td>0.006188</td>\n",
              "      <td>1.307391</td>\n",
              "      <td>0.017109</td>\n",
              "      <td>0.020778</td>\n",
              "      <td>564.666033</td>\n",
              "      <td>14.8333</td>\n",
              "      <td>1.480715</td>\n",
              "      <td>0.980685</td>\n",
              "      <td>1.608837</td>\n",
              "    </tr>\n",
              "    <tr>\n",
              "      <th>4</th>\n",
              "      <td>13</td>\n",
              "      <td>1.399839e+13</td>\n",
              "      <td>1.499798e+13</td>\n",
              "      <td>9.912679</td>\n",
              "      <td>1.239086</td>\n",
              "      <td>1.147003</td>\n",
              "      <td>2003.228284</td>\n",
              "      <td>1.212413</td>\n",
              "      <td>1.212413</td>\n",
              "      <td>1.152318</td>\n",
              "      <td>...</td>\n",
              "      <td>3.972740</td>\n",
              "      <td>0.000822</td>\n",
              "      <td>1.424492</td>\n",
              "      <td>0.017109</td>\n",
              "      <td>0.000812</td>\n",
              "      <td>525.395565</td>\n",
              "      <td>4.4583</td>\n",
              "      <td>1.480715</td>\n",
              "      <td>3.946720</td>\n",
              "      <td>1.994516</td>\n",
              "    </tr>\n",
              "  </tbody>\n",
              "</table>\n",
              "<p>5 rows × 1280 columns</p>\n",
              "</div>"
            ],
            "text/plain": [
              "   Unnamed: 0       var0009       var0010   var0011   var0012   var0013  \\\n",
              "0           0  1.399839e+13  1.499798e+13  9.912679  1.239086  1.147003   \n",
              "1           1  1.399839e+13  1.499798e+13  9.912679  1.239086  1.147003   \n",
              "2           2  1.399839e+13  1.499798e+13  9.912679  1.239086  1.147003   \n",
              "3           3  1.399839e+13  1.499798e+13  9.912679  1.239086  1.147003   \n",
              "4          13  1.399839e+13  1.499798e+13  9.912679  1.239086  1.147003   \n",
              "\n",
              "       var0014   var0015   var0016   var0017  ...   var1089   var1090  \\\n",
              "0  2003.228284  1.212413  1.212413  1.152318  ...  0.464817  0.005411   \n",
              "1  2003.228284  1.212413  1.212413  1.152318  ...  0.951674  0.005470   \n",
              "2  2003.228284  1.212413  1.212413  1.152318  ...  0.267688  0.005767   \n",
              "3  2003.228284  1.212413  1.212413  1.152318  ...  1.000840  0.006188   \n",
              "4  2003.228284  1.212413  1.212413  1.152318  ...  3.972740  0.000822   \n",
              "\n",
              "    var1091   var1092   var1093     var1094  var1095   var1096   var1097  \\\n",
              "0  1.610939  0.017109  0.014483  529.444681  16.0833  1.480715  0.494665   \n",
              "1  3.179847  0.019704  0.020778  546.633370  14.8333  1.103489  0.933914   \n",
              "2  1.267937  0.017109  0.020778  550.908492  16.0834  2.230486  0.294765   \n",
              "3  1.307391  0.017109  0.020778  564.666033  14.8333  1.480715  0.980685   \n",
              "4  1.424492  0.017109  0.000812  525.395565   4.4583  1.480715  3.946720   \n",
              "\n",
              "    var1098  \n",
              "0  1.875034  \n",
              "1  1.571223  \n",
              "2  1.608837  \n",
              "3  1.608837  \n",
              "4  1.994516  \n",
              "\n",
              "[5 rows x 1280 columns]"
            ]
          },
          "metadata": {
            "tags": []
          },
          "execution_count": 14
        }
      ]
    },
    {
      "cell_type": "code",
      "metadata": {
        "id": "o-BW8R0ARVQ6"
      },
      "source": [
        "X_test = pd.read_csv('C:/Users/94018/OneDrive/Documents/BA886-7/Data/idyr_test.csv')\n",
        "y_test = X_test['no_hit']\n",
        "X_test = X_test.drop(['Unnamed: 0', 'no_hit'], axis=1)\n",
        "data1_t = source1.merge(X_test, left_on = ['pol_id',\t'year'], right_on = ['pol_id',\t'year'], how='inner')\n",
        "var_t = data1_t.drop(['pol_id','year','STATE','ZIP5','ZIP4'], axis=1)\n",
        "var_t = var_t.apply(lambda x: x.fillna(x.mean()))"
      ],
      "execution_count": null,
      "outputs": []
    },
    {
      "cell_type": "code",
      "metadata": {
        "colab": {
          "base_uri": "https://localhost:8080/",
          "height": 253
        },
        "id": "nedMM-vTSG5S",
        "outputId": "c58daa93-ecfc-4958-c7ed-41b6a7db6ba3"
      },
      "source": [
        "var_t.head()"
      ],
      "execution_count": null,
      "outputs": [
        {
          "output_type": "execute_result",
          "data": {
            "text/html": [
              "<div>\n",
              "<style scoped>\n",
              "    .dataframe tbody tr th:only-of-type {\n",
              "        vertical-align: middle;\n",
              "    }\n",
              "\n",
              "    .dataframe tbody tr th {\n",
              "        vertical-align: top;\n",
              "    }\n",
              "\n",
              "    .dataframe thead th {\n",
              "        text-align: right;\n",
              "    }\n",
              "</style>\n",
              "<table border=\"1\" class=\"dataframe\">\n",
              "  <thead>\n",
              "    <tr style=\"text-align: right;\">\n",
              "      <th></th>\n",
              "      <th>Unnamed: 0</th>\n",
              "      <th>var0009</th>\n",
              "      <th>var0010</th>\n",
              "      <th>var0011</th>\n",
              "      <th>var0012</th>\n",
              "      <th>var0013</th>\n",
              "      <th>var0014</th>\n",
              "      <th>var0015</th>\n",
              "      <th>var0016</th>\n",
              "      <th>var0017</th>\n",
              "      <th>...</th>\n",
              "      <th>var1089</th>\n",
              "      <th>var1090</th>\n",
              "      <th>var1091</th>\n",
              "      <th>var1092</th>\n",
              "      <th>var1093</th>\n",
              "      <th>var1094</th>\n",
              "      <th>var1095</th>\n",
              "      <th>var1096</th>\n",
              "      <th>var1097</th>\n",
              "      <th>var1098</th>\n",
              "    </tr>\n",
              "  </thead>\n",
              "  <tbody>\n",
              "    <tr>\n",
              "      <th>0</th>\n",
              "      <td>4</td>\n",
              "      <td>1.399840e+13</td>\n",
              "      <td>1.499799e+13</td>\n",
              "      <td>9.862952</td>\n",
              "      <td>1.231345</td>\n",
              "      <td>1.140913</td>\n",
              "      <td>2003.352124</td>\n",
              "      <td>1.212940</td>\n",
              "      <td>1.212940</td>\n",
              "      <td>1.152074</td>\n",
              "      <td>...</td>\n",
              "      <td>2.052881</td>\n",
              "      <td>0.002271</td>\n",
              "      <td>1.390553</td>\n",
              "      <td>0.019262</td>\n",
              "      <td>0.018343</td>\n",
              "      <td>363.864886</td>\n",
              "      <td>58.3333</td>\n",
              "      <td>1.856222</td>\n",
              "      <td>2.134286</td>\n",
              "      <td>1.020104</td>\n",
              "    </tr>\n",
              "    <tr>\n",
              "      <th>1</th>\n",
              "      <td>5</td>\n",
              "      <td>1.399840e+13</td>\n",
              "      <td>1.499799e+13</td>\n",
              "      <td>9.862952</td>\n",
              "      <td>1.231345</td>\n",
              "      <td>1.140913</td>\n",
              "      <td>2003.352124</td>\n",
              "      <td>1.212940</td>\n",
              "      <td>1.212940</td>\n",
              "      <td>1.152074</td>\n",
              "      <td>...</td>\n",
              "      <td>2.080835</td>\n",
              "      <td>0.002393</td>\n",
              "      <td>1.104770</td>\n",
              "      <td>0.008518</td>\n",
              "      <td>0.011159</td>\n",
              "      <td>369.518144</td>\n",
              "      <td>57.6250</td>\n",
              "      <td>2.285444</td>\n",
              "      <td>2.083792</td>\n",
              "      <td>1.789574</td>\n",
              "    </tr>\n",
              "    <tr>\n",
              "      <th>2</th>\n",
              "      <td>6</td>\n",
              "      <td>1.399840e+13</td>\n",
              "      <td>1.499799e+13</td>\n",
              "      <td>9.862952</td>\n",
              "      <td>1.231345</td>\n",
              "      <td>1.140913</td>\n",
              "      <td>2003.352124</td>\n",
              "      <td>1.212940</td>\n",
              "      <td>1.212940</td>\n",
              "      <td>1.152074</td>\n",
              "      <td>...</td>\n",
              "      <td>0.585359</td>\n",
              "      <td>0.002665</td>\n",
              "      <td>1.551885</td>\n",
              "      <td>0.015429</td>\n",
              "      <td>0.009950</td>\n",
              "      <td>373.557318</td>\n",
              "      <td>54.1668</td>\n",
              "      <td>2.088034</td>\n",
              "      <td>0.575040</td>\n",
              "      <td>0.472868</td>\n",
              "    </tr>\n",
              "    <tr>\n",
              "      <th>3</th>\n",
              "      <td>7</td>\n",
              "      <td>1.399840e+13</td>\n",
              "      <td>1.499799e+13</td>\n",
              "      <td>9.862952</td>\n",
              "      <td>1.231345</td>\n",
              "      <td>1.140913</td>\n",
              "      <td>2003.352124</td>\n",
              "      <td>1.212940</td>\n",
              "      <td>1.212940</td>\n",
              "      <td>1.152074</td>\n",
              "      <td>...</td>\n",
              "      <td>0.935220</td>\n",
              "      <td>0.002976</td>\n",
              "      <td>1.105191</td>\n",
              "      <td>0.014436</td>\n",
              "      <td>0.006619</td>\n",
              "      <td>381.002620</td>\n",
              "      <td>47.9998</td>\n",
              "      <td>1.495616</td>\n",
              "      <td>0.921009</td>\n",
              "      <td>1.606041</td>\n",
              "    </tr>\n",
              "    <tr>\n",
              "      <th>4</th>\n",
              "      <td>148</td>\n",
              "      <td>1.399811e+13</td>\n",
              "      <td>1.499711e+13</td>\n",
              "      <td>1.000000</td>\n",
              "      <td>1.705242</td>\n",
              "      <td>0.107922</td>\n",
              "      <td>2017.000000</td>\n",
              "      <td>1.587818</td>\n",
              "      <td>1.587818</td>\n",
              "      <td>1.395953</td>\n",
              "      <td>...</td>\n",
              "      <td>0.695146</td>\n",
              "      <td>0.004978</td>\n",
              "      <td>0.834543</td>\n",
              "      <td>0.005689</td>\n",
              "      <td>0.020770</td>\n",
              "      <td>420.688538</td>\n",
              "      <td>53.7918</td>\n",
              "      <td>1.534607</td>\n",
              "      <td>0.685446</td>\n",
              "      <td>1.606041</td>\n",
              "    </tr>\n",
              "  </tbody>\n",
              "</table>\n",
              "<p>5 rows × 1280 columns</p>\n",
              "</div>"
            ],
            "text/plain": [
              "   Unnamed: 0       var0009       var0010   var0011   var0012   var0013  \\\n",
              "0           4  1.399840e+13  1.499799e+13  9.862952  1.231345  1.140913   \n",
              "1           5  1.399840e+13  1.499799e+13  9.862952  1.231345  1.140913   \n",
              "2           6  1.399840e+13  1.499799e+13  9.862952  1.231345  1.140913   \n",
              "3           7  1.399840e+13  1.499799e+13  9.862952  1.231345  1.140913   \n",
              "4         148  1.399811e+13  1.499711e+13  1.000000  1.705242  0.107922   \n",
              "\n",
              "       var0014   var0015   var0016   var0017  ...   var1089   var1090  \\\n",
              "0  2003.352124  1.212940  1.212940  1.152074  ...  2.052881  0.002271   \n",
              "1  2003.352124  1.212940  1.212940  1.152074  ...  2.080835  0.002393   \n",
              "2  2003.352124  1.212940  1.212940  1.152074  ...  0.585359  0.002665   \n",
              "3  2003.352124  1.212940  1.212940  1.152074  ...  0.935220  0.002976   \n",
              "4  2017.000000  1.587818  1.587818  1.395953  ...  0.695146  0.004978   \n",
              "\n",
              "    var1091   var1092   var1093     var1094  var1095   var1096   var1097  \\\n",
              "0  1.390553  0.019262  0.018343  363.864886  58.3333  1.856222  2.134286   \n",
              "1  1.104770  0.008518  0.011159  369.518144  57.6250  2.285444  2.083792   \n",
              "2  1.551885  0.015429  0.009950  373.557318  54.1668  2.088034  0.575040   \n",
              "3  1.105191  0.014436  0.006619  381.002620  47.9998  1.495616  0.921009   \n",
              "4  0.834543  0.005689  0.020770  420.688538  53.7918  1.534607  0.685446   \n",
              "\n",
              "    var1098  \n",
              "0  1.020104  \n",
              "1  1.789574  \n",
              "2  0.472868  \n",
              "3  1.606041  \n",
              "4  1.606041  \n",
              "\n",
              "[5 rows x 1280 columns]"
            ]
          },
          "metadata": {
            "tags": []
          },
          "execution_count": 16
        }
      ]
    },
    {
      "cell_type": "code",
      "metadata": {
        "colab": {
          "base_uri": "https://localhost:8080/"
        },
        "id": "jvTLvn63SRiB",
        "outputId": "ef4caba2-5b56-47da-b5a5-22d4d8b1f14b"
      },
      "source": [
        "# random forest\n",
        "modelRF = RandomForestClassifier(n_jobs=-1)\n",
        "modelRF.fit(var, y_train)\n",
        "RF_pred = modelRF.predict(var_t)\n",
        "print(accuracy_score(y_test, RF_pred))\n",
        "print(classification_report(y_test, RF_pred))"
      ],
      "execution_count": null,
      "outputs": [
        {
          "output_type": "stream",
          "text": [
            "0.907992549737098\n",
            "              precision    recall  f1-score   support\n",
            "\n",
            "           0       0.91      0.99      0.95     55229\n",
            "           1       0.34      0.03      0.05      5440\n",
            "\n",
            "    accuracy                           0.91     60669\n",
            "   macro avg       0.63      0.51      0.50     60669\n",
            "weighted avg       0.86      0.91      0.87     60669\n",
            "\n"
          ],
          "name": "stdout"
        }
      ]
    },
    {
      "cell_type": "code",
      "metadata": {
        "colab": {
          "base_uri": "https://localhost:8080/",
          "height": 520
        },
        "id": "AHteYEyQV5Q7",
        "outputId": "6fff8d49-269a-45da-f20a-e4e0cf39bf31"
      },
      "source": [
        "score = accuracy_score(y_test, RF_pred)\n",
        "cm = confusion_matrix(y_test, RF_pred)\n",
        "\n",
        "plt.figure(figsize=(9,9))\n",
        "sns.heatmap(cm, annot=True, fmt=\".3f\", linewidths=.5, square = True, cmap = 'Blues_r');\n",
        "plt.ylabel('Actual label');\n",
        "plt.xlabel('Predicted label');\n",
        "all_sample_title = 'Accuracy Score: {0}'.format(score)\n",
        "plt.title(all_sample_title, size = 15);"
      ],
      "execution_count": null,
      "outputs": [
        {
          "output_type": "display_data",
          "data": {
            "image/png": "[encoded data removed]",
            "text/plain": [
              "<Figure size 648x648 with 2 Axes>"
            ]
          },
          "metadata": {
            "tags": [],
            "needs_background": "light"
          }
        }
      ]
    },
    {
      "cell_type": "code",
      "metadata": {
        "colab": {
          "base_uri": "https://localhost:8080/"
        },
        "id": "ms11fWPMTm39",
        "outputId": "d41d4751-789a-4986-d8da-0cb5f0d08fe6"
      },
      "source": [
        "# xgboost\n",
        "modelXG = XGBClassifier()\n",
        "modelXG.fit(var, y_train)\n",
        "XG_pred = modelXG.predict(var_t)\n",
        "print(accuracy_score(y_test, XG_pred))\n",
        "print(classification_report(y_test, XG_pred))"
      ],
      "execution_count": null,
      "outputs": [
        {
          "output_type": "stream",
          "text": [
            "C:\\Users\\94018\\anaconda3\\lib\\site-packages\\xgboost\\sklearn.py:888: UserWarning: The use of label encoder in XGBClassifier is deprecated and will be removed in a future release. To remove this warning, do the following: 1) Pass option use_label_encoder=False when constructing XGBClassifier object; and 2) Encode your labels (y) as integers starting with 0, i.e. 0, 1, 2, ..., [num_class - 1].\n",
            "  warnings.warn(label_encoder_deprecation_msg, UserWarning)\n"
          ],
          "name": "stderr"
        },
        {
          "output_type": "stream",
          "text": [
            "[16:28:34] WARNING: C:/Users/Administrator/workspace/xgboost-win64_release_1.3.0/src/learner.cc:1061: Starting in XGBoost 1.3.0, the default evaluation metric used with the objective 'binary:logistic' was changed from 'error' to 'logloss'. Explicitly set eval_metric if you'd like to restore the old behavior.\n",
            "0.9087837280983698\n",
            "              precision    recall  f1-score   support\n",
            "\n",
            "           0       0.91      1.00      0.95     55229\n",
            "           1       0.37      0.02      0.04      5440\n",
            "\n",
            "    accuracy                           0.91     60669\n",
            "   macro avg       0.64      0.51      0.50     60669\n",
            "weighted avg       0.86      0.91      0.87     60669\n",
            "\n"
          ],
          "name": "stdout"
        }
      ]
    },
    {
      "cell_type": "code",
      "metadata": {
        "colab": {
          "base_uri": "https://localhost:8080/",
          "height": 526
        },
        "id": "W_amr8PUWQDl",
        "outputId": "a19332e0-e8d1-4574-b9d7-e02cbc1aae33"
      },
      "source": [
        "score = accuracy_score(y_test, XG_pred)\n",
        "cm = confusion_matrix(y_test, XG_pred)\n",
        "\n",
        "plt.figure(figsize=(9,9))\n",
        "sns.heatmap(cm, annot=True, fmt=\".3f\", linewidths=.5, square = True, cmap = 'Blues_r');\n",
        "plt.ylabel('Actual label');\n",
        "plt.xlabel('Predicted label');\n",
        "all_sample_title = 'Accuracy Score: {0}'.format(score)\n",
        "plt.title(all_sample_title, size = 15);"
      ],
      "execution_count": null,
      "outputs": [
        {
          "output_type": "display_data",
          "data": {
            "image/png": "[encoded data removed]",
            "text/plain": [
              "<Figure size 648x648 with 2 Axes>"
            ]
          },
          "metadata": {
            "tags": [],
            "needs_background": "light"
          }
        }
      ]
    },
    {
      "cell_type": "code",
      "metadata": {
        "colab": {
          "base_uri": "https://localhost:8080/"
        },
        "id": "Jht0CODfT1I8",
        "outputId": "367b5d93-c0a0-4fa0-cf23-964e52387cf7"
      },
      "source": [
        "# decision tree\n",
        "modelDT = DecisionTreeClassifier()\n",
        "modelDT.fit(var, y_train)\n",
        "DT_pred = modelDT.predict(var_t)\n",
        "print(accuracy_score(y_test, DT_pred))\n",
        "print(classification_report(y_test, DT_pred))"
      ],
      "execution_count": null,
      "outputs": [
        {
          "output_type": "stream",
          "text": [
            "0.8297647892663469\n",
            "              precision    recall  f1-score   support\n",
            "\n",
            "           0       0.92      0.90      0.91     55229\n",
            "           1       0.13      0.17      0.15      5440\n",
            "\n",
            "    accuracy                           0.83     60669\n",
            "   macro avg       0.53      0.53      0.53     60669\n",
            "weighted avg       0.85      0.83      0.84     60669\n",
            "\n"
          ],
          "name": "stdout"
        }
      ]
    },
    {
      "cell_type": "code",
      "metadata": {
        "colab": {
          "base_uri": "https://localhost:8080/",
          "height": 520
        },
        "id": "9BAZJR1RUc5n",
        "outputId": "3a258b57-6e07-43b9-cc40-430e226288ac"
      },
      "source": [
        "score = accuracy_score(y_test, DT_pred)\n",
        "cm = confusion_matrix(y_test, DT_pred)\n",
        "\n",
        "plt.figure(figsize=(9,9))\n",
        "sns.heatmap(cm, annot=True, fmt=\".3f\", linewidths=.5, square = True, cmap = 'Blues_r');\n",
        "plt.ylabel('Actual label');\n",
        "plt.xlabel('Predicted label');\n",
        "all_sample_title = 'Accuracy Score: {0}'.format(score)\n",
        "plt.title(all_sample_title, size = 15);"
      ],
      "execution_count": null,
      "outputs": [
        {
          "output_type": "display_data",
          "data": {
            "image/png": "[encoded data removed]",
            "text/plain": [
              "<Figure size 648x648 with 2 Axes>"
            ]
          },
          "metadata": {
            "tags": [],
            "needs_background": "light"
          }
        }
      ]
    },
    {
      "cell_type": "code",
      "metadata": {
        "id": "taWFyXoHWW_0"
      },
      "source": [
        ""
      ],
      "execution_count": null,
      "outputs": []
    }
  ]
}