{
  "nbformat": 4,
  "nbformat_minor": 0,
  "metadata": {
    "colab": {
      "name": "EDA.ipynb",
      "provenance": [],
      "collapsed_sections": [],
      "toc_visible": true
    },
    "kernelspec": {
      "name": "python3",
      "display_name": "Python 3"
    }
  },
  "cells": [
    {
      "cell_type": "markdown",
      "metadata": {
        "id": "jJWrDGUqvIeZ"
      },
      "source": [
        "# Import"
      ]
    },
    {
      "cell_type": "code",
      "metadata": {
        "id": "fwN9Py2OMiIW",
        "colab": {
          "base_uri": "https://localhost:8080/"
        },
        "outputId": "6b503c1f-d961-4996-8ac4-a3a6c23172f7"
      },
      "source": [
        "from google.colab import drive\n",
        "drive.mount('/content/drive')"
      ],
      "execution_count": 1,
      "outputs": [
        {
          "output_type": "stream",
          "text": [
            "Mounted at /content/drive\n"
          ],
          "name": "stdout"
        }
      ]
    },
    {
      "cell_type": "code",
      "metadata": {
        "id": "TXIuQgsVtEJg"
      },
      "source": [
        "import numpy as np\n",
        "import pandas as pd\n",
        "import seaborn as sns\n",
        "import matplotlib.pyplot as plt"
      ],
      "execution_count": 2,
      "outputs": []
    },
    {
      "cell_type": "code",
      "metadata": {
        "id": "vCc5cLj2tREy"
      },
      "source": [
        "df = pd.read_csv('/content/drive/MyDrive/BU Capstone Team2 Credit No_hit/Data/team2_driver.csv.gz')"
      ],
      "execution_count": 3,
      "outputs": []
    },
    {
      "cell_type": "code",
      "metadata": {
        "id": "HRkbGhBtuKfh"
      },
      "source": [
        "pol = pd.read_csv('/content/drive/MyDrive/BU Capstone Team2 Credit No_hit/Data/policy_level.csv')"
      ],
      "execution_count": 4,
      "outputs": []
    },
    {
      "cell_type": "code",
      "metadata": {
        "colab": {
          "base_uri": "https://localhost:8080/",
          "height": 204
        },
        "id": "0IHGQ6qftaWY",
        "outputId": "b2b16990-5d93-46ae-ff2b-0fd9511863e6"
      },
      "source": [
        "df.head()"
      ],
      "execution_count": 5,
      "outputs": [
        {
          "output_type": "execute_result",
          "data": {
            "text/html": [
              "<div>\n",
              "<style scoped>\n",
              "    .dataframe tbody tr th:only-of-type {\n",
              "        vertical-align: middle;\n",
              "    }\n",
              "\n",
              "    .dataframe tbody tr th {\n",
              "        vertical-align: top;\n",
              "    }\n",
              "\n",
              "    .dataframe thead th {\n",
              "        text-align: right;\n",
              "    }\n",
              "</style>\n",
              "<table border=\"1\" class=\"dataframe\">\n",
              "  <thead>\n",
              "    <tr style=\"text-align: right;\">\n",
              "      <th></th>\n",
              "      <th>pol_id</th>\n",
              "      <th>year</th>\n",
              "      <th>STATE</th>\n",
              "      <th>ZIP5</th>\n",
              "      <th>ZIP4</th>\n",
              "      <th>no_hit</th>\n",
              "    </tr>\n",
              "  </thead>\n",
              "  <tbody>\n",
              "    <tr>\n",
              "      <th>0</th>\n",
              "      <td>BHD00001001024</td>\n",
              "      <td>2016</td>\n",
              "      <td>MA</td>\n",
              "      <td>2740</td>\n",
              "      <td>1228.0</td>\n",
              "      <td>1</td>\n",
              "    </tr>\n",
              "    <tr>\n",
              "      <th>1</th>\n",
              "      <td>BHD00001001024</td>\n",
              "      <td>2017</td>\n",
              "      <td>MA</td>\n",
              "      <td>2740</td>\n",
              "      <td>1228.0</td>\n",
              "      <td>1</td>\n",
              "    </tr>\n",
              "    <tr>\n",
              "      <th>2</th>\n",
              "      <td>BHD00001001024</td>\n",
              "      <td>2018</td>\n",
              "      <td>MA</td>\n",
              "      <td>2740</td>\n",
              "      <td>1228.0</td>\n",
              "      <td>1</td>\n",
              "    </tr>\n",
              "    <tr>\n",
              "      <th>3</th>\n",
              "      <td>BHD00001001024</td>\n",
              "      <td>2019</td>\n",
              "      <td>MA</td>\n",
              "      <td>2740</td>\n",
              "      <td>1228.0</td>\n",
              "      <td>1</td>\n",
              "    </tr>\n",
              "    <tr>\n",
              "      <th>4</th>\n",
              "      <td>BHD00001001024</td>\n",
              "      <td>2020</td>\n",
              "      <td>MA</td>\n",
              "      <td>2740</td>\n",
              "      <td>1228.0</td>\n",
              "      <td>1</td>\n",
              "    </tr>\n",
              "  </tbody>\n",
              "</table>\n",
              "</div>"
            ],
            "text/plain": [
              "           pol_id  year STATE  ZIP5    ZIP4  no_hit\n",
              "0  BHD00001001024  2016    MA  2740  1228.0       1\n",
              "1  BHD00001001024  2017    MA  2740  1228.0       1\n",
              "2  BHD00001001024  2018    MA  2740  1228.0       1\n",
              "3  BHD00001001024  2019    MA  2740  1228.0       1\n",
              "4  BHD00001001024  2020    MA  2740  1228.0       1"
            ]
          },
          "metadata": {
            "tags": []
          },
          "execution_count": 5
        }
      ]
    },
    {
      "cell_type": "code",
      "metadata": {
        "colab": {
          "base_uri": "https://localhost:8080/"
        },
        "id": "iwq90rAhty8j",
        "outputId": "f95d8e91-f00c-4444-fea3-b3ebd5b66b38"
      },
      "source": [
        "df.info()"
      ],
      "execution_count": 6,
      "outputs": [
        {
          "output_type": "stream",
          "text": [
            "<class 'pandas.core.frame.DataFrame'>\n",
            "RangeIndex: 400719 entries, 0 to 400718\n",
            "Data columns (total 6 columns):\n",
            " #   Column  Non-Null Count   Dtype  \n",
            "---  ------  --------------   -----  \n",
            " 0   pol_id  400719 non-null  object \n",
            " 1   year    400719 non-null  int64  \n",
            " 2   STATE   400719 non-null  object \n",
            " 3   ZIP5    400719 non-null  int64  \n",
            " 4   ZIP4    395180 non-null  float64\n",
            " 5   no_hit  400719 non-null  int64  \n",
            "dtypes: float64(1), int64(3), object(2)\n",
            "memory usage: 18.3+ MB\n"
          ],
          "name": "stdout"
        }
      ]
    },
    {
      "cell_type": "markdown",
      "metadata": {
        "id": "RBc4NSvdtekb"
      },
      "source": [
        "# EDA"
      ]
    },
    {
      "cell_type": "markdown",
      "metadata": {
        "id": "BO3GQ83_mUHg"
      },
      "source": [
        "> ### By policy id level\n",
        "* take the first year record for each policy id (policy first existing year)"
      ]
    },
    {
      "cell_type": "code",
      "metadata": {
        "colab": {
          "base_uri": "https://localhost:8080/"
        },
        "id": "zgpeVc-6tb3i",
        "outputId": "eb353a5a-be43-4561-c2cd-38309fdefb6f"
      },
      "source": [
        "# unique pol_id\n",
        "df['pol_id'].nunique()"
      ],
      "execution_count": 7,
      "outputs": [
        {
          "output_type": "execute_result",
          "data": {
            "text/plain": [
              "176704"
            ]
          },
          "metadata": {
            "tags": []
          },
          "execution_count": 7
        }
      ]
    },
    {
      "cell_type": "code",
      "metadata": {
        "id": "Ys_z-zfXOdy8"
      },
      "source": [
        "# only take the first existing year\n",
        "grouped = df.groupby(['pol_id'])\n",
        "gby = grouped.agg(lambda x: x.iloc[0])"
      ],
      "execution_count": 8,
      "outputs": []
    },
    {
      "cell_type": "code",
      "metadata": {
        "colab": {
          "base_uri": "https://localhost:8080/",
          "height": 235
        },
        "id": "g4FSpEkoQdBA",
        "outputId": "60322fb4-6758-46bd-9adc-e2308c487cbd"
      },
      "source": [
        "# result: each id only exist one time (first entered year)\n",
        "gby.head()"
      ],
      "execution_count": 9,
      "outputs": [
        {
          "output_type": "execute_result",
          "data": {
            "text/html": [
              "<div>\n",
              "<style scoped>\n",
              "    .dataframe tbody tr th:only-of-type {\n",
              "        vertical-align: middle;\n",
              "    }\n",
              "\n",
              "    .dataframe tbody tr th {\n",
              "        vertical-align: top;\n",
              "    }\n",
              "\n",
              "    .dataframe thead th {\n",
              "        text-align: right;\n",
              "    }\n",
              "</style>\n",
              "<table border=\"1\" class=\"dataframe\">\n",
              "  <thead>\n",
              "    <tr style=\"text-align: right;\">\n",
              "      <th></th>\n",
              "      <th>year</th>\n",
              "      <th>STATE</th>\n",
              "      <th>ZIP5</th>\n",
              "      <th>ZIP4</th>\n",
              "      <th>no_hit</th>\n",
              "    </tr>\n",
              "    <tr>\n",
              "      <th>pol_id</th>\n",
              "      <th></th>\n",
              "      <th></th>\n",
              "      <th></th>\n",
              "      <th></th>\n",
              "      <th></th>\n",
              "    </tr>\n",
              "  </thead>\n",
              "  <tbody>\n",
              "    <tr>\n",
              "      <th>BHD00001001024</th>\n",
              "      <td>2016</td>\n",
              "      <td>MA</td>\n",
              "      <td>2740</td>\n",
              "      <td>1228.0</td>\n",
              "      <td>1</td>\n",
              "    </tr>\n",
              "    <tr>\n",
              "      <th>BHD00001001030</th>\n",
              "      <td>2016</td>\n",
              "      <td>MA</td>\n",
              "      <td>2740</td>\n",
              "      <td>4523.0</td>\n",
              "      <td>1</td>\n",
              "    </tr>\n",
              "    <tr>\n",
              "      <th>BHD00001001034</th>\n",
              "      <td>2015</td>\n",
              "      <td>MA</td>\n",
              "      <td>2745</td>\n",
              "      <td>5672.0</td>\n",
              "      <td>0</td>\n",
              "    </tr>\n",
              "    <tr>\n",
              "      <th>BHD00001001037</th>\n",
              "      <td>2016</td>\n",
              "      <td>MA</td>\n",
              "      <td>1566</td>\n",
              "      <td>1335.0</td>\n",
              "      <td>0</td>\n",
              "    </tr>\n",
              "    <tr>\n",
              "      <th>BHD00001001041</th>\n",
              "      <td>2016</td>\n",
              "      <td>MA</td>\n",
              "      <td>2745</td>\n",
              "      <td>5260.0</td>\n",
              "      <td>0</td>\n",
              "    </tr>\n",
              "  </tbody>\n",
              "</table>\n",
              "</div>"
            ],
            "text/plain": [
              "                year STATE  ZIP5    ZIP4  no_hit\n",
              "pol_id                                          \n",
              "BHD00001001024  2016    MA  2740  1228.0       1\n",
              "BHD00001001030  2016    MA  2740  4523.0       1\n",
              "BHD00001001034  2015    MA  2745  5672.0       0\n",
              "BHD00001001037  2016    MA  1566  1335.0       0\n",
              "BHD00001001041  2016    MA  2745  5260.0       0"
            ]
          },
          "metadata": {
            "tags": []
          },
          "execution_count": 9
        }
      ]
    },
    {
      "cell_type": "code",
      "metadata": {
        "colab": {
          "base_uri": "https://localhost:8080/"
        },
        "id": "lTZdPNluzLfa",
        "outputId": "c7899092-39de-4cec-893a-9bf2841ba54a"
      },
      "source": [
        "#Count consistent IDs\n",
        "a = df.groupby(['pol_id'])['no_hit'].mean()\n",
        "sum(a == 1) + sum(a == 0)"
      ],
      "execution_count": 10,
      "outputs": [
        {
          "output_type": "execute_result",
          "data": {
            "text/plain": [
              "162534"
            ]
          },
          "metadata": {
            "tags": []
          },
          "execution_count": 10
        }
      ]
    },
    {
      "cell_type": "code",
      "metadata": {
        "id": "WfNGepV5zLdd"
      },
      "source": [
        "gby = gby.reset_index()\n",
        "con = gby[gby['pol_id'].isin(np.array(a[(a==1) | (a==0)].index))]"
      ],
      "execution_count": 11,
      "outputs": []
    },
    {
      "cell_type": "code",
      "metadata": {
        "colab": {
          "base_uri": "https://localhost:8080/"
        },
        "id": "dYXbIgJWzLY1",
        "outputId": "bba00ce2-2d2c-4f73-9d39-7c42a6df235f"
      },
      "source": [
        "con.shape"
      ],
      "execution_count": 12,
      "outputs": [
        {
          "output_type": "execute_result",
          "data": {
            "text/plain": [
              "(162534, 6)"
            ]
          },
          "metadata": {
            "tags": []
          },
          "execution_count": 12
        }
      ]
    },
    {
      "cell_type": "code",
      "metadata": {
        "id": "fHbWjI_LzLXJ"
      },
      "source": [
        "# not consis\n",
        "\n",
        "# nc = pd.read_csv('Book1 1.csv')\n",
        "# nc.head()\n",
        "\n",
        "# Count non-consistent IDs\n",
        "\n",
        "# b = df.groupby(['pol_id'])['no_hit'].mean()\n",
        "# len(b) - sum(b == 1) - sum(b == 0)\n",
        "# nonc = gby[gby['pol_id'].isin(np.array(b[(b != 0) & (b != 1)].index))]\n",
        "# nonc.head()\n",
        "# nonc = nonc.drop('no_hit', axis=1)\n",
        "# non = nonc.merge(nc, how='inner', on='pol_id').rename({'final':'no_hit'}, axis=1)\n",
        "# non.head()\n",
        "\n",
        "# final policy level\n",
        "# pol = pd.concat([con, non])\n"
      ],
      "execution_count": 13,
      "outputs": []
    },
    {
      "cell_type": "code",
      "metadata": {
        "id": "SOYlbTDE8Niz"
      },
      "source": [
        "# final policy level\n",
        "pol = pd.read_csv('/content/drive/MyDrive/BU Capstone Team2 Credit No_hit/Data/policy_level.csv')"
      ],
      "execution_count": 17,
      "outputs": []
    },
    {
      "cell_type": "code",
      "metadata": {
        "colab": {
          "base_uri": "https://localhost:8080/",
          "height": 266
        },
        "id": "aTX-JuoiQcPA",
        "outputId": "a9e8d7ac-b922-49ef-d05f-4eaa79b49eb9"
      },
      "source": [
        "# new existing id in each state\n",
        "group_state = pol.reset_index().groupby('STATE').agg({'pol_id': 'nunique'})\n",
        "per = group_state.apply(lambda x: x / float(x.sum())).round(2)\n",
        "new = pd.concat([group_state.rename(columns = {'pol_id':'policy count'}), per.rename(columns = {'pol_id':'% of total policies'})], axis=1).sort_values(by='% of total policies',ascending=False)\n",
        "new['appear_year'] = [2015, 2015, 2017, 2011, 2011, 2018]\n",
        "new"
      ],
      "execution_count": 18,
      "outputs": [
        {
          "output_type": "execute_result",
          "data": {
            "text/html": [
              "<div>\n",
              "<style scoped>\n",
              "    .dataframe tbody tr th:only-of-type {\n",
              "        vertical-align: middle;\n",
              "    }\n",
              "\n",
              "    .dataframe tbody tr th {\n",
              "        vertical-align: top;\n",
              "    }\n",
              "\n",
              "    .dataframe thead th {\n",
              "        text-align: right;\n",
              "    }\n",
              "</style>\n",
              "<table border=\"1\" class=\"dataframe\">\n",
              "  <thead>\n",
              "    <tr style=\"text-align: right;\">\n",
              "      <th></th>\n",
              "      <th>policy count</th>\n",
              "      <th>% of total policies</th>\n",
              "      <th>appear_year</th>\n",
              "    </tr>\n",
              "    <tr>\n",
              "      <th>STATE</th>\n",
              "      <th></th>\n",
              "      <th></th>\n",
              "      <th></th>\n",
              "    </tr>\n",
              "  </thead>\n",
              "  <tbody>\n",
              "    <tr>\n",
              "      <th>MA</th>\n",
              "      <td>67291</td>\n",
              "      <td>0.38</td>\n",
              "      <td>2015</td>\n",
              "    </tr>\n",
              "    <tr>\n",
              "      <th>NJ</th>\n",
              "      <td>47544</td>\n",
              "      <td>0.27</td>\n",
              "      <td>2015</td>\n",
              "    </tr>\n",
              "    <tr>\n",
              "      <th>PA</th>\n",
              "      <td>21576</td>\n",
              "      <td>0.12</td>\n",
              "      <td>2017</td>\n",
              "    </tr>\n",
              "    <tr>\n",
              "      <th>CT</th>\n",
              "      <td>19522</td>\n",
              "      <td>0.11</td>\n",
              "      <td>2011</td>\n",
              "    </tr>\n",
              "    <tr>\n",
              "      <th>NH</th>\n",
              "      <td>13673</td>\n",
              "      <td>0.08</td>\n",
              "      <td>2011</td>\n",
              "    </tr>\n",
              "    <tr>\n",
              "      <th>NY</th>\n",
              "      <td>7098</td>\n",
              "      <td>0.04</td>\n",
              "      <td>2018</td>\n",
              "    </tr>\n",
              "  </tbody>\n",
              "</table>\n",
              "</div>"
            ],
            "text/plain": [
              "       policy count  % of total policies  appear_year\n",
              "STATE                                                \n",
              "MA            67291                 0.38         2015\n",
              "NJ            47544                 0.27         2015\n",
              "PA            21576                 0.12         2017\n",
              "CT            19522                 0.11         2011\n",
              "NH            13673                 0.08         2011\n",
              "NY             7098                 0.04         2018"
            ]
          },
          "metadata": {
            "tags": []
          },
          "execution_count": 18
        }
      ]
    },
    {
      "cell_type": "code",
      "metadata": {
        "colab": {
          "base_uri": "https://localhost:8080/",
          "height": 400
        },
        "id": "_lp7cO_yYBQx",
        "outputId": "598b825b-2d52-4589-e1ca-355001f17f9c"
      },
      "source": [
        "# MA has the most policies, NY and PA are new states start from 2017-2018\n",
        "sns.catplot(kind='count', x='STATE', data=gby, order=gby['STATE'].value_counts(ascending=False).index)"
      ],
      "execution_count": 19,
      "outputs": [
        {
          "output_type": "execute_result",
          "data": {
            "text/plain": [
              "<seaborn.axisgrid.FacetGrid at 0x7f08f59c5f10>"
            ]
          },
          "metadata": {
            "tags": []
          },
          "execution_count": 19
        },
        {
          "output_type": "display_data",
          "data": {
            "image/png": "[encoded data removed]",
            "text/plain": [
              "<Figure size 360x360 with 1 Axes>"
            ]
          },
          "metadata": {
            "tags": [],
            "needs_background": "light"
          }
        }
      ]
    },
    {
      "cell_type": "code",
      "metadata": {
        "colab": {
          "base_uri": "https://localhost:8080/",
          "height": 266
        },
        "id": "_EJUCM2DNtSU",
        "outputId": "3beafbbd-8d1e-4e79-9637-e4aef4198cb2"
      },
      "source": [
        "# no-hit in these policies\n",
        "nh_state = pol.groupby(['STATE'])[['no_hit']].sum()\n",
        "nh_sc = pol.groupby(['STATE'])[['no_hit']].count()\n",
        "hit = nh_sc - nh_state\n",
        "pec_nh = (nh_state / nh_sc).round(3)\n",
        "nh_sdf = pd.concat([nh_state.rename(columns = {'no_hit':'no_hit count'}), hit.rename(columns={'no_hit':'hit count'}), nh_sc.rename(columns = {'no_hit':'total policies'}), pec_nh.rename(columns = {'no_hit':'% of no_hit'})], axis=1).sort_values('% of no_hit', ascending=False)\n",
        "nh_sdf"
      ],
      "execution_count": 20,
      "outputs": [
        {
          "output_type": "execute_result",
          "data": {
            "text/html": [
              "<div>\n",
              "<style scoped>\n",
              "    .dataframe tbody tr th:only-of-type {\n",
              "        vertical-align: middle;\n",
              "    }\n",
              "\n",
              "    .dataframe tbody tr th {\n",
              "        vertical-align: top;\n",
              "    }\n",
              "\n",
              "    .dataframe thead th {\n",
              "        text-align: right;\n",
              "    }\n",
              "</style>\n",
              "<table border=\"1\" class=\"dataframe\">\n",
              "  <thead>\n",
              "    <tr style=\"text-align: right;\">\n",
              "      <th></th>\n",
              "      <th>no_hit count</th>\n",
              "      <th>hit count</th>\n",
              "      <th>total policies</th>\n",
              "      <th>% of no_hit</th>\n",
              "    </tr>\n",
              "    <tr>\n",
              "      <th>STATE</th>\n",
              "      <th></th>\n",
              "      <th></th>\n",
              "      <th></th>\n",
              "      <th></th>\n",
              "    </tr>\n",
              "  </thead>\n",
              "  <tbody>\n",
              "    <tr>\n",
              "      <th>NY</th>\n",
              "      <td>1329</td>\n",
              "      <td>5769</td>\n",
              "      <td>7098</td>\n",
              "      <td>0.187</td>\n",
              "    </tr>\n",
              "    <tr>\n",
              "      <th>PA</th>\n",
              "      <td>3595</td>\n",
              "      <td>17981</td>\n",
              "      <td>21576</td>\n",
              "      <td>0.167</td>\n",
              "    </tr>\n",
              "    <tr>\n",
              "      <th>CT</th>\n",
              "      <td>1907</td>\n",
              "      <td>17615</td>\n",
              "      <td>19522</td>\n",
              "      <td>0.098</td>\n",
              "    </tr>\n",
              "    <tr>\n",
              "      <th>NH</th>\n",
              "      <td>1344</td>\n",
              "      <td>12329</td>\n",
              "      <td>13673</td>\n",
              "      <td>0.098</td>\n",
              "    </tr>\n",
              "    <tr>\n",
              "      <th>NJ</th>\n",
              "      <td>3739</td>\n",
              "      <td>43805</td>\n",
              "      <td>47544</td>\n",
              "      <td>0.079</td>\n",
              "    </tr>\n",
              "    <tr>\n",
              "      <th>MA</th>\n",
              "      <td>3979</td>\n",
              "      <td>63312</td>\n",
              "      <td>67291</td>\n",
              "      <td>0.059</td>\n",
              "    </tr>\n",
              "  </tbody>\n",
              "</table>\n",
              "</div>"
            ],
            "text/plain": [
              "       no_hit count  hit count  total policies  % of no_hit\n",
              "STATE                                                      \n",
              "NY             1329       5769            7098        0.187\n",
              "PA             3595      17981           21576        0.167\n",
              "CT             1907      17615           19522        0.098\n",
              "NH             1344      12329           13673        0.098\n",
              "NJ             3739      43805           47544        0.079\n",
              "MA             3979      63312           67291        0.059"
            ]
          },
          "metadata": {
            "tags": []
          },
          "execution_count": 20
        }
      ]
    },
    {
      "cell_type": "code",
      "metadata": {
        "id": "PcOSUGxaUtgD"
      },
      "source": [
        "df = pd.DataFrame({'no_hit count': nh_sdf['no_hit count'],\n",
        "                   'hit count': nh_sdf['hit count']}, index = nh_sdf.index)"
      ],
      "execution_count": 21,
      "outputs": []
    },
    {
      "cell_type": "code",
      "metadata": {
        "colab": {
          "base_uri": "https://localhost:8080/",
          "height": 304
        },
        "id": "I3vf2Vu_O-Qs",
        "outputId": "85a200cf-9e39-42be-d93c-6dd5db871e95"
      },
      "source": [
        "df.plot.bar(stacked = True)"
      ],
      "execution_count": 22,
      "outputs": [
        {
          "output_type": "execute_result",
          "data": {
            "text/plain": [
              "<matplotlib.axes._subplots.AxesSubplot at 0x7f08f61a8dd0>"
            ]
          },
          "metadata": {
            "tags": []
          },
          "execution_count": 22
        },
        {
          "output_type": "display_data",
          "data": {
            "image/png": "[encoded data removed]",
            "text/plain": [
              "<Figure size 432x288 with 1 Axes>"
            ]
          },
          "metadata": {
            "tags": [],
            "needs_background": "light"
          }
        }
      ]
    },
    {
      "cell_type": "code",
      "metadata": {
        "colab": {
          "base_uri": "https://localhost:8080/",
          "height": 390
        },
        "id": "WP1bXqYeTHo7",
        "outputId": "9081e124-f74d-4eb4-a89e-2a054aac5685"
      },
      "source": [
        "# new policies entered in each year\n",
        "group_year = pol.reset_index().groupby('year').agg({'pol_id': 'nunique'})\n",
        "per_y = group_year.apply(lambda x: x / float(x.sum())).round(2)\n",
        "pd.concat([group_year.rename(columns = {'pol_id':'policy count'}), per_y.rename(columns = {'pol_id':'% of total policies'})], axis=1)"
      ],
      "execution_count": 23,
      "outputs": [
        {
          "output_type": "execute_result",
          "data": {
            "text/html": [
              "<div>\n",
              "<style scoped>\n",
              "    .dataframe tbody tr th:only-of-type {\n",
              "        vertical-align: middle;\n",
              "    }\n",
              "\n",
              "    .dataframe tbody tr th {\n",
              "        vertical-align: top;\n",
              "    }\n",
              "\n",
              "    .dataframe thead th {\n",
              "        text-align: right;\n",
              "    }\n",
              "</style>\n",
              "<table border=\"1\" class=\"dataframe\">\n",
              "  <thead>\n",
              "    <tr style=\"text-align: right;\">\n",
              "      <th></th>\n",
              "      <th>policy count</th>\n",
              "      <th>% of total policies</th>\n",
              "    </tr>\n",
              "    <tr>\n",
              "      <th>year</th>\n",
              "      <th></th>\n",
              "      <th></th>\n",
              "    </tr>\n",
              "  </thead>\n",
              "  <tbody>\n",
              "    <tr>\n",
              "      <th>2011</th>\n",
              "      <td>3395</td>\n",
              "      <td>0.02</td>\n",
              "    </tr>\n",
              "    <tr>\n",
              "      <th>2012</th>\n",
              "      <td>767</td>\n",
              "      <td>0.00</td>\n",
              "    </tr>\n",
              "    <tr>\n",
              "      <th>2013</th>\n",
              "      <td>2409</td>\n",
              "      <td>0.01</td>\n",
              "    </tr>\n",
              "    <tr>\n",
              "      <th>2014</th>\n",
              "      <td>3045</td>\n",
              "      <td>0.02</td>\n",
              "    </tr>\n",
              "    <tr>\n",
              "      <th>2015</th>\n",
              "      <td>8441</td>\n",
              "      <td>0.05</td>\n",
              "    </tr>\n",
              "    <tr>\n",
              "      <th>2016</th>\n",
              "      <td>38605</td>\n",
              "      <td>0.22</td>\n",
              "    </tr>\n",
              "    <tr>\n",
              "      <th>2017</th>\n",
              "      <td>13133</td>\n",
              "      <td>0.07</td>\n",
              "    </tr>\n",
              "    <tr>\n",
              "      <th>2018</th>\n",
              "      <td>34965</td>\n",
              "      <td>0.20</td>\n",
              "    </tr>\n",
              "    <tr>\n",
              "      <th>2019</th>\n",
              "      <td>45210</td>\n",
              "      <td>0.26</td>\n",
              "    </tr>\n",
              "    <tr>\n",
              "      <th>2020</th>\n",
              "      <td>26734</td>\n",
              "      <td>0.15</td>\n",
              "    </tr>\n",
              "  </tbody>\n",
              "</table>\n",
              "</div>"
            ],
            "text/plain": [
              "      policy count  % of total policies\n",
              "year                                   \n",
              "2011          3395                 0.02\n",
              "2012           767                 0.00\n",
              "2013          2409                 0.01\n",
              "2014          3045                 0.02\n",
              "2015          8441                 0.05\n",
              "2016         38605                 0.22\n",
              "2017         13133                 0.07\n",
              "2018         34965                 0.20\n",
              "2019         45210                 0.26\n",
              "2020         26734                 0.15"
            ]
          },
          "metadata": {
            "tags": []
          },
          "execution_count": 23
        }
      ]
    },
    {
      "cell_type": "code",
      "metadata": {
        "colab": {
          "base_uri": "https://localhost:8080/",
          "height": 400
        },
        "id": "yJXzTU01Qc7E",
        "outputId": "8024807c-d5c7-4f3b-dfd1-5b2a34572caf"
      },
      "source": [
        "sns.catplot(kind='count', x='year', data=pol)"
      ],
      "execution_count": 24,
      "outputs": [
        {
          "output_type": "execute_result",
          "data": {
            "text/plain": [
              "<seaborn.axisgrid.FacetGrid at 0x7f08f6069e10>"
            ]
          },
          "metadata": {
            "tags": []
          },
          "execution_count": 24
        },
        {
          "output_type": "display_data",
          "data": {
            "image/png": "[encoded data removed]",
            "text/plain": [
              "<Figure size 360x360 with 1 Axes>"
            ]
          },
          "metadata": {
            "tags": [],
            "needs_background": "light"
          }
        }
      ]
    },
    {
      "cell_type": "code",
      "metadata": {
        "colab": {
          "base_uri": "https://localhost:8080/",
          "height": 1000
        },
        "id": "VpAx5kJfIycl",
        "outputId": "f0d5e060-49d4-4105-cf05-956b850803a0"
      },
      "source": [
        "r = pol.reset_index().groupby(['year','STATE'])\n",
        "t = r.agg({'pol_id':'nunique'})\n",
        "t"
      ],
      "execution_count": 25,
      "outputs": [
        {
          "output_type": "execute_result",
          "data": {
            "text/html": [
              "<div>\n",
              "<style scoped>\n",
              "    .dataframe tbody tr th:only-of-type {\n",
              "        vertical-align: middle;\n",
              "    }\n",
              "\n",
              "    .dataframe tbody tr th {\n",
              "        vertical-align: top;\n",
              "    }\n",
              "\n",
              "    .dataframe thead th {\n",
              "        text-align: right;\n",
              "    }\n",
              "</style>\n",
              "<table border=\"1\" class=\"dataframe\">\n",
              "  <thead>\n",
              "    <tr style=\"text-align: right;\">\n",
              "      <th></th>\n",
              "      <th></th>\n",
              "      <th>pol_id</th>\n",
              "    </tr>\n",
              "    <tr>\n",
              "      <th>year</th>\n",
              "      <th>STATE</th>\n",
              "      <th></th>\n",
              "    </tr>\n",
              "  </thead>\n",
              "  <tbody>\n",
              "    <tr>\n",
              "      <th rowspan=\"2\" valign=\"top\">2011</th>\n",
              "      <th>CT</th>\n",
              "      <td>998</td>\n",
              "    </tr>\n",
              "    <tr>\n",
              "      <th>NH</th>\n",
              "      <td>2397</td>\n",
              "    </tr>\n",
              "    <tr>\n",
              "      <th rowspan=\"2\" valign=\"top\">2012</th>\n",
              "      <th>CT</th>\n",
              "      <td>476</td>\n",
              "    </tr>\n",
              "    <tr>\n",
              "      <th>NH</th>\n",
              "      <td>291</td>\n",
              "    </tr>\n",
              "    <tr>\n",
              "      <th rowspan=\"2\" valign=\"top\">2013</th>\n",
              "      <th>CT</th>\n",
              "      <td>1697</td>\n",
              "    </tr>\n",
              "    <tr>\n",
              "      <th>NH</th>\n",
              "      <td>712</td>\n",
              "    </tr>\n",
              "    <tr>\n",
              "      <th rowspan=\"2\" valign=\"top\">2014</th>\n",
              "      <th>CT</th>\n",
              "      <td>1765</td>\n",
              "    </tr>\n",
              "    <tr>\n",
              "      <th>NH</th>\n",
              "      <td>1280</td>\n",
              "    </tr>\n",
              "    <tr>\n",
              "      <th rowspan=\"4\" valign=\"top\">2015</th>\n",
              "      <th>CT</th>\n",
              "      <td>1211</td>\n",
              "    </tr>\n",
              "    <tr>\n",
              "      <th>MA</th>\n",
              "      <td>4790</td>\n",
              "    </tr>\n",
              "    <tr>\n",
              "      <th>NH</th>\n",
              "      <td>1605</td>\n",
              "    </tr>\n",
              "    <tr>\n",
              "      <th>NJ</th>\n",
              "      <td>835</td>\n",
              "    </tr>\n",
              "    <tr>\n",
              "      <th rowspan=\"4\" valign=\"top\">2016</th>\n",
              "      <th>CT</th>\n",
              "      <td>3341</td>\n",
              "    </tr>\n",
              "    <tr>\n",
              "      <th>MA</th>\n",
              "      <td>29501</td>\n",
              "    </tr>\n",
              "    <tr>\n",
              "      <th>NH</th>\n",
              "      <td>2077</td>\n",
              "    </tr>\n",
              "    <tr>\n",
              "      <th>NJ</th>\n",
              "      <td>3686</td>\n",
              "    </tr>\n",
              "    <tr>\n",
              "      <th rowspan=\"5\" valign=\"top\">2017</th>\n",
              "      <th>CT</th>\n",
              "      <td>2064</td>\n",
              "    </tr>\n",
              "    <tr>\n",
              "      <th>MA</th>\n",
              "      <td>6419</td>\n",
              "    </tr>\n",
              "    <tr>\n",
              "      <th>NH</th>\n",
              "      <td>1154</td>\n",
              "    </tr>\n",
              "    <tr>\n",
              "      <th>NJ</th>\n",
              "      <td>3341</td>\n",
              "    </tr>\n",
              "    <tr>\n",
              "      <th>PA</th>\n",
              "      <td>155</td>\n",
              "    </tr>\n",
              "    <tr>\n",
              "      <th rowspan=\"6\" valign=\"top\">2018</th>\n",
              "      <th>CT</th>\n",
              "      <td>1727</td>\n",
              "    </tr>\n",
              "    <tr>\n",
              "      <th>MA</th>\n",
              "      <td>8430</td>\n",
              "    </tr>\n",
              "    <tr>\n",
              "      <th>NH</th>\n",
              "      <td>1371</td>\n",
              "    </tr>\n",
              "    <tr>\n",
              "      <th>NJ</th>\n",
              "      <td>18200</td>\n",
              "    </tr>\n",
              "    <tr>\n",
              "      <th>NY</th>\n",
              "      <td>6</td>\n",
              "    </tr>\n",
              "    <tr>\n",
              "      <th>PA</th>\n",
              "      <td>5231</td>\n",
              "    </tr>\n",
              "    <tr>\n",
              "      <th rowspan=\"6\" valign=\"top\">2019</th>\n",
              "      <th>CT</th>\n",
              "      <td>2977</td>\n",
              "    </tr>\n",
              "    <tr>\n",
              "      <th>MA</th>\n",
              "      <td>11030</td>\n",
              "    </tr>\n",
              "    <tr>\n",
              "      <th>NH</th>\n",
              "      <td>2011</td>\n",
              "    </tr>\n",
              "    <tr>\n",
              "      <th>NJ</th>\n",
              "      <td>15790</td>\n",
              "    </tr>\n",
              "    <tr>\n",
              "      <th>NY</th>\n",
              "      <td>1332</td>\n",
              "    </tr>\n",
              "    <tr>\n",
              "      <th>PA</th>\n",
              "      <td>12070</td>\n",
              "    </tr>\n",
              "    <tr>\n",
              "      <th rowspan=\"6\" valign=\"top\">2020</th>\n",
              "      <th>CT</th>\n",
              "      <td>3266</td>\n",
              "    </tr>\n",
              "    <tr>\n",
              "      <th>MA</th>\n",
              "      <td>7121</td>\n",
              "    </tr>\n",
              "    <tr>\n",
              "      <th>NH</th>\n",
              "      <td>775</td>\n",
              "    </tr>\n",
              "    <tr>\n",
              "      <th>NJ</th>\n",
              "      <td>5692</td>\n",
              "    </tr>\n",
              "    <tr>\n",
              "      <th>NY</th>\n",
              "      <td>5760</td>\n",
              "    </tr>\n",
              "    <tr>\n",
              "      <th>PA</th>\n",
              "      <td>4120</td>\n",
              "    </tr>\n",
              "  </tbody>\n",
              "</table>\n",
              "</div>"
            ],
            "text/plain": [
              "            pol_id\n",
              "year STATE        \n",
              "2011 CT        998\n",
              "     NH       2397\n",
              "2012 CT        476\n",
              "     NH        291\n",
              "2013 CT       1697\n",
              "     NH        712\n",
              "2014 CT       1765\n",
              "     NH       1280\n",
              "2015 CT       1211\n",
              "     MA       4790\n",
              "     NH       1605\n",
              "     NJ        835\n",
              "2016 CT       3341\n",
              "     MA      29501\n",
              "     NH       2077\n",
              "     NJ       3686\n",
              "2017 CT       2064\n",
              "     MA       6419\n",
              "     NH       1154\n",
              "     NJ       3341\n",
              "     PA        155\n",
              "2018 CT       1727\n",
              "     MA       8430\n",
              "     NH       1371\n",
              "     NJ      18200\n",
              "     NY          6\n",
              "     PA       5231\n",
              "2019 CT       2977\n",
              "     MA      11030\n",
              "     NH       2011\n",
              "     NJ      15790\n",
              "     NY       1332\n",
              "     PA      12070\n",
              "2020 CT       3266\n",
              "     MA       7121\n",
              "     NH        775\n",
              "     NJ       5692\n",
              "     NY       5760\n",
              "     PA       4120"
            ]
          },
          "metadata": {
            "tags": []
          },
          "execution_count": 25
        }
      ]
    },
    {
      "cell_type": "code",
      "metadata": {
        "colab": {
          "base_uri": "https://localhost:8080/",
          "height": 296
        },
        "id": "lyqt_5RnIyZI",
        "outputId": "dc0e98bf-d678-45c7-e765-8ad3ee40d63b"
      },
      "source": [
        "sns.lineplot(x='year', y='pol_id',data=t, hue='STATE')\n",
        "plt.ylabel('number of policy')"
      ],
      "execution_count": 66,
      "outputs": [
        {
          "output_type": "execute_result",
          "data": {
            "text/plain": [
              "Text(0, 0.5, 'number of policy')"
            ]
          },
          "metadata": {
            "tags": []
          },
          "execution_count": 66
        },
        {
          "output_type": "display_data",
          "data": {
            "image/png": "[encoded data removed]",
            "text/plain": [
              "<Figure size 432x288 with 1 Axes>"
            ]
          },
          "metadata": {
            "tags": [],
            "needs_background": "light"
          }
        }
      ]
    },
    {
      "cell_type": "code",
      "metadata": {
        "colab": {
          "base_uri": "https://localhost:8080/",
          "height": 390
        },
        "id": "2kneLjjlXIxe",
        "outputId": "bc94161e-1bc2-4876-bfdb-a70409b3ad1b"
      },
      "source": [
        "# no-hit rate in each year\n",
        "nh_first = pol.groupby(['year'])[['no_hit']].sum()\n",
        "nh_count = pol.groupby(['year'])[['no_hit']].count()\n",
        "per_nh = (nh_first / nh_count).round(3)\n",
        "nh_df = pd.concat([nh_first.rename(columns = {'no_hit':'no_hit count'}), nh_count.rename(columns = {'no_hit':'total new policies'}), per_nh.rename(columns = {'no_hit':'% of no_hit'})], axis=1)\n",
        "nh_df"
      ],
      "execution_count": 27,
      "outputs": [
        {
          "output_type": "execute_result",
          "data": {
            "text/html": [
              "<div>\n",
              "<style scoped>\n",
              "    .dataframe tbody tr th:only-of-type {\n",
              "        vertical-align: middle;\n",
              "    }\n",
              "\n",
              "    .dataframe tbody tr th {\n",
              "        vertical-align: top;\n",
              "    }\n",
              "\n",
              "    .dataframe thead th {\n",
              "        text-align: right;\n",
              "    }\n",
              "</style>\n",
              "<table border=\"1\" class=\"dataframe\">\n",
              "  <thead>\n",
              "    <tr style=\"text-align: right;\">\n",
              "      <th></th>\n",
              "      <th>no_hit count</th>\n",
              "      <th>total new policies</th>\n",
              "      <th>% of no_hit</th>\n",
              "    </tr>\n",
              "    <tr>\n",
              "      <th>year</th>\n",
              "      <th></th>\n",
              "      <th></th>\n",
              "      <th></th>\n",
              "    </tr>\n",
              "  </thead>\n",
              "  <tbody>\n",
              "    <tr>\n",
              "      <th>2011</th>\n",
              "      <td>173</td>\n",
              "      <td>3395</td>\n",
              "      <td>0.051</td>\n",
              "    </tr>\n",
              "    <tr>\n",
              "      <th>2012</th>\n",
              "      <td>28</td>\n",
              "      <td>767</td>\n",
              "      <td>0.037</td>\n",
              "    </tr>\n",
              "    <tr>\n",
              "      <th>2013</th>\n",
              "      <td>82</td>\n",
              "      <td>2409</td>\n",
              "      <td>0.034</td>\n",
              "    </tr>\n",
              "    <tr>\n",
              "      <th>2014</th>\n",
              "      <td>112</td>\n",
              "      <td>3045</td>\n",
              "      <td>0.037</td>\n",
              "    </tr>\n",
              "    <tr>\n",
              "      <th>2015</th>\n",
              "      <td>439</td>\n",
              "      <td>8441</td>\n",
              "      <td>0.052</td>\n",
              "    </tr>\n",
              "    <tr>\n",
              "      <th>2016</th>\n",
              "      <td>1502</td>\n",
              "      <td>38605</td>\n",
              "      <td>0.039</td>\n",
              "    </tr>\n",
              "    <tr>\n",
              "      <th>2017</th>\n",
              "      <td>554</td>\n",
              "      <td>13133</td>\n",
              "      <td>0.042</td>\n",
              "    </tr>\n",
              "    <tr>\n",
              "      <th>2018</th>\n",
              "      <td>1635</td>\n",
              "      <td>34965</td>\n",
              "      <td>0.047</td>\n",
              "    </tr>\n",
              "    <tr>\n",
              "      <th>2019</th>\n",
              "      <td>4385</td>\n",
              "      <td>45210</td>\n",
              "      <td>0.097</td>\n",
              "    </tr>\n",
              "    <tr>\n",
              "      <th>2020</th>\n",
              "      <td>6983</td>\n",
              "      <td>26734</td>\n",
              "      <td>0.261</td>\n",
              "    </tr>\n",
              "  </tbody>\n",
              "</table>\n",
              "</div>"
            ],
            "text/plain": [
              "      no_hit count  total new policies  % of no_hit\n",
              "year                                               \n",
              "2011           173                3395        0.051\n",
              "2012            28                 767        0.037\n",
              "2013            82                2409        0.034\n",
              "2014           112                3045        0.037\n",
              "2015           439                8441        0.052\n",
              "2016          1502               38605        0.039\n",
              "2017           554               13133        0.042\n",
              "2018          1635               34965        0.047\n",
              "2019          4385               45210        0.097\n",
              "2020          6983               26734        0.261"
            ]
          },
          "metadata": {
            "tags": []
          },
          "execution_count": 27
        }
      ]
    },
    {
      "cell_type": "code",
      "metadata": {
        "colab": {
          "base_uri": "https://localhost:8080/",
          "height": 296
        },
        "id": "wMtoDUkXIyVx",
        "outputId": "0667ada3-5e63-4aa5-edb2-becceeaf10d3"
      },
      "source": [
        "sns.lineplot(x=nh_df.index, y='% of no_hit', data=nh_df)"
      ],
      "execution_count": 28,
      "outputs": [
        {
          "output_type": "execute_result",
          "data": {
            "text/plain": [
              "<matplotlib.axes._subplots.AxesSubplot at 0x7f08f5f00690>"
            ]
          },
          "metadata": {
            "tags": []
          },
          "execution_count": 28
        },
        {
          "output_type": "display_data",
          "data": {
            "image/png": "[encoded data removed]",
            "text/plain": [
              "<Figure size 432x288 with 1 Axes>"
            ]
          },
          "metadata": {
            "tags": [],
            "needs_background": "light"
          }
        }
      ]
    },
    {
      "cell_type": "code",
      "metadata": {
        "colab": {
          "base_uri": "https://localhost:8080/",
          "height": 1000
        },
        "id": "Vn_XSCWtMOGE",
        "outputId": "44bb6afa-ba62-4de8-fa53-e1c294e68328"
      },
      "source": [
        "# nohit rate in each state\n",
        "u = pol.groupby(['year','STATE'])\n",
        "o = r.agg({'no_hit':['sum','mean']})\n",
        "o.columns = o.columns.droplevel(0)\n",
        "o"
      ],
      "execution_count": 29,
      "outputs": [
        {
          "output_type": "execute_result",
          "data": {
            "text/html": [
              "<div>\n",
              "<style scoped>\n",
              "    .dataframe tbody tr th:only-of-type {\n",
              "        vertical-align: middle;\n",
              "    }\n",
              "\n",
              "    .dataframe tbody tr th {\n",
              "        vertical-align: top;\n",
              "    }\n",
              "\n",
              "    .dataframe thead th {\n",
              "        text-align: right;\n",
              "    }\n",
              "</style>\n",
              "<table border=\"1\" class=\"dataframe\">\n",
              "  <thead>\n",
              "    <tr style=\"text-align: right;\">\n",
              "      <th></th>\n",
              "      <th></th>\n",
              "      <th>sum</th>\n",
              "      <th>mean</th>\n",
              "    </tr>\n",
              "    <tr>\n",
              "      <th>year</th>\n",
              "      <th>STATE</th>\n",
              "      <th></th>\n",
              "      <th></th>\n",
              "    </tr>\n",
              "  </thead>\n",
              "  <tbody>\n",
              "    <tr>\n",
              "      <th rowspan=\"2\" valign=\"top\">2011</th>\n",
              "      <th>CT</th>\n",
              "      <td>20</td>\n",
              "      <td>0.020040</td>\n",
              "    </tr>\n",
              "    <tr>\n",
              "      <th>NH</th>\n",
              "      <td>153</td>\n",
              "      <td>0.063830</td>\n",
              "    </tr>\n",
              "    <tr>\n",
              "      <th rowspan=\"2\" valign=\"top\">2012</th>\n",
              "      <th>CT</th>\n",
              "      <td>16</td>\n",
              "      <td>0.033613</td>\n",
              "    </tr>\n",
              "    <tr>\n",
              "      <th>NH</th>\n",
              "      <td>12</td>\n",
              "      <td>0.041237</td>\n",
              "    </tr>\n",
              "    <tr>\n",
              "      <th rowspan=\"2\" valign=\"top\">2013</th>\n",
              "      <th>CT</th>\n",
              "      <td>54</td>\n",
              "      <td>0.031821</td>\n",
              "    </tr>\n",
              "    <tr>\n",
              "      <th>NH</th>\n",
              "      <td>28</td>\n",
              "      <td>0.039326</td>\n",
              "    </tr>\n",
              "    <tr>\n",
              "      <th rowspan=\"2\" valign=\"top\">2014</th>\n",
              "      <th>CT</th>\n",
              "      <td>50</td>\n",
              "      <td>0.028329</td>\n",
              "    </tr>\n",
              "    <tr>\n",
              "      <th>NH</th>\n",
              "      <td>62</td>\n",
              "      <td>0.048438</td>\n",
              "    </tr>\n",
              "    <tr>\n",
              "      <th rowspan=\"4\" valign=\"top\">2015</th>\n",
              "      <th>CT</th>\n",
              "      <td>48</td>\n",
              "      <td>0.039637</td>\n",
              "    </tr>\n",
              "    <tr>\n",
              "      <th>MA</th>\n",
              "      <td>226</td>\n",
              "      <td>0.047182</td>\n",
              "    </tr>\n",
              "    <tr>\n",
              "      <th>NH</th>\n",
              "      <td>106</td>\n",
              "      <td>0.066044</td>\n",
              "    </tr>\n",
              "    <tr>\n",
              "      <th>NJ</th>\n",
              "      <td>59</td>\n",
              "      <td>0.070659</td>\n",
              "    </tr>\n",
              "    <tr>\n",
              "      <th rowspan=\"4\" valign=\"top\">2016</th>\n",
              "      <th>CT</th>\n",
              "      <td>91</td>\n",
              "      <td>0.027237</td>\n",
              "    </tr>\n",
              "    <tr>\n",
              "      <th>MA</th>\n",
              "      <td>1016</td>\n",
              "      <td>0.034440</td>\n",
              "    </tr>\n",
              "    <tr>\n",
              "      <th>NH</th>\n",
              "      <td>227</td>\n",
              "      <td>0.109292</td>\n",
              "    </tr>\n",
              "    <tr>\n",
              "      <th>NJ</th>\n",
              "      <td>168</td>\n",
              "      <td>0.045578</td>\n",
              "    </tr>\n",
              "    <tr>\n",
              "      <th rowspan=\"5\" valign=\"top\">2017</th>\n",
              "      <th>CT</th>\n",
              "      <td>75</td>\n",
              "      <td>0.036337</td>\n",
              "    </tr>\n",
              "    <tr>\n",
              "      <th>MA</th>\n",
              "      <td>211</td>\n",
              "      <td>0.032871</td>\n",
              "    </tr>\n",
              "    <tr>\n",
              "      <th>NH</th>\n",
              "      <td>83</td>\n",
              "      <td>0.071924</td>\n",
              "    </tr>\n",
              "    <tr>\n",
              "      <th>NJ</th>\n",
              "      <td>180</td>\n",
              "      <td>0.053876</td>\n",
              "    </tr>\n",
              "    <tr>\n",
              "      <th>PA</th>\n",
              "      <td>5</td>\n",
              "      <td>0.032258</td>\n",
              "    </tr>\n",
              "    <tr>\n",
              "      <th rowspan=\"6\" valign=\"top\">2018</th>\n",
              "      <th>CT</th>\n",
              "      <td>73</td>\n",
              "      <td>0.042270</td>\n",
              "    </tr>\n",
              "    <tr>\n",
              "      <th>MA</th>\n",
              "      <td>243</td>\n",
              "      <td>0.028826</td>\n",
              "    </tr>\n",
              "    <tr>\n",
              "      <th>NH</th>\n",
              "      <td>129</td>\n",
              "      <td>0.094092</td>\n",
              "    </tr>\n",
              "    <tr>\n",
              "      <th>NJ</th>\n",
              "      <td>643</td>\n",
              "      <td>0.035330</td>\n",
              "    </tr>\n",
              "    <tr>\n",
              "      <th>NY</th>\n",
              "      <td>1</td>\n",
              "      <td>0.166667</td>\n",
              "    </tr>\n",
              "    <tr>\n",
              "      <th>PA</th>\n",
              "      <td>546</td>\n",
              "      <td>0.104378</td>\n",
              "    </tr>\n",
              "    <tr>\n",
              "      <th rowspan=\"6\" valign=\"top\">2019</th>\n",
              "      <th>CT</th>\n",
              "      <td>351</td>\n",
              "      <td>0.117904</td>\n",
              "    </tr>\n",
              "    <tr>\n",
              "      <th>MA</th>\n",
              "      <td>721</td>\n",
              "      <td>0.065367</td>\n",
              "    </tr>\n",
              "    <tr>\n",
              "      <th>NH</th>\n",
              "      <td>278</td>\n",
              "      <td>0.138240</td>\n",
              "    </tr>\n",
              "    <tr>\n",
              "      <th>NJ</th>\n",
              "      <td>1254</td>\n",
              "      <td>0.079417</td>\n",
              "    </tr>\n",
              "    <tr>\n",
              "      <th>NY</th>\n",
              "      <td>192</td>\n",
              "      <td>0.144144</td>\n",
              "    </tr>\n",
              "    <tr>\n",
              "      <th>PA</th>\n",
              "      <td>1589</td>\n",
              "      <td>0.131649</td>\n",
              "    </tr>\n",
              "    <tr>\n",
              "      <th rowspan=\"6\" valign=\"top\">2020</th>\n",
              "      <th>CT</th>\n",
              "      <td>1129</td>\n",
              "      <td>0.345683</td>\n",
              "    </tr>\n",
              "    <tr>\n",
              "      <th>MA</th>\n",
              "      <td>1562</td>\n",
              "      <td>0.219351</td>\n",
              "    </tr>\n",
              "    <tr>\n",
              "      <th>NH</th>\n",
              "      <td>266</td>\n",
              "      <td>0.343226</td>\n",
              "    </tr>\n",
              "    <tr>\n",
              "      <th>NJ</th>\n",
              "      <td>1435</td>\n",
              "      <td>0.252108</td>\n",
              "    </tr>\n",
              "    <tr>\n",
              "      <th>NY</th>\n",
              "      <td>1136</td>\n",
              "      <td>0.197222</td>\n",
              "    </tr>\n",
              "    <tr>\n",
              "      <th>PA</th>\n",
              "      <td>1455</td>\n",
              "      <td>0.353155</td>\n",
              "    </tr>\n",
              "  </tbody>\n",
              "</table>\n",
              "</div>"
            ],
            "text/plain": [
              "             sum      mean\n",
              "year STATE                \n",
              "2011 CT       20  0.020040\n",
              "     NH      153  0.063830\n",
              "2012 CT       16  0.033613\n",
              "     NH       12  0.041237\n",
              "2013 CT       54  0.031821\n",
              "     NH       28  0.039326\n",
              "2014 CT       50  0.028329\n",
              "     NH       62  0.048438\n",
              "2015 CT       48  0.039637\n",
              "     MA      226  0.047182\n",
              "     NH      106  0.066044\n",
              "     NJ       59  0.070659\n",
              "2016 CT       91  0.027237\n",
              "     MA     1016  0.034440\n",
              "     NH      227  0.109292\n",
              "     NJ      168  0.045578\n",
              "2017 CT       75  0.036337\n",
              "     MA      211  0.032871\n",
              "     NH       83  0.071924\n",
              "     NJ      180  0.053876\n",
              "     PA        5  0.032258\n",
              "2018 CT       73  0.042270\n",
              "     MA      243  0.028826\n",
              "     NH      129  0.094092\n",
              "     NJ      643  0.035330\n",
              "     NY        1  0.166667\n",
              "     PA      546  0.104378\n",
              "2019 CT      351  0.117904\n",
              "     MA      721  0.065367\n",
              "     NH      278  0.138240\n",
              "     NJ     1254  0.079417\n",
              "     NY      192  0.144144\n",
              "     PA     1589  0.131649\n",
              "2020 CT     1129  0.345683\n",
              "     MA     1562  0.219351\n",
              "     NH      266  0.343226\n",
              "     NJ     1435  0.252108\n",
              "     NY     1136  0.197222\n",
              "     PA     1455  0.353155"
            ]
          },
          "metadata": {
            "tags": []
          },
          "execution_count": 29
        }
      ]
    },
    {
      "cell_type": "code",
      "metadata": {
        "colab": {
          "base_uri": "https://localhost:8080/",
          "height": 296
        },
        "id": "Ll2zIFTTMOBy",
        "outputId": "07e5779b-9b0d-4cf2-abb9-886f9a295f66"
      },
      "source": [
        "sns.lineplot(x='year', y='mean',data=o, hue='STATE', palette = \"YlOrRd\")\n",
        "plt.ylabel('% no-hit')"
      ],
      "execution_count": 30,
      "outputs": [
        {
          "output_type": "execute_result",
          "data": {
            "text/plain": [
              "Text(0, 0.5, '% no-hit')"
            ]
          },
          "metadata": {
            "tags": []
          },
          "execution_count": 30
        },
        {
          "output_type": "display_data",
          "data": {
            "image/png": "[encoded data removed]",
            "text/plain": [
              "<Figure size 432x288 with 1 Axes>"
            ]
          },
          "metadata": {
            "tags": [],
            "needs_background": "light"
          }
        }
      ]
    },
    {
      "cell_type": "code",
      "metadata": {
        "id": "Xq61FIRaMN-6"
      },
      "source": [
        ""
      ],
      "execution_count": 30,
      "outputs": []
    },
    {
      "cell_type": "markdown",
      "metadata": {
        "id": "gN9435gGOyLH"
      },
      "source": [
        "> ### By policy id + years\n",
        "* each policy id has a few records throughout several years"
      ]
    },
    {
      "cell_type": "code",
      "metadata": {
        "id": "RXmSdGSDwtpi"
      },
      "source": [
        "df = pd.read_csv('/content/drive/MyDrive/BU Capstone Team2 Credit No_hit/Data/team2_driver.csv.gz')"
      ],
      "execution_count": 33,
      "outputs": []
    },
    {
      "cell_type": "code",
      "metadata": {
        "id": "7urwelTwFQdM",
        "colab": {
          "base_uri": "https://localhost:8080/",
          "height": 450
        },
        "outputId": "48eecede-45b5-4b80-f476-f00cedfcc5ad"
      },
      "source": [
        "# unique combinations\n",
        "df.groupby(['pol_id','year']).nunique()"
      ],
      "execution_count": 34,
      "outputs": [
        {
          "output_type": "execute_result",
          "data": {
            "text/html": [
              "<div>\n",
              "<style scoped>\n",
              "    .dataframe tbody tr th:only-of-type {\n",
              "        vertical-align: middle;\n",
              "    }\n",
              "\n",
              "    .dataframe tbody tr th {\n",
              "        vertical-align: top;\n",
              "    }\n",
              "\n",
              "    .dataframe thead th {\n",
              "        text-align: right;\n",
              "    }\n",
              "</style>\n",
              "<table border=\"1\" class=\"dataframe\">\n",
              "  <thead>\n",
              "    <tr style=\"text-align: right;\">\n",
              "      <th></th>\n",
              "      <th></th>\n",
              "      <th>STATE</th>\n",
              "      <th>ZIP5</th>\n",
              "      <th>ZIP4</th>\n",
              "      <th>no_hit</th>\n",
              "    </tr>\n",
              "    <tr>\n",
              "      <th>pol_id</th>\n",
              "      <th>year</th>\n",
              "      <th></th>\n",
              "      <th></th>\n",
              "      <th></th>\n",
              "      <th></th>\n",
              "    </tr>\n",
              "  </thead>\n",
              "  <tbody>\n",
              "    <tr>\n",
              "      <th rowspan=\"5\" valign=\"top\">BHD00001001024</th>\n",
              "      <th>2016</th>\n",
              "      <td>1</td>\n",
              "      <td>1</td>\n",
              "      <td>1</td>\n",
              "      <td>1</td>\n",
              "    </tr>\n",
              "    <tr>\n",
              "      <th>2017</th>\n",
              "      <td>1</td>\n",
              "      <td>1</td>\n",
              "      <td>1</td>\n",
              "      <td>1</td>\n",
              "    </tr>\n",
              "    <tr>\n",
              "      <th>2018</th>\n",
              "      <td>1</td>\n",
              "      <td>1</td>\n",
              "      <td>1</td>\n",
              "      <td>1</td>\n",
              "    </tr>\n",
              "    <tr>\n",
              "      <th>2019</th>\n",
              "      <td>1</td>\n",
              "      <td>1</td>\n",
              "      <td>1</td>\n",
              "      <td>1</td>\n",
              "    </tr>\n",
              "    <tr>\n",
              "      <th>2020</th>\n",
              "      <td>1</td>\n",
              "      <td>1</td>\n",
              "      <td>1</td>\n",
              "      <td>1</td>\n",
              "    </tr>\n",
              "    <tr>\n",
              "      <th>...</th>\n",
              "      <th>...</th>\n",
              "      <td>...</td>\n",
              "      <td>...</td>\n",
              "      <td>...</td>\n",
              "      <td>...</td>\n",
              "    </tr>\n",
              "    <tr>\n",
              "      <th>PNH00002031681</th>\n",
              "      <th>2020</th>\n",
              "      <td>1</td>\n",
              "      <td>1</td>\n",
              "      <td>1</td>\n",
              "      <td>1</td>\n",
              "    </tr>\n",
              "    <tr>\n",
              "      <th>PNH00002031723</th>\n",
              "      <th>2019</th>\n",
              "      <td>1</td>\n",
              "      <td>1</td>\n",
              "      <td>1</td>\n",
              "      <td>1</td>\n",
              "    </tr>\n",
              "    <tr>\n",
              "      <th rowspan=\"2\" valign=\"top\">PNH00002031929</th>\n",
              "      <th>2018</th>\n",
              "      <td>1</td>\n",
              "      <td>1</td>\n",
              "      <td>1</td>\n",
              "      <td>1</td>\n",
              "    </tr>\n",
              "    <tr>\n",
              "      <th>2019</th>\n",
              "      <td>1</td>\n",
              "      <td>1</td>\n",
              "      <td>1</td>\n",
              "      <td>1</td>\n",
              "    </tr>\n",
              "    <tr>\n",
              "      <th>PNH00002032007</th>\n",
              "      <th>2019</th>\n",
              "      <td>1</td>\n",
              "      <td>1</td>\n",
              "      <td>1</td>\n",
              "      <td>1</td>\n",
              "    </tr>\n",
              "  </tbody>\n",
              "</table>\n",
              "<p>400719 rows × 4 columns</p>\n",
              "</div>"
            ],
            "text/plain": [
              "                     STATE  ZIP5  ZIP4  no_hit\n",
              "pol_id         year                           \n",
              "BHD00001001024 2016      1     1     1       1\n",
              "               2017      1     1     1       1\n",
              "               2018      1     1     1       1\n",
              "               2019      1     1     1       1\n",
              "               2020      1     1     1       1\n",
              "...                    ...   ...   ...     ...\n",
              "PNH00002031681 2020      1     1     1       1\n",
              "PNH00002031723 2019      1     1     1       1\n",
              "PNH00002031929 2018      1     1     1       1\n",
              "               2019      1     1     1       1\n",
              "PNH00002032007 2019      1     1     1       1\n",
              "\n",
              "[400719 rows x 4 columns]"
            ]
          },
          "metadata": {
            "tags": []
          },
          "execution_count": 34
        }
      ]
    },
    {
      "cell_type": "code",
      "metadata": {
        "colab": {
          "base_uri": "https://localhost:8080/",
          "height": 390
        },
        "id": "VgB2E3-wI0Mx",
        "outputId": "07f8099b-d28d-4a70-ffba-cf1690e1acaf"
      },
      "source": [
        "# How many policies in each year (a policy may appear in different year)\n",
        "grouped_df1 = df.groupby('year').agg({'pol_id': 'nunique'})\n",
        "grouped_df1"
      ],
      "execution_count": 35,
      "outputs": [
        {
          "output_type": "execute_result",
          "data": {
            "text/html": [
              "<div>\n",
              "<style scoped>\n",
              "    .dataframe tbody tr th:only-of-type {\n",
              "        vertical-align: middle;\n",
              "    }\n",
              "\n",
              "    .dataframe tbody tr th {\n",
              "        vertical-align: top;\n",
              "    }\n",
              "\n",
              "    .dataframe thead th {\n",
              "        text-align: right;\n",
              "    }\n",
              "</style>\n",
              "<table border=\"1\" class=\"dataframe\">\n",
              "  <thead>\n",
              "    <tr style=\"text-align: right;\">\n",
              "      <th></th>\n",
              "      <th>pol_id</th>\n",
              "    </tr>\n",
              "    <tr>\n",
              "      <th>year</th>\n",
              "      <th></th>\n",
              "    </tr>\n",
              "  </thead>\n",
              "  <tbody>\n",
              "    <tr>\n",
              "      <th>2011</th>\n",
              "      <td>3395</td>\n",
              "    </tr>\n",
              "    <tr>\n",
              "      <th>2012</th>\n",
              "      <td>4084</td>\n",
              "    </tr>\n",
              "    <tr>\n",
              "      <th>2013</th>\n",
              "      <td>6421</td>\n",
              "    </tr>\n",
              "    <tr>\n",
              "      <th>2014</th>\n",
              "      <td>9307</td>\n",
              "    </tr>\n",
              "    <tr>\n",
              "      <th>2015</th>\n",
              "      <td>17002</td>\n",
              "    </tr>\n",
              "    <tr>\n",
              "      <th>2016</th>\n",
              "      <td>48540</td>\n",
              "    </tr>\n",
              "    <tr>\n",
              "      <th>2017</th>\n",
              "      <td>54852</td>\n",
              "    </tr>\n",
              "    <tr>\n",
              "      <th>2018</th>\n",
              "      <td>82698</td>\n",
              "    </tr>\n",
              "    <tr>\n",
              "      <th>2019</th>\n",
              "      <td>118134</td>\n",
              "    </tr>\n",
              "    <tr>\n",
              "      <th>2020</th>\n",
              "      <td>56286</td>\n",
              "    </tr>\n",
              "  </tbody>\n",
              "</table>\n",
              "</div>"
            ],
            "text/plain": [
              "      pol_id\n",
              "year        \n",
              "2011    3395\n",
              "2012    4084\n",
              "2013    6421\n",
              "2014    9307\n",
              "2015   17002\n",
              "2016   48540\n",
              "2017   54852\n",
              "2018   82698\n",
              "2019  118134\n",
              "2020   56286"
            ]
          },
          "metadata": {
            "tags": []
          },
          "execution_count": 35
        }
      ]
    },
    {
      "cell_type": "code",
      "metadata": {
        "id": "9Y5c4Z9_THkq",
        "colab": {
          "base_uri": "https://localhost:8080/",
          "height": 400
        },
        "outputId": "9c7f8d6a-266f-4249-9f1e-bed6426b73b3"
      },
      "source": [
        "sns.catplot(kind='count', x='year', data=df, palette = \"YlOrRd\")"
      ],
      "execution_count": 36,
      "outputs": [
        {
          "output_type": "execute_result",
          "data": {
            "text/plain": [
              "<seaborn.axisgrid.FacetGrid at 0x7f08f5cabf10>"
            ]
          },
          "metadata": {
            "tags": []
          },
          "execution_count": 36
        },
        {
          "output_type": "display_data",
          "data": {
            "image/png": "[encoded data removed]",
            "text/plain": [
              "<Figure size 360x360 with 1 Axes>"
            ]
          },
          "metadata": {
            "tags": [],
            "needs_background": "light"
          }
        }
      ]
    },
    {
      "cell_type": "code",
      "metadata": {
        "id": "qNYp0TQEMN1V",
        "colab": {
          "base_uri": "https://localhost:8080/",
          "height": 390
        },
        "outputId": "224810e4-8612-4d02-ce84-693eb6bdad75"
      },
      "source": [
        "# combine table\n",
        "pd.concat([group_year.rename(columns = {'pol_id':'new policies'}), grouped_df1.rename(columns={'pol_id':'total policies'})], axis=1)"
      ],
      "execution_count": 37,
      "outputs": [
        {
          "output_type": "execute_result",
          "data": {
            "text/html": [
              "<div>\n",
              "<style scoped>\n",
              "    .dataframe tbody tr th:only-of-type {\n",
              "        vertical-align: middle;\n",
              "    }\n",
              "\n",
              "    .dataframe tbody tr th {\n",
              "        vertical-align: top;\n",
              "    }\n",
              "\n",
              "    .dataframe thead th {\n",
              "        text-align: right;\n",
              "    }\n",
              "</style>\n",
              "<table border=\"1\" class=\"dataframe\">\n",
              "  <thead>\n",
              "    <tr style=\"text-align: right;\">\n",
              "      <th></th>\n",
              "      <th>new policies</th>\n",
              "      <th>total policies</th>\n",
              "    </tr>\n",
              "    <tr>\n",
              "      <th>year</th>\n",
              "      <th></th>\n",
              "      <th></th>\n",
              "    </tr>\n",
              "  </thead>\n",
              "  <tbody>\n",
              "    <tr>\n",
              "      <th>2011</th>\n",
              "      <td>3395</td>\n",
              "      <td>3395</td>\n",
              "    </tr>\n",
              "    <tr>\n",
              "      <th>2012</th>\n",
              "      <td>767</td>\n",
              "      <td>4084</td>\n",
              "    </tr>\n",
              "    <tr>\n",
              "      <th>2013</th>\n",
              "      <td>2409</td>\n",
              "      <td>6421</td>\n",
              "    </tr>\n",
              "    <tr>\n",
              "      <th>2014</th>\n",
              "      <td>3045</td>\n",
              "      <td>9307</td>\n",
              "    </tr>\n",
              "    <tr>\n",
              "      <th>2015</th>\n",
              "      <td>8441</td>\n",
              "      <td>17002</td>\n",
              "    </tr>\n",
              "    <tr>\n",
              "      <th>2016</th>\n",
              "      <td>38605</td>\n",
              "      <td>48540</td>\n",
              "    </tr>\n",
              "    <tr>\n",
              "      <th>2017</th>\n",
              "      <td>13133</td>\n",
              "      <td>54852</td>\n",
              "    </tr>\n",
              "    <tr>\n",
              "      <th>2018</th>\n",
              "      <td>34965</td>\n",
              "      <td>82698</td>\n",
              "    </tr>\n",
              "    <tr>\n",
              "      <th>2019</th>\n",
              "      <td>45210</td>\n",
              "      <td>118134</td>\n",
              "    </tr>\n",
              "    <tr>\n",
              "      <th>2020</th>\n",
              "      <td>26734</td>\n",
              "      <td>56286</td>\n",
              "    </tr>\n",
              "  </tbody>\n",
              "</table>\n",
              "</div>"
            ],
            "text/plain": [
              "      new policies  total policies\n",
              "year                              \n",
              "2011          3395            3395\n",
              "2012           767            4084\n",
              "2013          2409            6421\n",
              "2014          3045            9307\n",
              "2015          8441           17002\n",
              "2016         38605           48540\n",
              "2017         13133           54852\n",
              "2018         34965           82698\n",
              "2019         45210          118134\n",
              "2020         26734           56286"
            ]
          },
          "metadata": {
            "tags": []
          },
          "execution_count": 37
        }
      ]
    },
    {
      "cell_type": "code",
      "metadata": {
        "id": "Aeo0VH5ARioS",
        "colab": {
          "base_uri": "https://localhost:8080/",
          "height": 1000
        },
        "outputId": "ba21a879-e509-4c72-f016-ccb2ff3bc02d"
      },
      "source": [
        "# policy in each state\n",
        "i = df.groupby(['year','STATE'])\n",
        "p = i.agg({'pol_id':'nunique'})\n",
        "p"
      ],
      "execution_count": 38,
      "outputs": [
        {
          "output_type": "execute_result",
          "data": {
            "text/html": [
              "<div>\n",
              "<style scoped>\n",
              "    .dataframe tbody tr th:only-of-type {\n",
              "        vertical-align: middle;\n",
              "    }\n",
              "\n",
              "    .dataframe tbody tr th {\n",
              "        vertical-align: top;\n",
              "    }\n",
              "\n",
              "    .dataframe thead th {\n",
              "        text-align: right;\n",
              "    }\n",
              "</style>\n",
              "<table border=\"1\" class=\"dataframe\">\n",
              "  <thead>\n",
              "    <tr style=\"text-align: right;\">\n",
              "      <th></th>\n",
              "      <th></th>\n",
              "      <th>pol_id</th>\n",
              "    </tr>\n",
              "    <tr>\n",
              "      <th>year</th>\n",
              "      <th>STATE</th>\n",
              "      <th></th>\n",
              "    </tr>\n",
              "  </thead>\n",
              "  <tbody>\n",
              "    <tr>\n",
              "      <th rowspan=\"2\" valign=\"top\">2011</th>\n",
              "      <th>CT</th>\n",
              "      <td>998</td>\n",
              "    </tr>\n",
              "    <tr>\n",
              "      <th>NH</th>\n",
              "      <td>2397</td>\n",
              "    </tr>\n",
              "    <tr>\n",
              "      <th rowspan=\"2\" valign=\"top\">2012</th>\n",
              "      <th>CT</th>\n",
              "      <td>1440</td>\n",
              "    </tr>\n",
              "    <tr>\n",
              "      <th>NH</th>\n",
              "      <td>2644</td>\n",
              "    </tr>\n",
              "    <tr>\n",
              "      <th rowspan=\"2\" valign=\"top\">2013</th>\n",
              "      <th>CT</th>\n",
              "      <td>3112</td>\n",
              "    </tr>\n",
              "    <tr>\n",
              "      <th>NH</th>\n",
              "      <td>3309</td>\n",
              "    </tr>\n",
              "    <tr>\n",
              "      <th rowspan=\"2\" valign=\"top\">2014</th>\n",
              "      <th>CT</th>\n",
              "      <td>4812</td>\n",
              "    </tr>\n",
              "    <tr>\n",
              "      <th>NH</th>\n",
              "      <td>4495</td>\n",
              "    </tr>\n",
              "    <tr>\n",
              "      <th rowspan=\"4\" valign=\"top\">2015</th>\n",
              "      <th>CT</th>\n",
              "      <td>5580</td>\n",
              "    </tr>\n",
              "    <tr>\n",
              "      <th>MA</th>\n",
              "      <td>4791</td>\n",
              "    </tr>\n",
              "    <tr>\n",
              "      <th>NH</th>\n",
              "      <td>5796</td>\n",
              "    </tr>\n",
              "    <tr>\n",
              "      <th>NJ</th>\n",
              "      <td>835</td>\n",
              "    </tr>\n",
              "    <tr>\n",
              "      <th rowspan=\"4\" valign=\"top\">2016</th>\n",
              "      <th>CT</th>\n",
              "      <td>7917</td>\n",
              "    </tr>\n",
              "    <tr>\n",
              "      <th>MA</th>\n",
              "      <td>29885</td>\n",
              "    </tr>\n",
              "    <tr>\n",
              "      <th>NH</th>\n",
              "      <td>7003</td>\n",
              "    </tr>\n",
              "    <tr>\n",
              "      <th>NJ</th>\n",
              "      <td>3735</td>\n",
              "    </tr>\n",
              "    <tr>\n",
              "      <th rowspan=\"5\" valign=\"top\">2017</th>\n",
              "      <th>CT</th>\n",
              "      <td>8692</td>\n",
              "    </tr>\n",
              "    <tr>\n",
              "      <th>MA</th>\n",
              "      <td>32341</td>\n",
              "    </tr>\n",
              "    <tr>\n",
              "      <th>NH</th>\n",
              "      <td>7261</td>\n",
              "    </tr>\n",
              "    <tr>\n",
              "      <th>NJ</th>\n",
              "      <td>6403</td>\n",
              "    </tr>\n",
              "    <tr>\n",
              "      <th>PA</th>\n",
              "      <td>155</td>\n",
              "    </tr>\n",
              "    <tr>\n",
              "      <th rowspan=\"6\" valign=\"top\">2018</th>\n",
              "      <th>CT</th>\n",
              "      <td>8886</td>\n",
              "    </tr>\n",
              "    <tr>\n",
              "      <th>MA</th>\n",
              "      <td>37039</td>\n",
              "    </tr>\n",
              "    <tr>\n",
              "      <th>NH</th>\n",
              "      <td>7682</td>\n",
              "    </tr>\n",
              "    <tr>\n",
              "      <th>NJ</th>\n",
              "      <td>23716</td>\n",
              "    </tr>\n",
              "    <tr>\n",
              "      <th>NY</th>\n",
              "      <td>6</td>\n",
              "    </tr>\n",
              "    <tr>\n",
              "      <th>PA</th>\n",
              "      <td>5369</td>\n",
              "    </tr>\n",
              "    <tr>\n",
              "      <th rowspan=\"6\" valign=\"top\">2019</th>\n",
              "      <th>CT</th>\n",
              "      <td>10017</td>\n",
              "    </tr>\n",
              "    <tr>\n",
              "      <th>MA</th>\n",
              "      <td>44246</td>\n",
              "    </tr>\n",
              "    <tr>\n",
              "      <th>NH</th>\n",
              "      <td>8813</td>\n",
              "    </tr>\n",
              "    <tr>\n",
              "      <th>NJ</th>\n",
              "      <td>36972</td>\n",
              "    </tr>\n",
              "    <tr>\n",
              "      <th>NY</th>\n",
              "      <td>1338</td>\n",
              "    </tr>\n",
              "    <tr>\n",
              "      <th>PA</th>\n",
              "      <td>16748</td>\n",
              "    </tr>\n",
              "    <tr>\n",
              "      <th rowspan=\"6\" valign=\"top\">2020</th>\n",
              "      <th>CT</th>\n",
              "      <td>4606</td>\n",
              "    </tr>\n",
              "    <tr>\n",
              "      <th>MA</th>\n",
              "      <td>23816</td>\n",
              "    </tr>\n",
              "    <tr>\n",
              "      <th>NH</th>\n",
              "      <td>1765</td>\n",
              "    </tr>\n",
              "    <tr>\n",
              "      <th>NJ</th>\n",
              "      <td>10625</td>\n",
              "    </tr>\n",
              "    <tr>\n",
              "      <th>NY</th>\n",
              "      <td>5963</td>\n",
              "    </tr>\n",
              "    <tr>\n",
              "      <th>PA</th>\n",
              "      <td>9511</td>\n",
              "    </tr>\n",
              "  </tbody>\n",
              "</table>\n",
              "</div>"
            ],
            "text/plain": [
              "            pol_id\n",
              "year STATE        \n",
              "2011 CT        998\n",
              "     NH       2397\n",
              "2012 CT       1440\n",
              "     NH       2644\n",
              "2013 CT       3112\n",
              "     NH       3309\n",
              "2014 CT       4812\n",
              "     NH       4495\n",
              "2015 CT       5580\n",
              "     MA       4791\n",
              "     NH       5796\n",
              "     NJ        835\n",
              "2016 CT       7917\n",
              "     MA      29885\n",
              "     NH       7003\n",
              "     NJ       3735\n",
              "2017 CT       8692\n",
              "     MA      32341\n",
              "     NH       7261\n",
              "     NJ       6403\n",
              "     PA        155\n",
              "2018 CT       8886\n",
              "     MA      37039\n",
              "     NH       7682\n",
              "     NJ      23716\n",
              "     NY          6\n",
              "     PA       5369\n",
              "2019 CT      10017\n",
              "     MA      44246\n",
              "     NH       8813\n",
              "     NJ      36972\n",
              "     NY       1338\n",
              "     PA      16748\n",
              "2020 CT       4606\n",
              "     MA      23816\n",
              "     NH       1765\n",
              "     NJ      10625\n",
              "     NY       5963\n",
              "     PA       9511"
            ]
          },
          "metadata": {
            "tags": []
          },
          "execution_count": 38
        }
      ]
    },
    {
      "cell_type": "code",
      "metadata": {
        "id": "hglWBXbPRqyt",
        "colab": {
          "base_uri": "https://localhost:8080/",
          "height": 296
        },
        "outputId": "7cf29d79-8488-4cf4-c5a7-79bdcda79301"
      },
      "source": [
        "sns.lineplot(x='year', y='pol_id',data=p, hue='STATE', palette = \"YlOrRd\")\n",
        "plt.ylabel('number of policy')"
      ],
      "execution_count": 65,
      "outputs": [
        {
          "output_type": "execute_result",
          "data": {
            "text/plain": [
              "Text(0, 0.5, 'number of policy')"
            ]
          },
          "metadata": {
            "tags": []
          },
          "execution_count": 65
        },
        {
          "output_type": "display_data",
          "data": {
            "image/png": "[encoded data removed]",
            "text/plain": [
              "<Figure size 432x288 with 1 Axes>"
            ]
          },
          "metadata": {
            "tags": [],
            "needs_background": "light"
          }
        }
      ]
    },
    {
      "cell_type": "code",
      "metadata": {
        "id": "X-jRBvvbhE_L"
      },
      "source": [
        "# cumulative no_hit\n",
        "nh_c = df.groupby(['year'])[['no_hit']].sum()\n",
        "nht_count = df.groupby(['year'])[['no_hit']].count()\n",
        "per_nht = (nh_c / nht_count).round(3)\n",
        "nht_df = pd.concat([nh_c.rename(columns = {'no_hit':'no_hit count(cumulative)'}), nht_count.rename(columns = {'no_hit':'total policies'}), per_nht.rename(columns = {'no_hit':'% of no_hit(cumulative)'})], axis=1)"
      ],
      "execution_count": 40,
      "outputs": []
    },
    {
      "cell_type": "code",
      "metadata": {
        "id": "YMr6FDD1VBfZ",
        "colab": {
          "base_uri": "https://localhost:8080/",
          "height": 390
        },
        "outputId": "5d05d131-30ab-4ee3-b1a6-6d5cf054b70b"
      },
      "source": [
        "nht_df"
      ],
      "execution_count": 41,
      "outputs": [
        {
          "output_type": "execute_result",
          "data": {
            "text/html": [
              "<div>\n",
              "<style scoped>\n",
              "    .dataframe tbody tr th:only-of-type {\n",
              "        vertical-align: middle;\n",
              "    }\n",
              "\n",
              "    .dataframe tbody tr th {\n",
              "        vertical-align: top;\n",
              "    }\n",
              "\n",
              "    .dataframe thead th {\n",
              "        text-align: right;\n",
              "    }\n",
              "</style>\n",
              "<table border=\"1\" class=\"dataframe\">\n",
              "  <thead>\n",
              "    <tr style=\"text-align: right;\">\n",
              "      <th></th>\n",
              "      <th>no_hit count(cumulative)</th>\n",
              "      <th>total policies</th>\n",
              "      <th>% of no_hit(cumulative)</th>\n",
              "    </tr>\n",
              "    <tr>\n",
              "      <th>year</th>\n",
              "      <th></th>\n",
              "      <th></th>\n",
              "      <th></th>\n",
              "    </tr>\n",
              "  </thead>\n",
              "  <tbody>\n",
              "    <tr>\n",
              "      <th>2011</th>\n",
              "      <td>273</td>\n",
              "      <td>3395</td>\n",
              "      <td>0.080</td>\n",
              "    </tr>\n",
              "    <tr>\n",
              "      <th>2012</th>\n",
              "      <td>327</td>\n",
              "      <td>4084</td>\n",
              "      <td>0.080</td>\n",
              "    </tr>\n",
              "    <tr>\n",
              "      <th>2013</th>\n",
              "      <td>587</td>\n",
              "      <td>6421</td>\n",
              "      <td>0.091</td>\n",
              "    </tr>\n",
              "    <tr>\n",
              "      <th>2014</th>\n",
              "      <td>697</td>\n",
              "      <td>9307</td>\n",
              "      <td>0.075</td>\n",
              "    </tr>\n",
              "    <tr>\n",
              "      <th>2015</th>\n",
              "      <td>1086</td>\n",
              "      <td>17002</td>\n",
              "      <td>0.064</td>\n",
              "    </tr>\n",
              "    <tr>\n",
              "      <th>2016</th>\n",
              "      <td>4086</td>\n",
              "      <td>48540</td>\n",
              "      <td>0.084</td>\n",
              "    </tr>\n",
              "    <tr>\n",
              "      <th>2017</th>\n",
              "      <td>4810</td>\n",
              "      <td>54852</td>\n",
              "      <td>0.088</td>\n",
              "    </tr>\n",
              "    <tr>\n",
              "      <th>2018</th>\n",
              "      <td>7461</td>\n",
              "      <td>82698</td>\n",
              "      <td>0.090</td>\n",
              "    </tr>\n",
              "    <tr>\n",
              "      <th>2019</th>\n",
              "      <td>9863</td>\n",
              "      <td>118134</td>\n",
              "      <td>0.083</td>\n",
              "    </tr>\n",
              "    <tr>\n",
              "      <th>2020</th>\n",
              "      <td>8906</td>\n",
              "      <td>56286</td>\n",
              "      <td>0.158</td>\n",
              "    </tr>\n",
              "  </tbody>\n",
              "</table>\n",
              "</div>"
            ],
            "text/plain": [
              "      no_hit count(cumulative)  total policies  % of no_hit(cumulative)\n",
              "year                                                                   \n",
              "2011                       273            3395                    0.080\n",
              "2012                       327            4084                    0.080\n",
              "2013                       587            6421                    0.091\n",
              "2014                       697            9307                    0.075\n",
              "2015                      1086           17002                    0.064\n",
              "2016                      4086           48540                    0.084\n",
              "2017                      4810           54852                    0.088\n",
              "2018                      7461           82698                    0.090\n",
              "2019                      9863          118134                    0.083\n",
              "2020                      8906           56286                    0.158"
            ]
          },
          "metadata": {
            "tags": []
          },
          "execution_count": 41
        }
      ]
    },
    {
      "cell_type": "code",
      "metadata": {
        "id": "UHdHz-IgSWKt",
        "colab": {
          "base_uri": "https://localhost:8080/",
          "height": 390
        },
        "outputId": "99e1cb8c-c3b3-400a-a97a-49e6edc94c7d"
      },
      "source": [
        "# combine table\n",
        "combined = pd.concat([nh_df,nht_df], axis=1)\n",
        "combined"
      ],
      "execution_count": 42,
      "outputs": [
        {
          "output_type": "execute_result",
          "data": {
            "text/html": [
              "<div>\n",
              "<style scoped>\n",
              "    .dataframe tbody tr th:only-of-type {\n",
              "        vertical-align: middle;\n",
              "    }\n",
              "\n",
              "    .dataframe tbody tr th {\n",
              "        vertical-align: top;\n",
              "    }\n",
              "\n",
              "    .dataframe thead th {\n",
              "        text-align: right;\n",
              "    }\n",
              "</style>\n",
              "<table border=\"1\" class=\"dataframe\">\n",
              "  <thead>\n",
              "    <tr style=\"text-align: right;\">\n",
              "      <th></th>\n",
              "      <th>no_hit count</th>\n",
              "      <th>total new policies</th>\n",
              "      <th>% of no_hit</th>\n",
              "      <th>no_hit count(cumulative)</th>\n",
              "      <th>total policies</th>\n",
              "      <th>% of no_hit(cumulative)</th>\n",
              "    </tr>\n",
              "    <tr>\n",
              "      <th>year</th>\n",
              "      <th></th>\n",
              "      <th></th>\n",
              "      <th></th>\n",
              "      <th></th>\n",
              "      <th></th>\n",
              "      <th></th>\n",
              "    </tr>\n",
              "  </thead>\n",
              "  <tbody>\n",
              "    <tr>\n",
              "      <th>2011</th>\n",
              "      <td>173</td>\n",
              "      <td>3395</td>\n",
              "      <td>0.051</td>\n",
              "      <td>273</td>\n",
              "      <td>3395</td>\n",
              "      <td>0.080</td>\n",
              "    </tr>\n",
              "    <tr>\n",
              "      <th>2012</th>\n",
              "      <td>28</td>\n",
              "      <td>767</td>\n",
              "      <td>0.037</td>\n",
              "      <td>327</td>\n",
              "      <td>4084</td>\n",
              "      <td>0.080</td>\n",
              "    </tr>\n",
              "    <tr>\n",
              "      <th>2013</th>\n",
              "      <td>82</td>\n",
              "      <td>2409</td>\n",
              "      <td>0.034</td>\n",
              "      <td>587</td>\n",
              "      <td>6421</td>\n",
              "      <td>0.091</td>\n",
              "    </tr>\n",
              "    <tr>\n",
              "      <th>2014</th>\n",
              "      <td>112</td>\n",
              "      <td>3045</td>\n",
              "      <td>0.037</td>\n",
              "      <td>697</td>\n",
              "      <td>9307</td>\n",
              "      <td>0.075</td>\n",
              "    </tr>\n",
              "    <tr>\n",
              "      <th>2015</th>\n",
              "      <td>439</td>\n",
              "      <td>8441</td>\n",
              "      <td>0.052</td>\n",
              "      <td>1086</td>\n",
              "      <td>17002</td>\n",
              "      <td>0.064</td>\n",
              "    </tr>\n",
              "    <tr>\n",
              "      <th>2016</th>\n",
              "      <td>1502</td>\n",
              "      <td>38605</td>\n",
              "      <td>0.039</td>\n",
              "      <td>4086</td>\n",
              "      <td>48540</td>\n",
              "      <td>0.084</td>\n",
              "    </tr>\n",
              "    <tr>\n",
              "      <th>2017</th>\n",
              "      <td>554</td>\n",
              "      <td>13133</td>\n",
              "      <td>0.042</td>\n",
              "      <td>4810</td>\n",
              "      <td>54852</td>\n",
              "      <td>0.088</td>\n",
              "    </tr>\n",
              "    <tr>\n",
              "      <th>2018</th>\n",
              "      <td>1635</td>\n",
              "      <td>34965</td>\n",
              "      <td>0.047</td>\n",
              "      <td>7461</td>\n",
              "      <td>82698</td>\n",
              "      <td>0.090</td>\n",
              "    </tr>\n",
              "    <tr>\n",
              "      <th>2019</th>\n",
              "      <td>4385</td>\n",
              "      <td>45210</td>\n",
              "      <td>0.097</td>\n",
              "      <td>9863</td>\n",
              "      <td>118134</td>\n",
              "      <td>0.083</td>\n",
              "    </tr>\n",
              "    <tr>\n",
              "      <th>2020</th>\n",
              "      <td>6983</td>\n",
              "      <td>26734</td>\n",
              "      <td>0.261</td>\n",
              "      <td>8906</td>\n",
              "      <td>56286</td>\n",
              "      <td>0.158</td>\n",
              "    </tr>\n",
              "  </tbody>\n",
              "</table>\n",
              "</div>"
            ],
            "text/plain": [
              "      no_hit count  total new policies  ...  total policies  % of no_hit(cumulative)\n",
              "year                                    ...                                         \n",
              "2011           173                3395  ...            3395                    0.080\n",
              "2012            28                 767  ...            4084                    0.080\n",
              "2013            82                2409  ...            6421                    0.091\n",
              "2014           112                3045  ...            9307                    0.075\n",
              "2015           439                8441  ...           17002                    0.064\n",
              "2016          1502               38605  ...           48540                    0.084\n",
              "2017           554               13133  ...           54852                    0.088\n",
              "2018          1635               34965  ...           82698                    0.090\n",
              "2019          4385               45210  ...          118134                    0.083\n",
              "2020          6983               26734  ...           56286                    0.158\n",
              "\n",
              "[10 rows x 6 columns]"
            ]
          },
          "metadata": {
            "tags": []
          },
          "execution_count": 42
        }
      ]
    },
    {
      "cell_type": "code",
      "metadata": {
        "id": "ufUSIc-rSV_w",
        "colab": {
          "base_uri": "https://localhost:8080/",
          "height": 296
        },
        "outputId": "723ef6c0-2364-4513-a96c-3e1cc479dfcb"
      },
      "source": [
        "sns.lineplot(x=combined.index, y='% of no_hit(cumulative)', data=combined)"
      ],
      "execution_count": 43,
      "outputs": [
        {
          "output_type": "execute_result",
          "data": {
            "text/plain": [
              "<matplotlib.axes._subplots.AxesSubplot at 0x7f08eab6ce90>"
            ]
          },
          "metadata": {
            "tags": []
          },
          "execution_count": 43
        },
        {
          "output_type": "display_data",
          "data": {
            "image/png": "[encoded data removed]",
            "text/plain": [
              "<Figure size 432x288 with 1 Axes>"
            ]
          },
          "metadata": {
            "tags": [],
            "needs_background": "light"
          }
        }
      ]
    },
    {
      "cell_type": "code",
      "metadata": {
        "id": "Yv9gJcLsTJvz",
        "colab": {
          "base_uri": "https://localhost:8080/",
          "height": 1000
        },
        "outputId": "d94e6a29-be06-40f4-ce18-5bd6cb030bc9"
      },
      "source": [
        "# nohit rate in each state\n",
        "s = df.groupby(['year','STATE'])\n",
        "d = s.agg({'no_hit':['sum', 'mean']})\n",
        "d.columns = d.columns.droplevel(0)\n",
        "d"
      ],
      "execution_count": 44,
      "outputs": [
        {
          "output_type": "execute_result",
          "data": {
            "text/html": [
              "<div>\n",
              "<style scoped>\n",
              "    .dataframe tbody tr th:only-of-type {\n",
              "        vertical-align: middle;\n",
              "    }\n",
              "\n",
              "    .dataframe tbody tr th {\n",
              "        vertical-align: top;\n",
              "    }\n",
              "\n",
              "    .dataframe thead th {\n",
              "        text-align: right;\n",
              "    }\n",
              "</style>\n",
              "<table border=\"1\" class=\"dataframe\">\n",
              "  <thead>\n",
              "    <tr style=\"text-align: right;\">\n",
              "      <th></th>\n",
              "      <th></th>\n",
              "      <th>sum</th>\n",
              "      <th>mean</th>\n",
              "    </tr>\n",
              "    <tr>\n",
              "      <th>year</th>\n",
              "      <th>STATE</th>\n",
              "      <th></th>\n",
              "      <th></th>\n",
              "    </tr>\n",
              "  </thead>\n",
              "  <tbody>\n",
              "    <tr>\n",
              "      <th rowspan=\"2\" valign=\"top\">2011</th>\n",
              "      <th>CT</th>\n",
              "      <td>45</td>\n",
              "      <td>0.045090</td>\n",
              "    </tr>\n",
              "    <tr>\n",
              "      <th>NH</th>\n",
              "      <td>228</td>\n",
              "      <td>0.095119</td>\n",
              "    </tr>\n",
              "    <tr>\n",
              "      <th rowspan=\"2\" valign=\"top\">2012</th>\n",
              "      <th>CT</th>\n",
              "      <td>87</td>\n",
              "      <td>0.060417</td>\n",
              "    </tr>\n",
              "    <tr>\n",
              "      <th>NH</th>\n",
              "      <td>240</td>\n",
              "      <td>0.090772</td>\n",
              "    </tr>\n",
              "    <tr>\n",
              "      <th rowspan=\"2\" valign=\"top\">2013</th>\n",
              "      <th>CT</th>\n",
              "      <td>291</td>\n",
              "      <td>0.093509</td>\n",
              "    </tr>\n",
              "    <tr>\n",
              "      <th>NH</th>\n",
              "      <td>296</td>\n",
              "      <td>0.089453</td>\n",
              "    </tr>\n",
              "    <tr>\n",
              "      <th rowspan=\"2\" valign=\"top\">2014</th>\n",
              "      <th>CT</th>\n",
              "      <td>338</td>\n",
              "      <td>0.070241</td>\n",
              "    </tr>\n",
              "    <tr>\n",
              "      <th>NH</th>\n",
              "      <td>359</td>\n",
              "      <td>0.079867</td>\n",
              "    </tr>\n",
              "    <tr>\n",
              "      <th rowspan=\"4\" valign=\"top\">2015</th>\n",
              "      <th>CT</th>\n",
              "      <td>282</td>\n",
              "      <td>0.050538</td>\n",
              "    </tr>\n",
              "    <tr>\n",
              "      <th>MA</th>\n",
              "      <td>249</td>\n",
              "      <td>0.051972</td>\n",
              "    </tr>\n",
              "    <tr>\n",
              "      <th>NH</th>\n",
              "      <td>487</td>\n",
              "      <td>0.084023</td>\n",
              "    </tr>\n",
              "    <tr>\n",
              "      <th>NJ</th>\n",
              "      <td>68</td>\n",
              "      <td>0.081437</td>\n",
              "    </tr>\n",
              "    <tr>\n",
              "      <th rowspan=\"4\" valign=\"top\">2016</th>\n",
              "      <th>CT</th>\n",
              "      <td>457</td>\n",
              "      <td>0.057724</td>\n",
              "    </tr>\n",
              "    <tr>\n",
              "      <th>MA</th>\n",
              "      <td>2448</td>\n",
              "      <td>0.081914</td>\n",
              "    </tr>\n",
              "    <tr>\n",
              "      <th>NH</th>\n",
              "      <td>718</td>\n",
              "      <td>0.102527</td>\n",
              "    </tr>\n",
              "    <tr>\n",
              "      <th>NJ</th>\n",
              "      <td>463</td>\n",
              "      <td>0.123963</td>\n",
              "    </tr>\n",
              "    <tr>\n",
              "      <th rowspan=\"5\" valign=\"top\">2017</th>\n",
              "      <th>CT</th>\n",
              "      <td>542</td>\n",
              "      <td>0.062356</td>\n",
              "    </tr>\n",
              "    <tr>\n",
              "      <th>MA</th>\n",
              "      <td>2815</td>\n",
              "      <td>0.087041</td>\n",
              "    </tr>\n",
              "    <tr>\n",
              "      <th>NH</th>\n",
              "      <td>733</td>\n",
              "      <td>0.100950</td>\n",
              "    </tr>\n",
              "    <tr>\n",
              "      <th>NJ</th>\n",
              "      <td>687</td>\n",
              "      <td>0.107293</td>\n",
              "    </tr>\n",
              "    <tr>\n",
              "      <th>PA</th>\n",
              "      <td>33</td>\n",
              "      <td>0.212903</td>\n",
              "    </tr>\n",
              "    <tr>\n",
              "      <th rowspan=\"6\" valign=\"top\">2018</th>\n",
              "      <th>CT</th>\n",
              "      <td>557</td>\n",
              "      <td>0.062683</td>\n",
              "    </tr>\n",
              "    <tr>\n",
              "      <th>MA</th>\n",
              "      <td>3356</td>\n",
              "      <td>0.090607</td>\n",
              "    </tr>\n",
              "    <tr>\n",
              "      <th>NH</th>\n",
              "      <td>785</td>\n",
              "      <td>0.102187</td>\n",
              "    </tr>\n",
              "    <tr>\n",
              "      <th>NJ</th>\n",
              "      <td>1287</td>\n",
              "      <td>0.054267</td>\n",
              "    </tr>\n",
              "    <tr>\n",
              "      <th>NY</th>\n",
              "      <td>1</td>\n",
              "      <td>0.166667</td>\n",
              "    </tr>\n",
              "    <tr>\n",
              "      <th>PA</th>\n",
              "      <td>1475</td>\n",
              "      <td>0.274725</td>\n",
              "    </tr>\n",
              "    <tr>\n",
              "      <th rowspan=\"6\" valign=\"top\">2019</th>\n",
              "      <th>CT</th>\n",
              "      <td>696</td>\n",
              "      <td>0.069482</td>\n",
              "    </tr>\n",
              "    <tr>\n",
              "      <th>MA</th>\n",
              "      <td>2728</td>\n",
              "      <td>0.061655</td>\n",
              "    </tr>\n",
              "    <tr>\n",
              "      <th>NH</th>\n",
              "      <td>819</td>\n",
              "      <td>0.092931</td>\n",
              "    </tr>\n",
              "    <tr>\n",
              "      <th>NJ</th>\n",
              "      <td>2422</td>\n",
              "      <td>0.065509</td>\n",
              "    </tr>\n",
              "    <tr>\n",
              "      <th>NY</th>\n",
              "      <td>208</td>\n",
              "      <td>0.155456</td>\n",
              "    </tr>\n",
              "    <tr>\n",
              "      <th>PA</th>\n",
              "      <td>2990</td>\n",
              "      <td>0.178529</td>\n",
              "    </tr>\n",
              "    <tr>\n",
              "      <th rowspan=\"6\" valign=\"top\">2020</th>\n",
              "      <th>CT</th>\n",
              "      <td>1247</td>\n",
              "      <td>0.270734</td>\n",
              "    </tr>\n",
              "    <tr>\n",
              "      <th>MA</th>\n",
              "      <td>2133</td>\n",
              "      <td>0.089562</td>\n",
              "    </tr>\n",
              "    <tr>\n",
              "      <th>NH</th>\n",
              "      <td>406</td>\n",
              "      <td>0.230028</td>\n",
              "    </tr>\n",
              "    <tr>\n",
              "      <th>NJ</th>\n",
              "      <td>1835</td>\n",
              "      <td>0.172706</td>\n",
              "    </tr>\n",
              "    <tr>\n",
              "      <th>NY</th>\n",
              "      <td>1184</td>\n",
              "      <td>0.198558</td>\n",
              "    </tr>\n",
              "    <tr>\n",
              "      <th>PA</th>\n",
              "      <td>2101</td>\n",
              "      <td>0.220902</td>\n",
              "    </tr>\n",
              "  </tbody>\n",
              "</table>\n",
              "</div>"
            ],
            "text/plain": [
              "             sum      mean\n",
              "year STATE                \n",
              "2011 CT       45  0.045090\n",
              "     NH      228  0.095119\n",
              "2012 CT       87  0.060417\n",
              "     NH      240  0.090772\n",
              "2013 CT      291  0.093509\n",
              "     NH      296  0.089453\n",
              "2014 CT      338  0.070241\n",
              "     NH      359  0.079867\n",
              "2015 CT      282  0.050538\n",
              "     MA      249  0.051972\n",
              "     NH      487  0.084023\n",
              "     NJ       68  0.081437\n",
              "2016 CT      457  0.057724\n",
              "     MA     2448  0.081914\n",
              "     NH      718  0.102527\n",
              "     NJ      463  0.123963\n",
              "2017 CT      542  0.062356\n",
              "     MA     2815  0.087041\n",
              "     NH      733  0.100950\n",
              "     NJ      687  0.107293\n",
              "     PA       33  0.212903\n",
              "2018 CT      557  0.062683\n",
              "     MA     3356  0.090607\n",
              "     NH      785  0.102187\n",
              "     NJ     1287  0.054267\n",
              "     NY        1  0.166667\n",
              "     PA     1475  0.274725\n",
              "2019 CT      696  0.069482\n",
              "     MA     2728  0.061655\n",
              "     NH      819  0.092931\n",
              "     NJ     2422  0.065509\n",
              "     NY      208  0.155456\n",
              "     PA     2990  0.178529\n",
              "2020 CT     1247  0.270734\n",
              "     MA     2133  0.089562\n",
              "     NH      406  0.230028\n",
              "     NJ     1835  0.172706\n",
              "     NY     1184  0.198558\n",
              "     PA     2101  0.220902"
            ]
          },
          "metadata": {
            "tags": []
          },
          "execution_count": 44
        }
      ]
    },
    {
      "cell_type": "code",
      "metadata": {
        "id": "jNUnysYETJjL",
        "colab": {
          "base_uri": "https://localhost:8080/",
          "height": 296
        },
        "outputId": "d41ab730-97f0-480b-8e93-be6942de784a"
      },
      "source": [
        "sns.lineplot(x='year', y='mean',data=d, hue='STATE', palette = \"YlOrRd\")\n",
        "plt.ylabel('% of no-hit(cumulative)')"
      ],
      "execution_count": 45,
      "outputs": [
        {
          "output_type": "execute_result",
          "data": {
            "text/plain": [
              "Text(0, 0.5, '% of no-hit(cumulative)')"
            ]
          },
          "metadata": {
            "tags": []
          },
          "execution_count": 45
        },
        {
          "output_type": "display_data",
          "data": {
            "image/png": "[encoded data removed]",
            "text/plain": [
              "<Figure size 432x288 with 1 Axes>"
            ]
          },
          "metadata": {
            "tags": [],
            "needs_background": "light"
          }
        }
      ]
    },
    {
      "cell_type": "code",
      "metadata": {
        "id": "EMD37au_TDVu"
      },
      "source": [
        ""
      ],
      "execution_count": 45,
      "outputs": []
    },
    {
      "cell_type": "markdown",
      "metadata": {
        "id": "Ii8-YeL6ZsPQ"
      },
      "source": [
        "## non consistent records exploration"
      ]
    },
    {
      "cell_type": "code",
      "metadata": {
        "id": "WoYd_ji9fs6h",
        "colab": {
          "base_uri": "https://localhost:8080/",
          "height": 235
        },
        "outputId": "83bc8231-2843-42b2-cdac-ad0d6f6feb4c"
      },
      "source": [
        "# no_hit summary by pol_id\n",
        "df.groupby(['pol_id'])[['no_hit']].sum().head()"
      ],
      "execution_count": 50,
      "outputs": [
        {
          "output_type": "execute_result",
          "data": {
            "text/html": [
              "<div>\n",
              "<style scoped>\n",
              "    .dataframe tbody tr th:only-of-type {\n",
              "        vertical-align: middle;\n",
              "    }\n",
              "\n",
              "    .dataframe tbody tr th {\n",
              "        vertical-align: top;\n",
              "    }\n",
              "\n",
              "    .dataframe thead th {\n",
              "        text-align: right;\n",
              "    }\n",
              "</style>\n",
              "<table border=\"1\" class=\"dataframe\">\n",
              "  <thead>\n",
              "    <tr style=\"text-align: right;\">\n",
              "      <th></th>\n",
              "      <th>no_hit</th>\n",
              "    </tr>\n",
              "    <tr>\n",
              "      <th>pol_id</th>\n",
              "      <th></th>\n",
              "    </tr>\n",
              "  </thead>\n",
              "  <tbody>\n",
              "    <tr>\n",
              "      <th>BHD00001001024</th>\n",
              "      <td>5</td>\n",
              "    </tr>\n",
              "    <tr>\n",
              "      <th>BHD00001001030</th>\n",
              "      <td>5</td>\n",
              "    </tr>\n",
              "    <tr>\n",
              "      <th>BHD00001001034</th>\n",
              "      <td>0</td>\n",
              "    </tr>\n",
              "    <tr>\n",
              "      <th>BHD00001001037</th>\n",
              "      <td>0</td>\n",
              "    </tr>\n",
              "    <tr>\n",
              "      <th>BHD00001001041</th>\n",
              "      <td>0</td>\n",
              "    </tr>\n",
              "  </tbody>\n",
              "</table>\n",
              "</div>"
            ],
            "text/plain": [
              "                no_hit\n",
              "pol_id                \n",
              "BHD00001001024       5\n",
              "BHD00001001030       5\n",
              "BHD00001001034       0\n",
              "BHD00001001037       0\n",
              "BHD00001001041       0"
            ]
          },
          "metadata": {
            "tags": []
          },
          "execution_count": 50
        }
      ]
    },
    {
      "cell_type": "code",
      "metadata": {
        "id": "tWJXswnfGKHh",
        "colab": {
          "base_uri": "https://localhost:8080/"
        },
        "outputId": "18492d78-a95a-4791-c977-300a22241589"
      },
      "source": [
        "# average no-hit ratio over 10 years\n",
        "df.groupby(['year'])[['no_hit']].mean().mean()"
      ],
      "execution_count": 51,
      "outputs": [
        {
          "output_type": "execute_result",
          "data": {
            "text/plain": [
              "no_hit    0.089447\n",
              "dtype: float64"
            ]
          },
          "metadata": {
            "tags": []
          },
          "execution_count": 51
        }
      ]
    },
    {
      "cell_type": "code",
      "metadata": {
        "id": "zWtjgGdFGckk",
        "colab": {
          "base_uri": "https://localhost:8080/"
        },
        "outputId": "a604ff52-6b9f-4f31-dec7-5e65f651c046"
      },
      "source": [
        "# average no-hit ratio over states\n",
        "df.groupby(['STATE'])[['no_hit']].mean().mean()"
      ],
      "execution_count": 52,
      "outputs": [
        {
          "output_type": "execute_result",
          "data": {
            "text/plain": [
              "no_hit    0.12339\n",
              "dtype: float64"
            ]
          },
          "metadata": {
            "tags": []
          },
          "execution_count": 52
        }
      ]
    },
    {
      "cell_type": "code",
      "metadata": {
        "id": "4Pgvm7uhGi0Q",
        "colab": {
          "base_uri": "https://localhost:8080/"
        },
        "outputId": "115465a6-b555-4f5d-e2d2-5f891b233a5f"
      },
      "source": [
        "# Does the same ID keep a consistent no-hit situation over recording years?\n",
        "q = df.groupby(['pol_id'])['no_hit'].sum()/df.groupby(['pol_id'])['year'].count()\n",
        "q"
      ],
      "execution_count": 53,
      "outputs": [
        {
          "output_type": "execute_result",
          "data": {
            "text/plain": [
              "pol_id\n",
              "BHD00001001024    1.0\n",
              "BHD00001001030    1.0\n",
              "BHD00001001034    0.0\n",
              "BHD00001001037    0.0\n",
              "BHD00001001041    0.0\n",
              "                 ... \n",
              "PNH00002031672    0.0\n",
              "PNH00002031681    0.0\n",
              "PNH00002031723    0.0\n",
              "PNH00002031929    0.0\n",
              "PNH00002032007    0.0\n",
              "Length: 176704, dtype: float64"
            ]
          },
          "metadata": {
            "tags": []
          },
          "execution_count": 53
        }
      ]
    },
    {
      "cell_type": "code",
      "metadata": {
        "id": "8vWfvFJlKUVr",
        "colab": {
          "base_uri": "https://localhost:8080/"
        },
        "outputId": "4a43c817-94ea-4b75-c986-b9c4435548c0"
      },
      "source": [
        "#Count non-consistent IDs\n",
        "a = df.groupby(['pol_id'])['no_hit'].mean()\n",
        "len(a) - sum(a == 1) - sum(a == 0)"
      ],
      "execution_count": 54,
      "outputs": [
        {
          "output_type": "execute_result",
          "data": {
            "text/plain": [
              "14170"
            ]
          },
          "metadata": {
            "tags": []
          },
          "execution_count": 54
        }
      ]
    },
    {
      "cell_type": "code",
      "metadata": {
        "id": "o37fAFbQvKMo",
        "colab": {
          "base_uri": "https://localhost:8080/",
          "height": 450
        },
        "outputId": "11dde1e8-1656-4fc0-aa40-f83d80abeeb6"
      },
      "source": [
        "#filter our non-consistent rows\n",
        "nonc = a[(a != 0) & (a != 1)]\n",
        "nonc.index\n",
        "df_nonc = df[df['pol_id'].isin(np.array(nonc.index))]\n",
        "excel = df_nonc.pivot(index='pol_id', columns= 'year', values= 'no_hit')\n",
        "excel"
      ],
      "execution_count": 55,
      "outputs": [
        {
          "output_type": "execute_result",
          "data": {
            "text/html": [
              "<div>\n",
              "<style scoped>\n",
              "    .dataframe tbody tr th:only-of-type {\n",
              "        vertical-align: middle;\n",
              "    }\n",
              "\n",
              "    .dataframe tbody tr th {\n",
              "        vertical-align: top;\n",
              "    }\n",
              "\n",
              "    .dataframe thead th {\n",
              "        text-align: right;\n",
              "    }\n",
              "</style>\n",
              "<table border=\"1\" class=\"dataframe\">\n",
              "  <thead>\n",
              "    <tr style=\"text-align: right;\">\n",
              "      <th>year</th>\n",
              "      <th>2011</th>\n",
              "      <th>2012</th>\n",
              "      <th>2013</th>\n",
              "      <th>2014</th>\n",
              "      <th>2015</th>\n",
              "      <th>2016</th>\n",
              "      <th>2017</th>\n",
              "      <th>2018</th>\n",
              "      <th>2019</th>\n",
              "      <th>2020</th>\n",
              "    </tr>\n",
              "    <tr>\n",
              "      <th>pol_id</th>\n",
              "      <th></th>\n",
              "      <th></th>\n",
              "      <th></th>\n",
              "      <th></th>\n",
              "      <th></th>\n",
              "      <th></th>\n",
              "      <th></th>\n",
              "      <th></th>\n",
              "      <th></th>\n",
              "      <th></th>\n",
              "    </tr>\n",
              "  </thead>\n",
              "  <tbody>\n",
              "    <tr>\n",
              "      <th>BHD00001002410</th>\n",
              "      <td>NaN</td>\n",
              "      <td>NaN</td>\n",
              "      <td>NaN</td>\n",
              "      <td>NaN</td>\n",
              "      <td>NaN</td>\n",
              "      <td>0.0</td>\n",
              "      <td>0.0</td>\n",
              "      <td>1.0</td>\n",
              "      <td>1.0</td>\n",
              "      <td>NaN</td>\n",
              "    </tr>\n",
              "    <tr>\n",
              "      <th>BHD00001002560</th>\n",
              "      <td>NaN</td>\n",
              "      <td>NaN</td>\n",
              "      <td>NaN</td>\n",
              "      <td>NaN</td>\n",
              "      <td>NaN</td>\n",
              "      <td>0.0</td>\n",
              "      <td>1.0</td>\n",
              "      <td>0.0</td>\n",
              "      <td>NaN</td>\n",
              "      <td>NaN</td>\n",
              "    </tr>\n",
              "    <tr>\n",
              "      <th>BHD00001002668</th>\n",
              "      <td>NaN</td>\n",
              "      <td>NaN</td>\n",
              "      <td>1.0</td>\n",
              "      <td>0.0</td>\n",
              "      <td>1.0</td>\n",
              "      <td>0.0</td>\n",
              "      <td>0.0</td>\n",
              "      <td>0.0</td>\n",
              "      <td>0.0</td>\n",
              "      <td>NaN</td>\n",
              "    </tr>\n",
              "    <tr>\n",
              "      <th>BHD00001002885</th>\n",
              "      <td>NaN</td>\n",
              "      <td>NaN</td>\n",
              "      <td>NaN</td>\n",
              "      <td>0.0</td>\n",
              "      <td>1.0</td>\n",
              "      <td>0.0</td>\n",
              "      <td>0.0</td>\n",
              "      <td>NaN</td>\n",
              "      <td>NaN</td>\n",
              "      <td>NaN</td>\n",
              "    </tr>\n",
              "    <tr>\n",
              "      <th>BHD00001002939</th>\n",
              "      <td>NaN</td>\n",
              "      <td>NaN</td>\n",
              "      <td>NaN</td>\n",
              "      <td>NaN</td>\n",
              "      <td>NaN</td>\n",
              "      <td>1.0</td>\n",
              "      <td>0.0</td>\n",
              "      <td>0.0</td>\n",
              "      <td>0.0</td>\n",
              "      <td>NaN</td>\n",
              "    </tr>\n",
              "    <tr>\n",
              "      <th>...</th>\n",
              "      <td>...</td>\n",
              "      <td>...</td>\n",
              "      <td>...</td>\n",
              "      <td>...</td>\n",
              "      <td>...</td>\n",
              "      <td>...</td>\n",
              "      <td>...</td>\n",
              "      <td>...</td>\n",
              "      <td>...</td>\n",
              "      <td>...</td>\n",
              "    </tr>\n",
              "    <tr>\n",
              "      <th>PNH00002027385</th>\n",
              "      <td>NaN</td>\n",
              "      <td>NaN</td>\n",
              "      <td>NaN</td>\n",
              "      <td>NaN</td>\n",
              "      <td>NaN</td>\n",
              "      <td>NaN</td>\n",
              "      <td>NaN</td>\n",
              "      <td>0.0</td>\n",
              "      <td>1.0</td>\n",
              "      <td>NaN</td>\n",
              "    </tr>\n",
              "    <tr>\n",
              "      <th>PNH00002027689</th>\n",
              "      <td>NaN</td>\n",
              "      <td>NaN</td>\n",
              "      <td>NaN</td>\n",
              "      <td>NaN</td>\n",
              "      <td>NaN</td>\n",
              "      <td>NaN</td>\n",
              "      <td>NaN</td>\n",
              "      <td>1.0</td>\n",
              "      <td>0.0</td>\n",
              "      <td>NaN</td>\n",
              "    </tr>\n",
              "    <tr>\n",
              "      <th>PNH00002028175</th>\n",
              "      <td>NaN</td>\n",
              "      <td>NaN</td>\n",
              "      <td>NaN</td>\n",
              "      <td>NaN</td>\n",
              "      <td>NaN</td>\n",
              "      <td>NaN</td>\n",
              "      <td>NaN</td>\n",
              "      <td>1.0</td>\n",
              "      <td>0.0</td>\n",
              "      <td>1.0</td>\n",
              "    </tr>\n",
              "    <tr>\n",
              "      <th>PNH00002028506</th>\n",
              "      <td>NaN</td>\n",
              "      <td>NaN</td>\n",
              "      <td>NaN</td>\n",
              "      <td>NaN</td>\n",
              "      <td>NaN</td>\n",
              "      <td>NaN</td>\n",
              "      <td>NaN</td>\n",
              "      <td>1.0</td>\n",
              "      <td>0.0</td>\n",
              "      <td>NaN</td>\n",
              "    </tr>\n",
              "    <tr>\n",
              "      <th>PNH00002030258</th>\n",
              "      <td>NaN</td>\n",
              "      <td>NaN</td>\n",
              "      <td>NaN</td>\n",
              "      <td>NaN</td>\n",
              "      <td>NaN</td>\n",
              "      <td>NaN</td>\n",
              "      <td>NaN</td>\n",
              "      <td>1.0</td>\n",
              "      <td>0.0</td>\n",
              "      <td>NaN</td>\n",
              "    </tr>\n",
              "  </tbody>\n",
              "</table>\n",
              "<p>14170 rows × 10 columns</p>\n",
              "</div>"
            ],
            "text/plain": [
              "year            2011  2012  2013  2014  2015  2016  2017  2018  2019  2020\n",
              "pol_id                                                                    \n",
              "BHD00001002410   NaN   NaN   NaN   NaN   NaN   0.0   0.0   1.0   1.0   NaN\n",
              "BHD00001002560   NaN   NaN   NaN   NaN   NaN   0.0   1.0   0.0   NaN   NaN\n",
              "BHD00001002668   NaN   NaN   1.0   0.0   1.0   0.0   0.0   0.0   0.0   NaN\n",
              "BHD00001002885   NaN   NaN   NaN   0.0   1.0   0.0   0.0   NaN   NaN   NaN\n",
              "BHD00001002939   NaN   NaN   NaN   NaN   NaN   1.0   0.0   0.0   0.0   NaN\n",
              "...              ...   ...   ...   ...   ...   ...   ...   ...   ...   ...\n",
              "PNH00002027385   NaN   NaN   NaN   NaN   NaN   NaN   NaN   0.0   1.0   NaN\n",
              "PNH00002027689   NaN   NaN   NaN   NaN   NaN   NaN   NaN   1.0   0.0   NaN\n",
              "PNH00002028175   NaN   NaN   NaN   NaN   NaN   NaN   NaN   1.0   0.0   1.0\n",
              "PNH00002028506   NaN   NaN   NaN   NaN   NaN   NaN   NaN   1.0   0.0   NaN\n",
              "PNH00002030258   NaN   NaN   NaN   NaN   NaN   NaN   NaN   1.0   0.0   NaN\n",
              "\n",
              "[14170 rows x 10 columns]"
            ]
          },
          "metadata": {
            "tags": []
          },
          "execution_count": 55
        }
      ]
    },
    {
      "cell_type": "code",
      "metadata": {
        "id": "7bL7Ma5LYd7Q"
      },
      "source": [
        "excel.to_csv('excel.csv')"
      ],
      "execution_count": 56,
      "outputs": []
    },
    {
      "cell_type": "code",
      "metadata": {
        "id": "5JNqm8fuvfKS"
      },
      "source": [
        "#or by states\n",
        "ma = df_nonc[df_nonc['STATE'] == 'MA']\n",
        "nj = df_nonc[df_nonc['STATE'] == 'NJ']\n",
        "pa = df_nonc[df_nonc['STATE'] == 'PA']\n",
        "ct = df_nonc[df_nonc['STATE'] == 'CT']\n",
        "nh = df_nonc[df_nonc['STATE'] == 'NH']\n",
        "ny = df_nonc[df_nonc['STATE'] == 'NY']"
      ],
      "execution_count": 57,
      "outputs": []
    },
    {
      "cell_type": "code",
      "metadata": {
        "id": "T0r_X2PG3HXU",
        "colab": {
          "base_uri": "https://localhost:8080/",
          "height": 296
        },
        "outputId": "74634cf0-ff63-455e-ac74-db84c030bdc3"
      },
      "source": [
        "# Change of hit/no-hit for ma\n",
        "sns.lineplot(data= ma, x= 'year', y= 'no_hit',estimator = None, units= 'pol_id', alpha = 0.01)"
      ],
      "execution_count": 58,
      "outputs": [
        {
          "output_type": "execute_result",
          "data": {
            "text/plain": [
              "<matplotlib.axes._subplots.AxesSubplot at 0x7f08ea907090>"
            ]
          },
          "metadata": {
            "tags": []
          },
          "execution_count": 58
        },
        {
          "output_type": "display_data",
          "data": {
            "image/png": "[encoded data removed]",
            "text/plain": [
              "<Figure size 432x288 with 1 Axes>"
            ]
          },
          "metadata": {
            "tags": [],
            "needs_background": "light"
          }
        }
      ]
    },
    {
      "cell_type": "code",
      "metadata": {
        "id": "Fb0vGXkL8Tn0",
        "colab": {
          "base_uri": "https://localhost:8080/",
          "height": 296
        },
        "outputId": "8b1d9365-0e1c-443c-bfd3-c914f4bb967a"
      },
      "source": [
        "sns.lineplot(data= nj, x= 'year', y= 'no_hit',estimator = None, units= 'pol_id', alpha = 0.01)"
      ],
      "execution_count": 59,
      "outputs": [
        {
          "output_type": "execute_result",
          "data": {
            "text/plain": [
              "<matplotlib.axes._subplots.AxesSubplot at 0x7f08e563fed0>"
            ]
          },
          "metadata": {
            "tags": []
          },
          "execution_count": 59
        },
        {
          "output_type": "display_data",
          "data": {
            "image/png": "[encoded data removed]",
            "text/plain": [
              "<Figure size 432x288 with 1 Axes>"
            ]
          },
          "metadata": {
            "tags": [],
            "needs_background": "light"
          }
        }
      ]
    },
    {
      "cell_type": "code",
      "metadata": {
        "id": "Pric9XgR8T35",
        "colab": {
          "base_uri": "https://localhost:8080/",
          "height": 296
        },
        "outputId": "911378e3-8326-49ff-c86b-91d55587da30"
      },
      "source": [
        "sns.lineplot(data= pa, x= 'year', y= 'no_hit',estimator = None, units= 'pol_id', alpha = 0.01)"
      ],
      "execution_count": 60,
      "outputs": [
        {
          "output_type": "execute_result",
          "data": {
            "text/plain": [
              "<matplotlib.axes._subplots.AxesSubplot at 0x7f08e3c99590>"
            ]
          },
          "metadata": {
            "tags": []
          },
          "execution_count": 60
        },
        {
          "output_type": "display_data",
          "data": {
            "image/png": "[encoded data removed]",
            "text/plain": [
              "<Figure size 432x288 with 1 Axes>"
            ]
          },
          "metadata": {
            "tags": [],
            "needs_background": "light"
          }
        }
      ]
    },
    {
      "cell_type": "code",
      "metadata": {
        "id": "e3j_51CE8T9Q",
        "colab": {
          "base_uri": "https://localhost:8080/",
          "height": 296
        },
        "outputId": "f96ab51c-d44c-416f-e072-fb4baaac3617"
      },
      "source": [
        "sns.lineplot(data= ct, x= 'year', y= 'no_hit',estimator = None, units= 'pol_id', alpha = 0.01)"
      ],
      "execution_count": 61,
      "outputs": [
        {
          "output_type": "execute_result",
          "data": {
            "text/plain": [
              "<matplotlib.axes._subplots.AxesSubplot at 0x7f08e2506a10>"
            ]
          },
          "metadata": {
            "tags": []
          },
          "execution_count": 61
        },
        {
          "output_type": "display_data",
          "data": {
            "image/png": "[encoded data removed]",
            "text/plain": [
              "<Figure size 432x288 with 1 Axes>"
            ]
          },
          "metadata": {
            "tags": [],
            "needs_background": "light"
          }
        }
      ]
    },
    {
      "cell_type": "code",
      "metadata": {
        "id": "-ycNQxAB8UHI",
        "colab": {
          "base_uri": "https://localhost:8080/",
          "height": 296
        },
        "outputId": "0565bb6b-dfb8-42f5-8c72-52679df50f61"
      },
      "source": [
        "sns.lineplot(data= nh, x= 'year', y= 'no_hit',estimator = None, units= 'pol_id', alpha = 0.01)"
      ],
      "execution_count": 62,
      "outputs": [
        {
          "output_type": "execute_result",
          "data": {
            "text/plain": [
              "<matplotlib.axes._subplots.AxesSubplot at 0x7f08e0b400d0>"
            ]
          },
          "metadata": {
            "tags": []
          },
          "execution_count": 62
        },
        {
          "output_type": "display_data",
          "data": {
            "image/png": "[encoded data removed]",
            "text/plain": [
              "<Figure size 432x288 with 1 Axes>"
            ]
          },
          "metadata": {
            "tags": [],
            "needs_background": "light"
          }
        }
      ]
    },
    {
      "cell_type": "code",
      "metadata": {
        "id": "1l6elJoH8UO9",
        "colab": {
          "base_uri": "https://localhost:8080/",
          "height": 296
        },
        "outputId": "3733f400-67f4-499a-9f29-7d7f4255ca54"
      },
      "source": [
        "sns.lineplot(data= ny, x= 'year', y= 'no_hit',estimator = None, units= 'pol_id', alpha = 0.1)"
      ],
      "execution_count": 63,
      "outputs": [
        {
          "output_type": "execute_result",
          "data": {
            "text/plain": [
              "<matplotlib.axes._subplots.AxesSubplot at 0x7f08df5359d0>"
            ]
          },
          "metadata": {
            "tags": []
          },
          "execution_count": 63
        },
        {
          "output_type": "display_data",
          "data": {
            "image/png": "[encoded data removed]",
            "text/plain": [
              "<Figure size 432x288 with 1 Axes>"
            ]
          },
          "metadata": {
            "tags": [],
            "needs_background": "light"
          }
        }
      ]
    }
  ]
}