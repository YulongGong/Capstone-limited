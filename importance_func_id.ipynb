{
  "nbformat": 4,
  "nbformat_minor": 0,
  "metadata": {
    "colab": {
      "name": "importance_func_id.ipynb",
      "provenance": [],
      "toc_visible": true
    },
    "kernelspec": {
      "display_name": "Python 3",
      "language": "python",
      "name": "python3"
    },
    "language_info": {
      "codemirror_mode": {
        "name": "ipython",
        "version": 3
      },
      "file_extension": ".py",
      "mimetype": "text/x-python",
      "name": "python",
      "nbconvert_exporter": "python",
      "pygments_lexer": "ipython3",
      "version": "3.8.3"
    }
  },
  "cells": [
    {
      "cell_type": "code",
      "metadata": {
        "id": "cWH3ePtgBFDs"
      },
      "source": [
        "import numpy as np\n",
        "import pandas as pd\n",
        "import seaborn as sns\n",
        "import matplotlib.pyplot as plt\n",
        "\n",
        "import sklearn\n",
        "from sklearn.tree import DecisionTreeClassifier\n",
        "from sklearn.ensemble import RandomForestClassifier\n",
        "from sklearn.linear_model import LogisticRegression\n",
        "from sklearn.metrics import accuracy_score, confusion_matrix, classification_report\n",
        "\n",
        "import xgboost\n",
        "from xgboost import XGBClassifier"
      ],
      "execution_count": null,
      "outputs": []
    },
    {
      "cell_type": "code",
      "metadata": {
        "id": "46moEFWlMV1g"
      },
      "source": [
        "def var_stats(source):\n",
        "\n",
        "  # read the source to a dataframe\n",
        "  source = pd.read_csv(source)\n",
        "\n",
        "  # stats of source\n",
        "  d = source.describe(percentiles=[0.01, 0.05, 0.1, 0.25, 0.5, 0.75, 0.9, 0.95, 0.99]).T\n",
        "  d['miss'] = source.isnull().sum()\n",
        "  d['missrate'] = d['miss']/len(source)\n",
        "\n",
        "  # export an csv\n",
        "  d.to_csv('source_sum.csv')"
      ],
      "execution_count": null,
      "outputs": []
    },
    {
      "cell_type": "code",
      "metadata": {
        "id": "eSAXbz7x6ppg"
      },
      "source": [
        "def plot_feature_importance(importance,names,model_type):\n",
        "\n",
        "  #Create arrays from feature importance and feature names\n",
        "  feature_importance = np.array(importance)\n",
        "  feature_names = np.array(names)\n",
        "\n",
        "  #Create a DataFrame using a Dictionary\n",
        "  data={'feature_names':feature_names,'feature_importance':feature_importance}\n",
        "  fi_df = pd.DataFrame(data)\n",
        "\n",
        "  #Sort the DataFrame in order decreasing feature importance\n",
        "  fi_df.sort_values(by=['feature_importance'], ascending=False,inplace=True)\n",
        "\n",
        "  #Define size of bar plot\n",
        "  plt.figure(figsize=(10,8))\n",
        "  #Plot Searborn bar chart\n",
        "  sns.barplot(x=fi_df['feature_importance'], y=fi_df['feature_names'])\n",
        "  #Add chart labels\n",
        "  plt.title(model_type + ' FEATURE IMPORTANCE')\n",
        "  plt.xlabel('FEATURE IMPORTANCE')\n",
        "  plt.ylabel('FEATURE NAMES')"
      ],
      "execution_count": null,
      "outputs": []
    },
    {
      "cell_type": "code",
      "metadata": {
        "id": "daw_MCjoBL8h"
      },
      "source": [
        "def imp_rank(source, dataset, varinfo):\n",
        "\n",
        "  # read the source to a dataframe\n",
        "  source = pd.read_csv(source)\n",
        "\n",
        "  X_train = pd.read_csv(dataset)\n",
        "  y_train = X_train['y']\n",
        "  X_train = X_train.drop(['Unnamed: 0', 'y'], axis=1)\n",
        "\n",
        "  # merge source and dataset together\n",
        "  data = source.merge(X_train, left_on = ['pol_id',\t'year'], right_on = ['pol_id',\t'year'], how='inner')\n",
        "\n",
        "  # drop index, categorical\n",
        "  var = data.drop(['pol_id','year','STATE','ZIP5','ZIP4'], axis=1)\n",
        "\n",
        "  # impute NA with mean\n",
        "  var = var.apply(lambda x: x.fillna(x.mean()))\n",
        "\n",
        "  fig, axes = plt.subplots(nrows=1, ncols=3, figsize=(10, 8)) \n",
        "\n",
        "  # RandomForest Check\n",
        "  modelRF = RandomForestClassifier(n_jobs=-1)\n",
        "  modelRF.fit(var, y_train)\n",
        "  impRF = modelRF.feature_importances_\n",
        "  #plt.subplot(1, 2, 1)\n",
        "  #plot_feature_importance(impRF,var.columns,'RANDOM FOREST')\n",
        "  # Plot cumulative importance\n",
        "  \n",
        "  axes[0].plot(range(1, len(impRF)+1), np.cumsum(impRF))\n",
        "  axes[0].set_title(\"Cum_imp_Random Forest\")\n",
        "  \n",
        "\n",
        "  # XGBoost Check\n",
        "  modelXG = XGBClassifier()\n",
        "  modelXG.fit(var, y_train)\n",
        "  impXG = modelXG.feature_importances_\n",
        "  #plt.subplot(1, 2, 1)\n",
        "  #plot_feature_importance(impXG,var.columns,'XGBOOST')\n",
        "  # Plot cumulative importance\n",
        "  \n",
        "  axes[1].plot(range(1, len(impXG)+1), np.cumsum(impXG))\n",
        "  axes[1].set_title(\"Cum_imp_XGBoost\")\n",
        "  \n",
        "\n",
        "  # DecisionTree Check\n",
        "  modelDT = DecisionTreeClassifier()\n",
        "  modelDT.fit(var, y_train)\n",
        "  impDT = modelDT.feature_importances_\n",
        "  #plt.subplot(1, 2, 1)\n",
        "  #plot_feature_importance(impDT,var.columns,'DECISION TREES')\n",
        "  # Plot cumulative importance\n",
        "  \n",
        "  axes[2].plot(range(1, len(impDT)+1), np.cumsum(impDT))\n",
        "  axes[2].set_title(\"Cum_imp_Decision Trees\")\n",
        "  \n",
        "\n",
        "  # Lasso coefficient\n",
        "  modelLS = LogisticRegression(penalty='l1', solver='liblinear')\n",
        "  modelLS.fit(var, y_train)\n",
        "  impLS = modelLS.coef_\n",
        "  #plot_feature_importance(impLS[0],var.columns,'LASSO REGRESSION')\n",
        "\n",
        "  # append the information to varinfo\n",
        "  s = pd.read_csv(varinfo)\n",
        "  s = s.drop([0])\n",
        "  s['RF_imp'] = impRF\n",
        "  s['XGB_imp'] = impXG\n",
        "  s['DT_imp'] = impDT\n",
        "  s['Lasso_coe'] = impLS[0]\n",
        "  s['LS_imp'] = (s['Lasso_coe'].abs())/(s['Lasso_coe'].abs().sum())\n",
        "\n",
        "  \n",
        "\n",
        "  s.to_csv('importance.csv')\n",
        "\n"
      ],
      "execution_count": null,
      "outputs": []
    },
    {
      "cell_type": "code",
      "metadata": {
        "id": "FSRWqXprM_Mh"
      },
      "source": [
        "var_stats('C:/Users/94018/Documents/BA886-7/result_final.csv')"
      ],
      "execution_count": null,
      "outputs": []
    },
    {
      "cell_type": "code",
      "metadata": {
        "colab": {
          "base_uri": "https://localhost:8080/",
          "height": 499
        },
        "id": "6bAJXk9DI1VM",
        "outputId": "da9a97b1-df1c-4708-9541-59f411d5670f"
      },
      "source": [
        "imp_rank('C:/Users/94018/Documents/BA886-7/result_final.csv','C:/Users/94018/OneDrive/Documents/BA886-7/Data/id_Xtrain.csv','C:/Users/94018/Documents/BA886-7/source_sum.csv')"
      ],
      "execution_count": null,
      "outputs": [
        {
          "output_type": "stream",
          "text": [
            "C:\\Users\\94018\\anaconda3\\lib\\site-packages\\xgboost\\sklearn.py:888: UserWarning: The use of label encoder in XGBClassifier is deprecated and will be removed in a future release. To remove this warning, do the following: 1) Pass option use_label_encoder=False when constructing XGBClassifier object; and 2) Encode your labels (y) as integers starting with 0, i.e. 0, 1, 2, ..., [num_class - 1].\n",
            "  warnings.warn(label_encoder_deprecation_msg, UserWarning)\n"
          ],
          "name": "stderr"
        },
        {
          "output_type": "stream",
          "text": [
            "[15:44:55] WARNING: C:/Users/Administrator/workspace/xgboost-win64_release_1.3.0/src/learner.cc:1061: Starting in XGBoost 1.3.0, the default evaluation metric used with the objective 'binary:logistic' was changed from 'error' to 'logloss'. Explicitly set eval_metric if you'd like to restore the old behavior.\n"
          ],
          "name": "stdout"
        },
        {
          "output_type": "display_data",
          "data": {
            "image/png": "[encoded data removed]",
            "text/plain": [
              "<Figure size 720x576 with 3 Axes>"
            ]
          },
          "metadata": {
            "tags": [],
            "needs_background": "light"
          }
        }
      ]
    },
    {
      "cell_type": "markdown",
      "metadata": {
        "id": "ZXsv6AphJ0Cj"
      },
      "source": [
        "# test the models"
      ]
    },
    {
      "cell_type": "code",
      "metadata": {
        "id": "FAp8RMjqJ3Sx"
      },
      "source": [
        "source1 = pd.read_csv('C:/Users/94018/Documents/BA886-7/result_final.csv')\n",
        "X_train = pd.read_csv('C:/Users/94018/OneDrive/Documents/BA886-7/Data/id_Xtrain.csv')\n",
        "y_train = X_train['y']\n",
        "X_train = X_train.drop(['Unnamed: 0', 'y'], axis=1)\n",
        "data1 = source1.merge(X_train, left_on = ['pol_id',\t'year'], right_on = ['pol_id',\t'year'], how='inner')\n",
        "var = data1.drop(['pol_id','year','STATE','ZIP5','ZIP4'], axis=1)\n",
        "var = var.apply(lambda x: x.fillna(x.mean()))"
      ],
      "execution_count": null,
      "outputs": []
    },
    {
      "cell_type": "code",
      "metadata": {
        "colab": {
          "base_uri": "https://localhost:8080/",
          "height": 253
        },
        "id": "tPGZ1oi2RKue",
        "outputId": "2878e0b1-3793-43c4-949e-a626da848df4"
      },
      "source": [
        "var.head()"
      ],
      "execution_count": null,
      "outputs": [
        {
          "output_type": "execute_result",
          "data": {
            "text/html": [
              "<div>\n",
              "<style scoped>\n",
              "    .dataframe tbody tr th:only-of-type {\n",
              "        vertical-align: middle;\n",
              "    }\n",
              "\n",
              "    .dataframe tbody tr th {\n",
              "        vertical-align: top;\n",
              "    }\n",
              "\n",
              "    .dataframe thead th {\n",
              "        text-align: right;\n",
              "    }\n",
              "</style>\n",
              "<table border=\"1\" class=\"dataframe\">\n",
              "  <thead>\n",
              "    <tr style=\"text-align: right;\">\n",
              "      <th></th>\n",
              "      <th>Unnamed: 0</th>\n",
              "      <th>var0009</th>\n",
              "      <th>var0010</th>\n",
              "      <th>var0011</th>\n",
              "      <th>var0012</th>\n",
              "      <th>var0013</th>\n",
              "      <th>var0014</th>\n",
              "      <th>var0015</th>\n",
              "      <th>var0016</th>\n",
              "      <th>var0017</th>\n",
              "      <th>...</th>\n",
              "      <th>var1089</th>\n",
              "      <th>var1090</th>\n",
              "      <th>var1091</th>\n",
              "      <th>var1092</th>\n",
              "      <th>var1093</th>\n",
              "      <th>var1094</th>\n",
              "      <th>var1095</th>\n",
              "      <th>var1096</th>\n",
              "      <th>var1097</th>\n",
              "      <th>var1098</th>\n",
              "    </tr>\n",
              "  </thead>\n",
              "  <tbody>\n",
              "    <tr>\n",
              "      <th>0</th>\n",
              "      <td>0</td>\n",
              "      <td>1.399841e+13</td>\n",
              "      <td>1.499801e+13</td>\n",
              "      <td>9.791195</td>\n",
              "      <td>1.209152</td>\n",
              "      <td>1.120664</td>\n",
              "      <td>2003.490935</td>\n",
              "      <td>1.18838</td>\n",
              "      <td>1.18838</td>\n",
              "      <td>1.137626</td>\n",
              "      <td>...</td>\n",
              "      <td>0.464817</td>\n",
              "      <td>0.005411</td>\n",
              "      <td>1.610939</td>\n",
              "      <td>0.017790</td>\n",
              "      <td>0.014483</td>\n",
              "      <td>529.444681</td>\n",
              "      <td>16.0833</td>\n",
              "      <td>1.565752</td>\n",
              "      <td>0.494665</td>\n",
              "      <td>1.875034</td>\n",
              "    </tr>\n",
              "    <tr>\n",
              "      <th>1</th>\n",
              "      <td>13</td>\n",
              "      <td>1.399841e+13</td>\n",
              "      <td>1.499801e+13</td>\n",
              "      <td>9.791195</td>\n",
              "      <td>1.209152</td>\n",
              "      <td>1.120664</td>\n",
              "      <td>2003.490935</td>\n",
              "      <td>1.18838</td>\n",
              "      <td>1.18838</td>\n",
              "      <td>1.137626</td>\n",
              "      <td>...</td>\n",
              "      <td>3.972740</td>\n",
              "      <td>0.000822</td>\n",
              "      <td>1.424492</td>\n",
              "      <td>0.017790</td>\n",
              "      <td>0.000812</td>\n",
              "      <td>525.395565</td>\n",
              "      <td>4.4583</td>\n",
              "      <td>1.565752</td>\n",
              "      <td>3.946720</td>\n",
              "      <td>1.994516</td>\n",
              "    </tr>\n",
              "    <tr>\n",
              "      <th>2</th>\n",
              "      <td>15</td>\n",
              "      <td>1.399841e+13</td>\n",
              "      <td>1.499801e+13</td>\n",
              "      <td>9.791195</td>\n",
              "      <td>1.209152</td>\n",
              "      <td>1.120664</td>\n",
              "      <td>2003.490935</td>\n",
              "      <td>1.18838</td>\n",
              "      <td>1.18838</td>\n",
              "      <td>1.137626</td>\n",
              "      <td>...</td>\n",
              "      <td>1.039131</td>\n",
              "      <td>0.006841</td>\n",
              "      <td>1.257027</td>\n",
              "      <td>0.017960</td>\n",
              "      <td>0.002827</td>\n",
              "      <td>337.546991</td>\n",
              "      <td>596.7080</td>\n",
              "      <td>0.957500</td>\n",
              "      <td>1.609646</td>\n",
              "      <td>0.472691</td>\n",
              "    </tr>\n",
              "    <tr>\n",
              "      <th>3</th>\n",
              "      <td>21</td>\n",
              "      <td>1.399841e+13</td>\n",
              "      <td>1.499801e+13</td>\n",
              "      <td>9.791195</td>\n",
              "      <td>1.209152</td>\n",
              "      <td>1.120664</td>\n",
              "      <td>2003.490935</td>\n",
              "      <td>1.18838</td>\n",
              "      <td>1.18838</td>\n",
              "      <td>1.137626</td>\n",
              "      <td>...</td>\n",
              "      <td>0.812861</td>\n",
              "      <td>0.000765</td>\n",
              "      <td>1.371218</td>\n",
              "      <td>0.008683</td>\n",
              "      <td>0.022483</td>\n",
              "      <td>425.409177</td>\n",
              "      <td>96.9999</td>\n",
              "      <td>0.359768</td>\n",
              "      <td>0.815174</td>\n",
              "      <td>1.368256</td>\n",
              "    </tr>\n",
              "    <tr>\n",
              "      <th>4</th>\n",
              "      <td>24</td>\n",
              "      <td>1.399841e+13</td>\n",
              "      <td>1.499801e+13</td>\n",
              "      <td>9.791195</td>\n",
              "      <td>1.209152</td>\n",
              "      <td>1.120664</td>\n",
              "      <td>2003.490935</td>\n",
              "      <td>1.18838</td>\n",
              "      <td>1.18838</td>\n",
              "      <td>1.137626</td>\n",
              "      <td>...</td>\n",
              "      <td>1.479692</td>\n",
              "      <td>0.001470</td>\n",
              "      <td>0.939906</td>\n",
              "      <td>0.020428</td>\n",
              "      <td>0.024574</td>\n",
              "      <td>269.405953</td>\n",
              "      <td>11.7501</td>\n",
              "      <td>1.565752</td>\n",
              "      <td>1.499447</td>\n",
              "      <td>0.471196</td>\n",
              "    </tr>\n",
              "  </tbody>\n",
              "</table>\n",
              "<p>5 rows × 1280 columns</p>\n",
              "</div>"
            ],
            "text/plain": [
              "   Unnamed: 0       var0009       var0010   var0011   var0012   var0013  \\\n",
              "0           0  1.399841e+13  1.499801e+13  9.791195  1.209152  1.120664   \n",
              "1          13  1.399841e+13  1.499801e+13  9.791195  1.209152  1.120664   \n",
              "2          15  1.399841e+13  1.499801e+13  9.791195  1.209152  1.120664   \n",
              "3          21  1.399841e+13  1.499801e+13  9.791195  1.209152  1.120664   \n",
              "4          24  1.399841e+13  1.499801e+13  9.791195  1.209152  1.120664   \n",
              "\n",
              "       var0014  var0015  var0016   var0017  ...   var1089   var1090   var1091  \\\n",
              "0  2003.490935  1.18838  1.18838  1.137626  ...  0.464817  0.005411  1.610939   \n",
              "1  2003.490935  1.18838  1.18838  1.137626  ...  3.972740  0.000822  1.424492   \n",
              "2  2003.490935  1.18838  1.18838  1.137626  ...  1.039131  0.006841  1.257027   \n",
              "3  2003.490935  1.18838  1.18838  1.137626  ...  0.812861  0.000765  1.371218   \n",
              "4  2003.490935  1.18838  1.18838  1.137626  ...  1.479692  0.001470  0.939906   \n",
              "\n",
              "    var1092   var1093     var1094   var1095   var1096   var1097   var1098  \n",
              "0  0.017790  0.014483  529.444681   16.0833  1.565752  0.494665  1.875034  \n",
              "1  0.017790  0.000812  525.395565    4.4583  1.565752  3.946720  1.994516  \n",
              "2  0.017960  0.002827  337.546991  596.7080  0.957500  1.609646  0.472691  \n",
              "3  0.008683  0.022483  425.409177   96.9999  0.359768  0.815174  1.368256  \n",
              "4  0.020428  0.024574  269.405953   11.7501  1.565752  1.499447  0.471196  \n",
              "\n",
              "[5 rows x 1280 columns]"
            ]
          },
          "metadata": {
            "tags": []
          },
          "execution_count": 9
        }
      ]
    },
    {
      "cell_type": "code",
      "metadata": {
        "id": "o-BW8R0ARVQ6"
      },
      "source": [
        "X_test = pd.read_csv('C:/Users/94018/OneDrive/Documents/BA886-7/Data/id_Xtest.csv')\n",
        "y_test = X_test['y']\n",
        "X_test = X_test.drop(['Unnamed: 0', 'y'], axis=1)\n",
        "data1_t = source1.merge(X_test, left_on = ['pol_id',\t'year'], right_on = ['pol_id',\t'year'], how='inner')\n",
        "var_t = data1_t.drop(['pol_id','year','STATE','ZIP5','ZIP4'], axis=1)\n",
        "var_t = var_t.apply(lambda x: x.fillna(x.mean()))"
      ],
      "execution_count": null,
      "outputs": []
    },
    {
      "cell_type": "code",
      "metadata": {
        "colab": {
          "base_uri": "https://localhost:8080/",
          "height": 253
        },
        "id": "nedMM-vTSG5S",
        "outputId": "c58daa93-ecfc-4958-c7ed-41b6a7db6ba3"
      },
      "source": [
        "var_t.head()"
      ],
      "execution_count": null,
      "outputs": [
        {
          "output_type": "execute_result",
          "data": {
            "text/html": [
              "<div>\n",
              "<style scoped>\n",
              "    .dataframe tbody tr th:only-of-type {\n",
              "        vertical-align: middle;\n",
              "    }\n",
              "\n",
              "    .dataframe tbody tr th {\n",
              "        vertical-align: top;\n",
              "    }\n",
              "\n",
              "    .dataframe thead th {\n",
              "        text-align: right;\n",
              "    }\n",
              "</style>\n",
              "<table border=\"1\" class=\"dataframe\">\n",
              "  <thead>\n",
              "    <tr style=\"text-align: right;\">\n",
              "      <th></th>\n",
              "      <th>Unnamed: 0</th>\n",
              "      <th>var0009</th>\n",
              "      <th>var0010</th>\n",
              "      <th>var0011</th>\n",
              "      <th>var0012</th>\n",
              "      <th>var0013</th>\n",
              "      <th>var0014</th>\n",
              "      <th>var0015</th>\n",
              "      <th>var0016</th>\n",
              "      <th>var0017</th>\n",
              "      <th>...</th>\n",
              "      <th>var1089</th>\n",
              "      <th>var1090</th>\n",
              "      <th>var1091</th>\n",
              "      <th>var1092</th>\n",
              "      <th>var1093</th>\n",
              "      <th>var1094</th>\n",
              "      <th>var1095</th>\n",
              "      <th>var1096</th>\n",
              "      <th>var1097</th>\n",
              "      <th>var1098</th>\n",
              "    </tr>\n",
              "  </thead>\n",
              "  <tbody>\n",
              "    <tr>\n",
              "      <th>0</th>\n",
              "      <td>4</td>\n",
              "      <td>1.399841e+13</td>\n",
              "      <td>1.499801e+13</td>\n",
              "      <td>9.76744</td>\n",
              "      <td>1.200569</td>\n",
              "      <td>1.117144</td>\n",
              "      <td>2003.549814</td>\n",
              "      <td>1.187388</td>\n",
              "      <td>1.187388</td>\n",
              "      <td>1.136092</td>\n",
              "      <td>...</td>\n",
              "      <td>2.052881</td>\n",
              "      <td>0.002271</td>\n",
              "      <td>1.390553</td>\n",
              "      <td>0.019262</td>\n",
              "      <td>0.018343</td>\n",
              "      <td>363.864886</td>\n",
              "      <td>58.3333</td>\n",
              "      <td>1.856222</td>\n",
              "      <td>2.134286</td>\n",
              "      <td>1.020104</td>\n",
              "    </tr>\n",
              "    <tr>\n",
              "      <th>1</th>\n",
              "      <td>148</td>\n",
              "      <td>1.399811e+13</td>\n",
              "      <td>1.499711e+13</td>\n",
              "      <td>1.00000</td>\n",
              "      <td>1.705242</td>\n",
              "      <td>0.107922</td>\n",
              "      <td>2017.000000</td>\n",
              "      <td>1.587818</td>\n",
              "      <td>1.587818</td>\n",
              "      <td>1.395953</td>\n",
              "      <td>...</td>\n",
              "      <td>0.695146</td>\n",
              "      <td>0.004978</td>\n",
              "      <td>0.834543</td>\n",
              "      <td>0.005689</td>\n",
              "      <td>0.024879</td>\n",
              "      <td>420.688538</td>\n",
              "      <td>53.7918</td>\n",
              "      <td>1.534607</td>\n",
              "      <td>0.685446</td>\n",
              "      <td>1.638734</td>\n",
              "    </tr>\n",
              "    <tr>\n",
              "      <th>2</th>\n",
              "      <td>207</td>\n",
              "      <td>1.399811e+13</td>\n",
              "      <td>1.499711e+13</td>\n",
              "      <td>15.00000</td>\n",
              "      <td>1.705242</td>\n",
              "      <td>1.618828</td>\n",
              "      <td>1993.000000</td>\n",
              "      <td>1.587818</td>\n",
              "      <td>1.587818</td>\n",
              "      <td>1.395953</td>\n",
              "      <td>...</td>\n",
              "      <td>1.500188</td>\n",
              "      <td>0.004723</td>\n",
              "      <td>0.840432</td>\n",
              "      <td>0.003003</td>\n",
              "      <td>0.002378</td>\n",
              "      <td>415.607663</td>\n",
              "      <td>57.5831</td>\n",
              "      <td>2.026263</td>\n",
              "      <td>1.442561</td>\n",
              "      <td>0.753993</td>\n",
              "    </tr>\n",
              "    <tr>\n",
              "      <th>3</th>\n",
              "      <td>223</td>\n",
              "      <td>1.399811e+13</td>\n",
              "      <td>1.499711e+13</td>\n",
              "      <td>15.00000</td>\n",
              "      <td>1.705242</td>\n",
              "      <td>1.618828</td>\n",
              "      <td>1991.000000</td>\n",
              "      <td>1.587818</td>\n",
              "      <td>1.587818</td>\n",
              "      <td>1.395953</td>\n",
              "      <td>...</td>\n",
              "      <td>1.641251</td>\n",
              "      <td>0.004662</td>\n",
              "      <td>0.968284</td>\n",
              "      <td>0.008450</td>\n",
              "      <td>0.004516</td>\n",
              "      <td>427.479483</td>\n",
              "      <td>56.6667</td>\n",
              "      <td>1.176755</td>\n",
              "      <td>1.578286</td>\n",
              "      <td>1.222362</td>\n",
              "    </tr>\n",
              "    <tr>\n",
              "      <th>4</th>\n",
              "      <td>248</td>\n",
              "      <td>1.399811e+13</td>\n",
              "      <td>1.499711e+13</td>\n",
              "      <td>14.00000</td>\n",
              "      <td>1.705242</td>\n",
              "      <td>1.510906</td>\n",
              "      <td>2004.000000</td>\n",
              "      <td>1.587818</td>\n",
              "      <td>1.587818</td>\n",
              "      <td>1.395953</td>\n",
              "      <td>...</td>\n",
              "      <td>1.244375</td>\n",
              "      <td>0.004465</td>\n",
              "      <td>1.177163</td>\n",
              "      <td>0.003116</td>\n",
              "      <td>0.024879</td>\n",
              "      <td>415.587923</td>\n",
              "      <td>66.6667</td>\n",
              "      <td>0.887392</td>\n",
              "      <td>1.193542</td>\n",
              "      <td>1.638734</td>\n",
              "    </tr>\n",
              "  </tbody>\n",
              "</table>\n",
              "<p>5 rows × 1280 columns</p>\n",
              "</div>"
            ],
            "text/plain": [
              "   Unnamed: 0       var0009       var0010   var0011   var0012   var0013  \\\n",
              "0           4  1.399841e+13  1.499801e+13   9.76744  1.200569  1.117144   \n",
              "1         148  1.399811e+13  1.499711e+13   1.00000  1.705242  0.107922   \n",
              "2         207  1.399811e+13  1.499711e+13  15.00000  1.705242  1.618828   \n",
              "3         223  1.399811e+13  1.499711e+13  15.00000  1.705242  1.618828   \n",
              "4         248  1.399811e+13  1.499711e+13  14.00000  1.705242  1.510906   \n",
              "\n",
              "       var0014   var0015   var0016   var0017  ...   var1089   var1090  \\\n",
              "0  2003.549814  1.187388  1.187388  1.136092  ...  2.052881  0.002271   \n",
              "1  2017.000000  1.587818  1.587818  1.395953  ...  0.695146  0.004978   \n",
              "2  1993.000000  1.587818  1.587818  1.395953  ...  1.500188  0.004723   \n",
              "3  1991.000000  1.587818  1.587818  1.395953  ...  1.641251  0.004662   \n",
              "4  2004.000000  1.587818  1.587818  1.395953  ...  1.244375  0.004465   \n",
              "\n",
              "    var1091   var1092   var1093     var1094  var1095   var1096   var1097  \\\n",
              "0  1.390553  0.019262  0.018343  363.864886  58.3333  1.856222  2.134286   \n",
              "1  0.834543  0.005689  0.024879  420.688538  53.7918  1.534607  0.685446   \n",
              "2  0.840432  0.003003  0.002378  415.607663  57.5831  2.026263  1.442561   \n",
              "3  0.968284  0.008450  0.004516  427.479483  56.6667  1.176755  1.578286   \n",
              "4  1.177163  0.003116  0.024879  415.587923  66.6667  0.887392  1.193542   \n",
              "\n",
              "    var1098  \n",
              "0  1.020104  \n",
              "1  1.638734  \n",
              "2  0.753993  \n",
              "3  1.222362  \n",
              "4  1.638734  \n",
              "\n",
              "[5 rows x 1280 columns]"
            ]
          },
          "metadata": {
            "tags": []
          },
          "execution_count": 11
        }
      ]
    },
    {
      "cell_type": "code",
      "metadata": {
        "colab": {
          "base_uri": "https://localhost:8080/"
        },
        "id": "jvTLvn63SRiB",
        "outputId": "ef4caba2-5b56-47da-b5a5-22d4d8b1f14b"
      },
      "source": [
        "# random forest\n",
        "modelRF = RandomForestClassifier(n_jobs=-1)\n",
        "modelRF.fit(var, y_train)\n",
        "RF_pred = modelRF.predict(var_t)\n",
        "print(accuracy_score(y_test, RF_pred))\n",
        "print(classification_report(y_test, RF_pred))"
      ],
      "execution_count": null,
      "outputs": [
        {
          "output_type": "stream",
          "text": [
            "0.9372702118788614\n",
            "              precision    recall  f1-score   support\n",
            "\n",
            "           0       0.94      1.00      0.97     24767\n",
            "           1       0.05      0.00      0.00      1616\n",
            "\n",
            "    accuracy                           0.94     26383\n",
            "   macro avg       0.49      0.50      0.49     26383\n",
            "weighted avg       0.88      0.94      0.91     26383\n",
            "\n"
          ],
          "name": "stdout"
        }
      ]
    },
    {
      "cell_type": "code",
      "metadata": {
        "colab": {
          "base_uri": "https://localhost:8080/",
          "height": 520
        },
        "id": "AHteYEyQV5Q7",
        "outputId": "6fff8d49-269a-45da-f20a-e4e0cf39bf31"
      },
      "source": [
        "score = accuracy_score(y_test, RF_pred)\n",
        "cm = confusion_matrix(y_test, RF_pred)\n",
        "\n",
        "plt.figure(figsize=(9,9))\n",
        "sns.heatmap(cm, annot=True, fmt=\".3f\", linewidths=.5, square = True, cmap = 'Blues_r');\n",
        "plt.ylabel('Actual label');\n",
        "plt.xlabel('Predicted label');\n",
        "all_sample_title = 'Accuracy Score: {0}'.format(score)\n",
        "plt.title(all_sample_title, size = 15);"
      ],
      "execution_count": null,
      "outputs": [
        {
          "output_type": "display_data",
          "data": {
            "image/png": "[encoded data removed]",
            "text/plain": [
              "<Figure size 648x648 with 2 Axes>"
            ]
          },
          "metadata": {
            "tags": [],
            "needs_background": "light"
          }
        }
      ]
    },
    {
      "cell_type": "code",
      "metadata": {
        "colab": {
          "base_uri": "https://localhost:8080/"
        },
        "id": "ms11fWPMTm39",
        "outputId": "d41d4751-789a-4986-d8da-0cb5f0d08fe6"
      },
      "source": [
        "# xgboost\n",
        "modelXG = XGBClassifier()\n",
        "modelXG.fit(var, y_train)\n",
        "XG_pred = modelXG.predict(var_t)\n",
        "print(accuracy_score(y_test, XG_pred))\n",
        "print(classification_report(y_test, XG_pred))"
      ],
      "execution_count": null,
      "outputs": [
        {
          "output_type": "stream",
          "text": [
            "C:\\Users\\94018\\anaconda3\\lib\\site-packages\\xgboost\\sklearn.py:888: UserWarning: The use of label encoder in XGBClassifier is deprecated and will be removed in a future release. To remove this warning, do the following: 1) Pass option use_label_encoder=False when constructing XGBClassifier object; and 2) Encode your labels (y) as integers starting with 0, i.e. 0, 1, 2, ..., [num_class - 1].\n",
            "  warnings.warn(label_encoder_deprecation_msg, UserWarning)\n"
          ],
          "name": "stderr"
        },
        {
          "output_type": "stream",
          "text": [
            "[15:54:33] WARNING: C:/Users/Administrator/workspace/xgboost-win64_release_1.3.0/src/learner.cc:1061: Starting in XGBoost 1.3.0, the default evaluation metric used with the objective 'binary:logistic' was changed from 'error' to 'logloss'. Explicitly set eval_metric if you'd like to restore the old behavior.\n",
            "0.9382177917598453\n",
            "              precision    recall  f1-score   support\n",
            "\n",
            "           0       0.94      1.00      0.97     24767\n",
            "           1       0.11      0.00      0.00      1616\n",
            "\n",
            "    accuracy                           0.94     26383\n",
            "   macro avg       0.52      0.50      0.49     26383\n",
            "weighted avg       0.89      0.94      0.91     26383\n",
            "\n"
          ],
          "name": "stdout"
        }
      ]
    },
    {
      "cell_type": "code",
      "metadata": {
        "colab": {
          "base_uri": "https://localhost:8080/",
          "height": 526
        },
        "id": "W_amr8PUWQDl",
        "outputId": "a19332e0-e8d1-4574-b9d7-e02cbc1aae33"
      },
      "source": [
        "score = accuracy_score(y_test, XG_pred)\n",
        "cm = confusion_matrix(y_test, XG_pred)\n",
        "\n",
        "plt.figure(figsize=(9,9))\n",
        "sns.heatmap(cm, annot=True, fmt=\".3f\", linewidths=.5, square = True, cmap = 'Blues_r');\n",
        "plt.ylabel('Actual label');\n",
        "plt.xlabel('Predicted label');\n",
        "all_sample_title = 'Accuracy Score: {0}'.format(score)\n",
        "plt.title(all_sample_title, size = 15);"
      ],
      "execution_count": null,
      "outputs": [
        {
          "output_type": "display_data",
          "data": {
            "image/png": "[encoded data removed]",
            "text/plain": [
              "<Figure size 648x648 with 2 Axes>"
            ]
          },
          "metadata": {
            "tags": [],
            "needs_background": "light"
          }
        }
      ]
    },
    {
      "cell_type": "code",
      "metadata": {
        "colab": {
          "base_uri": "https://localhost:8080/"
        },
        "id": "Jht0CODfT1I8",
        "outputId": "367b5d93-c0a0-4fa0-cf23-964e52387cf7"
      },
      "source": [
        "# decision tree\n",
        "modelDT = DecisionTreeClassifier()\n",
        "modelDT.fit(var, y_train)\n",
        "DT_pred = modelDT.predict(var_t)\n",
        "print(accuracy_score(y_test, DT_pred))\n",
        "print(classification_report(y_test, DT_pred))"
      ],
      "execution_count": null,
      "outputs": [
        {
          "output_type": "stream",
          "text": [
            "0.864420270628814\n",
            "              precision    recall  f1-score   support\n",
            "\n",
            "           0       0.94      0.92      0.93     24767\n",
            "           1       0.06      0.09      0.07      1616\n",
            "\n",
            "    accuracy                           0.86     26383\n",
            "   macro avg       0.50      0.50      0.50     26383\n",
            "weighted avg       0.89      0.86      0.87     26383\n",
            "\n"
          ],
          "name": "stdout"
        }
      ]
    },
    {
      "cell_type": "code",
      "metadata": {
        "colab": {
          "base_uri": "https://localhost:8080/",
          "height": 520
        },
        "id": "9BAZJR1RUc5n",
        "outputId": "3a258b57-6e07-43b9-cc40-430e226288ac"
      },
      "source": [
        "score = accuracy_score(y_test, DT_pred)\n",
        "cm = confusion_matrix(y_test, DT_pred)\n",
        "\n",
        "plt.figure(figsize=(9,9))\n",
        "sns.heatmap(cm, annot=True, fmt=\".3f\", linewidths=.5, square = True, cmap = 'Blues_r');\n",
        "plt.ylabel('Actual label');\n",
        "plt.xlabel('Predicted label');\n",
        "all_sample_title = 'Accuracy Score: {0}'.format(score)\n",
        "plt.title(all_sample_title, size = 15);"
      ],
      "execution_count": null,
      "outputs": [
        {
          "output_type": "display_data",
          "data": {
            "image/png": "[encoded data removed]",
            "text/plain": [
              "<Figure size 648x648 with 2 Axes>"
            ]
          },
          "metadata": {
            "tags": [],
            "needs_background": "light"
          }
        }
      ]
    },
    {
      "cell_type": "code",
      "metadata": {
        "id": "taWFyXoHWW_0"
      },
      "source": [
        ""
      ],
      "execution_count": null,
      "outputs": []
    }
  ]
}