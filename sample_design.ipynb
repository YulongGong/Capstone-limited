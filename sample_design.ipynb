{
  "nbformat": 4,
  "nbformat_minor": 0,
  "metadata": {
    "colab": {
      "name": "sample design.ipynb",
      "provenance": [],
      "collapsed_sections": [
        "ohmMvvSLbBpq"
      ],
      "toc_visible": true
    },
    "kernelspec": {
      "name": "python3",
      "display_name": "Python 3"
    },
    "language_info": {
      "name": "python"
    }
  },
  "cells": [
    {
      "cell_type": "markdown",
      "metadata": {
        "id": "2DIHllenyv1N"
      },
      "source": [
        "# Import"
      ]
    },
    {
      "cell_type": "code",
      "metadata": {
        "colab": {
          "base_uri": "https://localhost:8080/"
        },
        "id": "_p8CDralXdER",
        "outputId": "ad7a2714-2551-4912-eb21-7ffbc1c1e50e"
      },
      "source": [
        "from google.colab import drive\n",
        "drive.mount('/content/drive')"
      ],
      "execution_count": 66,
      "outputs": [
        {
          "output_type": "stream",
          "text": [
            "Drive already mounted at /content/drive; to attempt to forcibly remount, call drive.mount(\"/content/drive\", force_remount=True).\n"
          ],
          "name": "stdout"
        }
      ]
    },
    {
      "cell_type": "code",
      "metadata": {
        "id": "bFs_flccXkaI"
      },
      "source": [
        "import numpy as np\n",
        "import pandas as pd\n",
        "import seaborn as sns\n",
        "import matplotlib.pyplot as plt"
      ],
      "execution_count": 67,
      "outputs": []
    },
    {
      "cell_type": "code",
      "metadata": {
        "id": "i2Rv6zxqXsda"
      },
      "source": [
        "# policy year level data\n",
        "df = pd.read_csv('/content/drive/MyDrive/BU Capstone Team2 Credit No_hit/Data/team2_driver.csv.gz')"
      ],
      "execution_count": 68,
      "outputs": []
    },
    {
      "cell_type": "code",
      "metadata": {
        "colab": {
          "base_uri": "https://localhost:8080/",
          "height": 204
        },
        "id": "-NwebiESYFpM",
        "outputId": "7ebfb2ec-5264-44e6-b55f-1f294e6c6a63"
      },
      "source": [
        "df.head()"
      ],
      "execution_count": 69,
      "outputs": [
        {
          "output_type": "execute_result",
          "data": {
            "text/html": [
              "<div>\n",
              "<style scoped>\n",
              "    .dataframe tbody tr th:only-of-type {\n",
              "        vertical-align: middle;\n",
              "    }\n",
              "\n",
              "    .dataframe tbody tr th {\n",
              "        vertical-align: top;\n",
              "    }\n",
              "\n",
              "    .dataframe thead th {\n",
              "        text-align: right;\n",
              "    }\n",
              "</style>\n",
              "<table border=\"1\" class=\"dataframe\">\n",
              "  <thead>\n",
              "    <tr style=\"text-align: right;\">\n",
              "      <th></th>\n",
              "      <th>pol_id</th>\n",
              "      <th>year</th>\n",
              "      <th>STATE</th>\n",
              "      <th>ZIP5</th>\n",
              "      <th>ZIP4</th>\n",
              "      <th>no_hit</th>\n",
              "    </tr>\n",
              "  </thead>\n",
              "  <tbody>\n",
              "    <tr>\n",
              "      <th>0</th>\n",
              "      <td>BHD00001001024</td>\n",
              "      <td>2016</td>\n",
              "      <td>MA</td>\n",
              "      <td>2740</td>\n",
              "      <td>1228.0</td>\n",
              "      <td>1</td>\n",
              "    </tr>\n",
              "    <tr>\n",
              "      <th>1</th>\n",
              "      <td>BHD00001001024</td>\n",
              "      <td>2017</td>\n",
              "      <td>MA</td>\n",
              "      <td>2740</td>\n",
              "      <td>1228.0</td>\n",
              "      <td>1</td>\n",
              "    </tr>\n",
              "    <tr>\n",
              "      <th>2</th>\n",
              "      <td>BHD00001001024</td>\n",
              "      <td>2018</td>\n",
              "      <td>MA</td>\n",
              "      <td>2740</td>\n",
              "      <td>1228.0</td>\n",
              "      <td>1</td>\n",
              "    </tr>\n",
              "    <tr>\n",
              "      <th>3</th>\n",
              "      <td>BHD00001001024</td>\n",
              "      <td>2019</td>\n",
              "      <td>MA</td>\n",
              "      <td>2740</td>\n",
              "      <td>1228.0</td>\n",
              "      <td>1</td>\n",
              "    </tr>\n",
              "    <tr>\n",
              "      <th>4</th>\n",
              "      <td>BHD00001001024</td>\n",
              "      <td>2020</td>\n",
              "      <td>MA</td>\n",
              "      <td>2740</td>\n",
              "      <td>1228.0</td>\n",
              "      <td>1</td>\n",
              "    </tr>\n",
              "  </tbody>\n",
              "</table>\n",
              "</div>"
            ],
            "text/plain": [
              "           pol_id  year STATE  ZIP5    ZIP4  no_hit\n",
              "0  BHD00001001024  2016    MA  2740  1228.0       1\n",
              "1  BHD00001001024  2017    MA  2740  1228.0       1\n",
              "2  BHD00001001024  2018    MA  2740  1228.0       1\n",
              "3  BHD00001001024  2019    MA  2740  1228.0       1\n",
              "4  BHD00001001024  2020    MA  2740  1228.0       1"
            ]
          },
          "metadata": {
            "tags": []
          },
          "execution_count": 69
        }
      ]
    },
    {
      "cell_type": "code",
      "metadata": {
        "id": "mA6IdZ4FXz-g"
      },
      "source": [
        "# id level data\n",
        "pol = pd.read_csv('/content/drive/MyDrive/BU Capstone Team2 Credit No_hit/Data/policy_level.csv').drop('Unnamed: 0', axis=1)"
      ],
      "execution_count": 70,
      "outputs": []
    },
    {
      "cell_type": "code",
      "metadata": {
        "colab": {
          "base_uri": "https://localhost:8080/",
          "height": 204
        },
        "id": "NwSv4xrPX6nB",
        "outputId": "5eb9919d-e8af-4de9-a7a1-ffdbd01b9817"
      },
      "source": [
        "pol.head()"
      ],
      "execution_count": 71,
      "outputs": [
        {
          "output_type": "execute_result",
          "data": {
            "text/html": [
              "<div>\n",
              "<style scoped>\n",
              "    .dataframe tbody tr th:only-of-type {\n",
              "        vertical-align: middle;\n",
              "    }\n",
              "\n",
              "    .dataframe tbody tr th {\n",
              "        vertical-align: top;\n",
              "    }\n",
              "\n",
              "    .dataframe thead th {\n",
              "        text-align: right;\n",
              "    }\n",
              "</style>\n",
              "<table border=\"1\" class=\"dataframe\">\n",
              "  <thead>\n",
              "    <tr style=\"text-align: right;\">\n",
              "      <th></th>\n",
              "      <th>pol_id</th>\n",
              "      <th>year</th>\n",
              "      <th>STATE</th>\n",
              "      <th>ZIP5</th>\n",
              "      <th>ZIP4</th>\n",
              "      <th>no_hit</th>\n",
              "    </tr>\n",
              "  </thead>\n",
              "  <tbody>\n",
              "    <tr>\n",
              "      <th>0</th>\n",
              "      <td>BHD00001001024</td>\n",
              "      <td>2016</td>\n",
              "      <td>MA</td>\n",
              "      <td>2740</td>\n",
              "      <td>1228.0</td>\n",
              "      <td>1</td>\n",
              "    </tr>\n",
              "    <tr>\n",
              "      <th>1</th>\n",
              "      <td>BHD00001001030</td>\n",
              "      <td>2016</td>\n",
              "      <td>MA</td>\n",
              "      <td>2740</td>\n",
              "      <td>4523.0</td>\n",
              "      <td>1</td>\n",
              "    </tr>\n",
              "    <tr>\n",
              "      <th>2</th>\n",
              "      <td>BHD00001001034</td>\n",
              "      <td>2015</td>\n",
              "      <td>MA</td>\n",
              "      <td>2745</td>\n",
              "      <td>5672.0</td>\n",
              "      <td>0</td>\n",
              "    </tr>\n",
              "    <tr>\n",
              "      <th>3</th>\n",
              "      <td>BHD00001001037</td>\n",
              "      <td>2016</td>\n",
              "      <td>MA</td>\n",
              "      <td>1566</td>\n",
              "      <td>1335.0</td>\n",
              "      <td>0</td>\n",
              "    </tr>\n",
              "    <tr>\n",
              "      <th>4</th>\n",
              "      <td>BHD00001001041</td>\n",
              "      <td>2016</td>\n",
              "      <td>MA</td>\n",
              "      <td>2745</td>\n",
              "      <td>5260.0</td>\n",
              "      <td>0</td>\n",
              "    </tr>\n",
              "  </tbody>\n",
              "</table>\n",
              "</div>"
            ],
            "text/plain": [
              "           pol_id  year STATE  ZIP5    ZIP4  no_hit\n",
              "0  BHD00001001024  2016    MA  2740  1228.0       1\n",
              "1  BHD00001001030  2016    MA  2740  4523.0       1\n",
              "2  BHD00001001034  2015    MA  2745  5672.0       0\n",
              "3  BHD00001001037  2016    MA  1566  1335.0       0\n",
              "4  BHD00001001041  2016    MA  2745  5260.0       0"
            ]
          },
          "metadata": {
            "tags": []
          },
          "execution_count": 71
        }
      ]
    },
    {
      "cell_type": "code",
      "metadata": {
        "id": "2lQEk6zyX8Y3",
        "colab": {
          "base_uri": "https://localhost:8080/"
        },
        "outputId": "827f30e2-d6bc-4c11-eb5d-a1ab3d457e87"
      },
      "source": [
        "pol.shape"
      ],
      "execution_count": 72,
      "outputs": [
        {
          "output_type": "execute_result",
          "data": {
            "text/plain": [
              "(176704, 6)"
            ]
          },
          "metadata": {
            "tags": []
          },
          "execution_count": 72
        }
      ]
    },
    {
      "cell_type": "markdown",
      "metadata": {
        "id": "ohmMvvSLbBpq"
      },
      "source": [
        "# useful stratify functions\n",
        "https://www.kaggle.com/flaviobossolan/stratified-sampling-python"
      ]
    },
    {
      "cell_type": "code",
      "metadata": {
        "id": "ktHawAC0Zu_E"
      },
      "source": [
        "def stratified_sample(df, strata, size=None, seed=None, keep_index= True):\n",
        "  population = len(df)\n",
        "  size = __smpl_size(population, size)\n",
        "  tmp = df[strata]\n",
        "  tmp['size'] = 1\n",
        "  tmp_grpd = tmp.groupby(strata).count().reset_index()\n",
        "  tmp_grpd['samp_size'] = round(size/population * tmp_grpd['size']).astype(int)\n",
        "  first = True \n",
        "  for i in range(len(tmp_grpd)):\n",
        "        # query generator for each iteration\n",
        "    qry=''\n",
        "    for s in range(len(strata)):\n",
        "      stratum = strata[s]\n",
        "      value = tmp_grpd.iloc[i][stratum]\n",
        "      n = tmp_grpd.iloc[i]['samp_size']\n",
        "\n",
        "      if type(value) == str:\n",
        "        value = \"'\" + str(value) + \"'\"\n",
        "            \n",
        "      if s != len(strata)-1:\n",
        "        qry = qry + stratum + ' == ' + str(value) +' & '\n",
        "\n",
        "      else:\n",
        "        qry = qry + stratum + ' == ' + str(value)\n",
        "        \n",
        "        \n",
        "      if first:\n",
        "        stratified_df = df.query(qry).sample(n=n, random_state=seed).reset_index(drop=(not keep_index))\n",
        "        first = False\n",
        "      else:\n",
        "        tmp_df = df.query(qry).sample(n=n, random_state=seed).reset_index(drop=(not keep_index))\n",
        "        stratified_df = stratified_df.append(tmp_df, ignore_index=True)\n",
        "    \n",
        "    return stratified_df\n"
      ],
      "execution_count": 73,
      "outputs": []
    },
    {
      "cell_type": "code",
      "metadata": {
        "id": "FlZgMNhWZu75"
      },
      "source": [
        "def stratified_sample_report(df, strata, size=None):\n",
        "    population = len(df)\n",
        "    size = __smpl_size(population, size)\n",
        "    tmp = df[strata]\n",
        "    tmp['size'] = 1\n",
        "    tmp_grpd = tmp.groupby(strata).count().reset_index()\n",
        "    tmp_grpd['samp_size'] = round(size/population * tmp_grpd['size']).astype(int)\n",
        "    return tmp_grpd\n",
        "\n",
        "\n",
        "def __smpl_size(population, size):\n",
        "    if size is None:\n",
        "        cochran_n = round(((1.96)**2 * 0.5 * 0.5)/ 0.02**2)\n",
        "        n = round(cochran_n/(1+((cochran_n -1) /population)))\n",
        "    elif size >= 0 and size < 1:\n",
        "        n = round(population * size)\n",
        "    elif size < 0:\n",
        "        raise ValueError('Parameter \"size\" must be an integer or a proportion between 0 and 0.99.')\n",
        "    elif size >= 1:\n",
        "        n = size\n",
        "    return n\n"
      ],
      "execution_count": 74,
      "outputs": []
    },
    {
      "cell_type": "markdown",
      "metadata": {
        "id": "341Q2JqxdUcX"
      },
      "source": [
        "# Policy id (in sample)"
      ]
    },
    {
      "cell_type": "code",
      "metadata": {
        "colab": {
          "base_uri": "https://localhost:8080/",
          "height": 419
        },
        "id": "iZ17Cla8dRkq",
        "outputId": "a9b33560-a541-44a9-cc7d-ec74488faad5"
      },
      "source": [
        "p_in = pol[pol.year.isin([2016, 2017, 2018, 2019])]\n",
        "p_in"
      ],
      "execution_count": 75,
      "outputs": [
        {
          "output_type": "execute_result",
          "data": {
            "text/html": [
              "<div>\n",
              "<style scoped>\n",
              "    .dataframe tbody tr th:only-of-type {\n",
              "        vertical-align: middle;\n",
              "    }\n",
              "\n",
              "    .dataframe tbody tr th {\n",
              "        vertical-align: top;\n",
              "    }\n",
              "\n",
              "    .dataframe thead th {\n",
              "        text-align: right;\n",
              "    }\n",
              "</style>\n",
              "<table border=\"1\" class=\"dataframe\">\n",
              "  <thead>\n",
              "    <tr style=\"text-align: right;\">\n",
              "      <th></th>\n",
              "      <th>pol_id</th>\n",
              "      <th>year</th>\n",
              "      <th>STATE</th>\n",
              "      <th>ZIP5</th>\n",
              "      <th>ZIP4</th>\n",
              "      <th>no_hit</th>\n",
              "    </tr>\n",
              "  </thead>\n",
              "  <tbody>\n",
              "    <tr>\n",
              "      <th>0</th>\n",
              "      <td>BHD00001001024</td>\n",
              "      <td>2016</td>\n",
              "      <td>MA</td>\n",
              "      <td>2740</td>\n",
              "      <td>1228.0</td>\n",
              "      <td>1</td>\n",
              "    </tr>\n",
              "    <tr>\n",
              "      <th>1</th>\n",
              "      <td>BHD00001001030</td>\n",
              "      <td>2016</td>\n",
              "      <td>MA</td>\n",
              "      <td>2740</td>\n",
              "      <td>4523.0</td>\n",
              "      <td>1</td>\n",
              "    </tr>\n",
              "    <tr>\n",
              "      <th>3</th>\n",
              "      <td>BHD00001001037</td>\n",
              "      <td>2016</td>\n",
              "      <td>MA</td>\n",
              "      <td>1566</td>\n",
              "      <td>1335.0</td>\n",
              "      <td>0</td>\n",
              "    </tr>\n",
              "    <tr>\n",
              "      <th>4</th>\n",
              "      <td>BHD00001001041</td>\n",
              "      <td>2016</td>\n",
              "      <td>MA</td>\n",
              "      <td>2745</td>\n",
              "      <td>5260.0</td>\n",
              "      <td>0</td>\n",
              "    </tr>\n",
              "    <tr>\n",
              "      <th>5</th>\n",
              "      <td>BHD00001001042</td>\n",
              "      <td>2016</td>\n",
              "      <td>MA</td>\n",
              "      <td>2740</td>\n",
              "      <td>4636.0</td>\n",
              "      <td>1</td>\n",
              "    </tr>\n",
              "    <tr>\n",
              "      <th>...</th>\n",
              "      <td>...</td>\n",
              "      <td>...</td>\n",
              "      <td>...</td>\n",
              "      <td>...</td>\n",
              "      <td>...</td>\n",
              "      <td>...</td>\n",
              "    </tr>\n",
              "    <tr>\n",
              "      <th>176699</th>\n",
              "      <td>PNH00002027385</td>\n",
              "      <td>2018</td>\n",
              "      <td>PA</td>\n",
              "      <td>18322</td>\n",
              "      <td>7702.0</td>\n",
              "      <td>1</td>\n",
              "    </tr>\n",
              "    <tr>\n",
              "      <th>176700</th>\n",
              "      <td>PNH00002027689</td>\n",
              "      <td>2018</td>\n",
              "      <td>PA</td>\n",
              "      <td>18353</td>\n",
              "      <td>7961.0</td>\n",
              "      <td>0</td>\n",
              "    </tr>\n",
              "    <tr>\n",
              "      <th>176701</th>\n",
              "      <td>PNH00002028175</td>\n",
              "      <td>2018</td>\n",
              "      <td>NJ</td>\n",
              "      <td>18350</td>\n",
              "      <td>NaN</td>\n",
              "      <td>1</td>\n",
              "    </tr>\n",
              "    <tr>\n",
              "      <th>176702</th>\n",
              "      <td>PNH00002028506</td>\n",
              "      <td>2018</td>\n",
              "      <td>PA</td>\n",
              "      <td>18052</td>\n",
              "      <td>4002.0</td>\n",
              "      <td>0</td>\n",
              "    </tr>\n",
              "    <tr>\n",
              "      <th>176703</th>\n",
              "      <td>PNH00002030258</td>\n",
              "      <td>2018</td>\n",
              "      <td>PA</td>\n",
              "      <td>18104</td>\n",
              "      <td>6545.0</td>\n",
              "      <td>0</td>\n",
              "    </tr>\n",
              "  </tbody>\n",
              "</table>\n",
              "<p>131913 rows × 6 columns</p>\n",
              "</div>"
            ],
            "text/plain": [
              "                pol_id  year STATE   ZIP5    ZIP4  no_hit\n",
              "0       BHD00001001024  2016    MA   2740  1228.0       1\n",
              "1       BHD00001001030  2016    MA   2740  4523.0       1\n",
              "3       BHD00001001037  2016    MA   1566  1335.0       0\n",
              "4       BHD00001001041  2016    MA   2745  5260.0       0\n",
              "5       BHD00001001042  2016    MA   2740  4636.0       1\n",
              "...                ...   ...   ...    ...     ...     ...\n",
              "176699  PNH00002027385  2018    PA  18322  7702.0       1\n",
              "176700  PNH00002027689  2018    PA  18353  7961.0       0\n",
              "176701  PNH00002028175  2018    NJ  18350     NaN       1\n",
              "176702  PNH00002028506  2018    PA  18052  4002.0       0\n",
              "176703  PNH00002030258  2018    PA  18104  6545.0       0\n",
              "\n",
              "[131913 rows x 6 columns]"
            ]
          },
          "metadata": {
            "tags": []
          },
          "execution_count": 75
        }
      ]
    },
    {
      "cell_type": "code",
      "metadata": {
        "colab": {
          "base_uri": "https://localhost:8080/"
        },
        "id": "pls4jk4nGcu6",
        "outputId": "bf4252a6-793e-4032-8908-bac58c097d1d"
      },
      "source": [
        "p_in.loc[((p_in['STATE']=='NY')& (p_in['year']==2018)), 'year']=2019"
      ],
      "execution_count": 76,
      "outputs": [
        {
          "output_type": "stream",
          "text": [
            "/usr/local/lib/python3.7/dist-packages/pandas/core/indexing.py:1763: SettingWithCopyWarning: \n",
            "A value is trying to be set on a copy of a slice from a DataFrame.\n",
            "Try using .loc[row_indexer,col_indexer] = value instead\n",
            "\n",
            "See the caveats in the documentation: https://pandas.pydata.org/pandas-docs/stable/user_guide/indexing.html#returning-a-view-versus-a-copy\n",
            "  isetter(loc, value)\n"
          ],
          "name": "stderr"
        }
      ]
    },
    {
      "cell_type": "code",
      "metadata": {
        "colab": {
          "base_uri": "https://localhost:8080/"
        },
        "id": "dSkMlrTNSpN1",
        "outputId": "dec6bfe4-591f-498e-f480-a7c5c8809d52"
      },
      "source": [
        "p_in.groupby('STATE')['pol_id'].count()"
      ],
      "execution_count": 77,
      "outputs": [
        {
          "output_type": "execute_result",
          "data": {
            "text/plain": [
              "STATE\n",
              "CT    10109\n",
              "MA    55380\n",
              "NH     6613\n",
              "NJ    41017\n",
              "NY     1338\n",
              "PA    17456\n",
              "Name: pol_id, dtype: int64"
            ]
          },
          "metadata": {
            "tags": []
          },
          "execution_count": 77
        }
      ]
    },
    {
      "cell_type": "code",
      "metadata": {
        "colab": {
          "base_uri": "https://localhost:8080/"
        },
        "id": "EuaQWYA3Ua2A",
        "outputId": "ba817ac1-ee92-4f78-f084-3d63b0afcb79"
      },
      "source": [
        "p_in.groupby('year')['pol_id'].count()"
      ],
      "execution_count": 78,
      "outputs": [
        {
          "output_type": "execute_result",
          "data": {
            "text/plain": [
              "year\n",
              "2016    38605\n",
              "2017    13133\n",
              "2018    34959\n",
              "2019    45216\n",
              "Name: pol_id, dtype: int64"
            ]
          },
          "metadata": {
            "tags": []
          },
          "execution_count": 78
        }
      ]
    },
    {
      "cell_type": "code",
      "metadata": {
        "colab": {
          "base_uri": "https://localhost:8080/"
        },
        "id": "GYsPeniBVOtW",
        "outputId": "86b1cba7-0a87-4722-e290-271d8bc877d6"
      },
      "source": [
        "p_in.groupby('no_hit')['pol_id'].count()"
      ],
      "execution_count": 79,
      "outputs": [
        {
          "output_type": "execute_result",
          "data": {
            "text/plain": [
              "no_hit\n",
              "0    123837\n",
              "1      8076\n",
              "Name: pol_id, dtype: int64"
            ]
          },
          "metadata": {
            "tags": []
          },
          "execution_count": 79
        }
      ]
    },
    {
      "cell_type": "code",
      "metadata": {
        "colab": {
          "base_uri": "https://localhost:8080/"
        },
        "id": "2Wl-MvLTXn24",
        "outputId": "1f9a0d77-2ff4-46fa-942a-85727460ef34"
      },
      "source": [
        "p_in.groupby(['STATE','year','no_hit'])['pol_id'].count()"
      ],
      "execution_count": 80,
      "outputs": [
        {
          "output_type": "execute_result",
          "data": {
            "text/plain": [
              "STATE  year  no_hit\n",
              "CT     2016  0          3250\n",
              "             1            91\n",
              "       2017  0          1989\n",
              "             1            75\n",
              "       2018  0          1654\n",
              "             1            73\n",
              "       2019  0          2626\n",
              "             1           351\n",
              "MA     2016  0         28485\n",
              "             1          1016\n",
              "       2017  0          6208\n",
              "             1           211\n",
              "       2018  0          8187\n",
              "             1           243\n",
              "       2019  0         10309\n",
              "             1           721\n",
              "NH     2016  0          1850\n",
              "             1           227\n",
              "       2017  0          1071\n",
              "             1            83\n",
              "       2018  0          1242\n",
              "             1           129\n",
              "       2019  0          1733\n",
              "             1           278\n",
              "NJ     2016  0          3518\n",
              "             1           168\n",
              "       2017  0          3161\n",
              "             1           180\n",
              "       2018  0         17557\n",
              "             1           643\n",
              "       2019  0         14536\n",
              "             1          1254\n",
              "NY     2019  0          1145\n",
              "             1           193\n",
              "PA     2017  0           150\n",
              "             1             5\n",
              "       2018  0          4685\n",
              "             1           546\n",
              "       2019  0         10481\n",
              "             1          1589\n",
              "Name: pol_id, dtype: int64"
            ]
          },
          "metadata": {
            "tags": []
          },
          "execution_count": 80
        }
      ]
    },
    {
      "cell_type": "code",
      "metadata": {
        "id": "ejvCQ8SOd9Ii"
      },
      "source": [
        "p_in_X = p_in.drop('no_hit', axis=1)\n",
        "p_in_y = p_in[['no_hit']]"
      ],
      "execution_count": 81,
      "outputs": []
    },
    {
      "cell_type": "code",
      "metadata": {
        "id": "QUt4SiTgdRi1"
      },
      "source": [
        "# train test split\n",
        "from sklearn.model_selection import train_test_split\n",
        "\n",
        "X_train, X_test, y_train, y_test = train_test_split(p_in_X, p_in_y, test_size=0.2, random_state=2, stratify = p_in[['STATE','year','no_hit']])"
      ],
      "execution_count": 82,
      "outputs": []
    },
    {
      "cell_type": "markdown",
      "metadata": {
        "id": "B5F4N7zTy8w1"
      },
      "source": [
        "> **in-sample training set**"
      ]
    },
    {
      "cell_type": "code",
      "metadata": {
        "colab": {
          "base_uri": "https://localhost:8080/",
          "height": 541
        },
        "id": "Rts_YScFZhUl",
        "outputId": "12f7fc5c-1326-47a4-bc56-d8257ce865f7"
      },
      "source": [
        "X_train['y'] = y_train\n",
        "X_train"
      ],
      "execution_count": 83,
      "outputs": [
        {
          "output_type": "stream",
          "text": [
            "/usr/local/lib/python3.7/dist-packages/ipykernel_launcher.py:1: SettingWithCopyWarning: \n",
            "A value is trying to be set on a copy of a slice from a DataFrame.\n",
            "Try using .loc[row_indexer,col_indexer] = value instead\n",
            "\n",
            "See the caveats in the documentation: https://pandas.pydata.org/pandas-docs/stable/user_guide/indexing.html#returning-a-view-versus-a-copy\n",
            "  \"\"\"Entry point for launching an IPython kernel.\n"
          ],
          "name": "stderr"
        },
        {
          "output_type": "execute_result",
          "data": {
            "text/html": [
              "<div>\n",
              "<style scoped>\n",
              "    .dataframe tbody tr th:only-of-type {\n",
              "        vertical-align: middle;\n",
              "    }\n",
              "\n",
              "    .dataframe tbody tr th {\n",
              "        vertical-align: top;\n",
              "    }\n",
              "\n",
              "    .dataframe thead th {\n",
              "        text-align: right;\n",
              "    }\n",
              "</style>\n",
              "<table border=\"1\" class=\"dataframe\">\n",
              "  <thead>\n",
              "    <tr style=\"text-align: right;\">\n",
              "      <th></th>\n",
              "      <th>pol_id</th>\n",
              "      <th>year</th>\n",
              "      <th>STATE</th>\n",
              "      <th>ZIP5</th>\n",
              "      <th>ZIP4</th>\n",
              "      <th>y</th>\n",
              "    </tr>\n",
              "  </thead>\n",
              "  <tbody>\n",
              "    <tr>\n",
              "      <th>147024</th>\n",
              "      <td>PNH00002007336</td>\n",
              "      <td>2018</td>\n",
              "      <td>PA</td>\n",
              "      <td>19021</td>\n",
              "      <td>7538.0</td>\n",
              "      <td>0</td>\n",
              "    </tr>\n",
              "    <tr>\n",
              "      <th>134232</th>\n",
              "      <td>PAH00001632657</td>\n",
              "      <td>2018</td>\n",
              "      <td>NJ</td>\n",
              "      <td>8003</td>\n",
              "      <td>1522.0</td>\n",
              "      <td>0</td>\n",
              "    </tr>\n",
              "    <tr>\n",
              "      <th>30478</th>\n",
              "      <td>BHH00001072913</td>\n",
              "      <td>2017</td>\n",
              "      <td>MA</td>\n",
              "      <td>2346</td>\n",
              "      <td>2123.0</td>\n",
              "      <td>0</td>\n",
              "    </tr>\n",
              "    <tr>\n",
              "      <th>1251</th>\n",
              "      <td>BHD10001498264</td>\n",
              "      <td>2016</td>\n",
              "      <td>MA</td>\n",
              "      <td>1545</td>\n",
              "      <td>5021.0</td>\n",
              "      <td>1</td>\n",
              "    </tr>\n",
              "    <tr>\n",
              "      <th>168025</th>\n",
              "      <td>BHH00001094401</td>\n",
              "      <td>2018</td>\n",
              "      <td>MA</td>\n",
              "      <td>1469</td>\n",
              "      <td>1420.0</td>\n",
              "      <td>0</td>\n",
              "    </tr>\n",
              "    <tr>\n",
              "      <th>...</th>\n",
              "      <td>...</td>\n",
              "      <td>...</td>\n",
              "      <td>...</td>\n",
              "      <td>...</td>\n",
              "      <td>...</td>\n",
              "      <td>...</td>\n",
              "    </tr>\n",
              "    <tr>\n",
              "      <th>94549</th>\n",
              "      <td>NJH00002007620</td>\n",
              "      <td>2019</td>\n",
              "      <td>NJ</td>\n",
              "      <td>8088</td>\n",
              "      <td>1202.0</td>\n",
              "      <td>0</td>\n",
              "    </tr>\n",
              "    <tr>\n",
              "      <th>128591</th>\n",
              "      <td>PAH00001509164</td>\n",
              "      <td>2018</td>\n",
              "      <td>NJ</td>\n",
              "      <td>7950</td>\n",
              "      <td>3424.0</td>\n",
              "      <td>0</td>\n",
              "    </tr>\n",
              "    <tr>\n",
              "      <th>26562</th>\n",
              "      <td>BHH00001063822</td>\n",
              "      <td>2016</td>\n",
              "      <td>MA</td>\n",
              "      <td>2482</td>\n",
              "      <td>2263.0</td>\n",
              "      <td>0</td>\n",
              "    </tr>\n",
              "    <tr>\n",
              "      <th>138565</th>\n",
              "      <td>PAH00001720143</td>\n",
              "      <td>2019</td>\n",
              "      <td>NJ</td>\n",
              "      <td>8080</td>\n",
              "      <td>1974.0</td>\n",
              "      <td>0</td>\n",
              "    </tr>\n",
              "    <tr>\n",
              "      <th>32546</th>\n",
              "      <td>BHH00001077465</td>\n",
              "      <td>2017</td>\n",
              "      <td>MA</td>\n",
              "      <td>2155</td>\n",
              "      <td>2239.0</td>\n",
              "      <td>0</td>\n",
              "    </tr>\n",
              "  </tbody>\n",
              "</table>\n",
              "<p>105530 rows × 6 columns</p>\n",
              "</div>"
            ],
            "text/plain": [
              "                pol_id  year STATE   ZIP5    ZIP4  y\n",
              "147024  PNH00002007336  2018    PA  19021  7538.0  0\n",
              "134232  PAH00001632657  2018    NJ   8003  1522.0  0\n",
              "30478   BHH00001072913  2017    MA   2346  2123.0  0\n",
              "1251    BHD10001498264  2016    MA   1545  5021.0  1\n",
              "168025  BHH00001094401  2018    MA   1469  1420.0  0\n",
              "...                ...   ...   ...    ...     ... ..\n",
              "94549   NJH00002007620  2019    NJ   8088  1202.0  0\n",
              "128591  PAH00001509164  2018    NJ   7950  3424.0  0\n",
              "26562   BHH00001063822  2016    MA   2482  2263.0  0\n",
              "138565  PAH00001720143  2019    NJ   8080  1974.0  0\n",
              "32546   BHH00001077465  2017    MA   2155  2239.0  0\n",
              "\n",
              "[105530 rows x 6 columns]"
            ]
          },
          "metadata": {
            "tags": []
          },
          "execution_count": 83
        }
      ]
    },
    {
      "cell_type": "code",
      "metadata": {
        "id": "iiH26qM4dRKA",
        "colab": {
          "base_uri": "https://localhost:8080/"
        },
        "outputId": "fb828375-b82b-4da2-86fa-e99b4385aec2"
      },
      "source": [
        "X_train.groupby(['year','y'])['pol_id'].count()"
      ],
      "execution_count": 84,
      "outputs": [
        {
          "output_type": "execute_result",
          "data": {
            "text/plain": [
              "year  y\n",
              "2016  0    29682\n",
              "      1     1202\n",
              "2017  0    10063\n",
              "      1      443\n",
              "2018  0    26661\n",
              "      1     1307\n",
              "2019  0    32664\n",
              "      1     3508\n",
              "Name: pol_id, dtype: int64"
            ]
          },
          "metadata": {
            "tags": []
          },
          "execution_count": 84
        }
      ]
    },
    {
      "cell_type": "code",
      "metadata": {
        "colab": {
          "base_uri": "https://localhost:8080/"
        },
        "id": "EViM6PYQ0DxI",
        "outputId": "c62d853a-d646-44d6-94bc-ec8b16551f2d"
      },
      "source": [
        "X_train.groupby('year')['pol_id'].count()"
      ],
      "execution_count": 85,
      "outputs": [
        {
          "output_type": "execute_result",
          "data": {
            "text/plain": [
              "year\n",
              "2016    30884\n",
              "2017    10506\n",
              "2018    27968\n",
              "2019    36172\n",
              "Name: pol_id, dtype: int64"
            ]
          },
          "metadata": {
            "tags": []
          },
          "execution_count": 85
        }
      ]
    },
    {
      "cell_type": "code",
      "metadata": {
        "colab": {
          "base_uri": "https://localhost:8080/"
        },
        "id": "CBQ9dkri0FmT",
        "outputId": "a1dbea4f-e510-4be4-cb9f-91a7e4611f27"
      },
      "source": [
        "X_train.groupby('STATE')['pol_id'].count()"
      ],
      "execution_count": 86,
      "outputs": [
        {
          "output_type": "execute_result",
          "data": {
            "text/plain": [
              "STATE\n",
              "CT     8088\n",
              "MA    44304\n",
              "NH     5290\n",
              "NJ    32813\n",
              "NY     1070\n",
              "PA    13965\n",
              "Name: pol_id, dtype: int64"
            ]
          },
          "metadata": {
            "tags": []
          },
          "execution_count": 86
        }
      ]
    },
    {
      "cell_type": "code",
      "metadata": {
        "colab": {
          "base_uri": "https://localhost:8080/"
        },
        "id": "_JUKhzsl0Fa2",
        "outputId": "034a52bc-7538-40c2-b49c-192175642043"
      },
      "source": [
        "y_train.value_counts()"
      ],
      "execution_count": 87,
      "outputs": [
        {
          "output_type": "execute_result",
          "data": {
            "text/plain": [
              "no_hit\n",
              "0         99070\n",
              "1          6460\n",
              "dtype: int64"
            ]
          },
          "metadata": {
            "tags": []
          },
          "execution_count": 87
        }
      ]
    },
    {
      "cell_type": "code",
      "metadata": {
        "id": "_ZHf8v5U0WNq"
      },
      "source": [
        "X_train.to_csv('id_Xtrain.csv')"
      ],
      "execution_count": 88,
      "outputs": []
    },
    {
      "cell_type": "markdown",
      "metadata": {
        "id": "zE109cZwzE8P"
      },
      "source": [
        " > **in-sample testing set**"
      ]
    },
    {
      "cell_type": "code",
      "metadata": {
        "colab": {
          "base_uri": "https://localhost:8080/",
          "height": 419
        },
        "id": "8T9tJ2ODbVmU",
        "outputId": "4c8a0c6d-cc90-43a5-a3ea-d75d79081fc2"
      },
      "source": [
        "X_test"
      ],
      "execution_count": 89,
      "outputs": [
        {
          "output_type": "execute_result",
          "data": {
            "text/html": [
              "<div>\n",
              "<style scoped>\n",
              "    .dataframe tbody tr th:only-of-type {\n",
              "        vertical-align: middle;\n",
              "    }\n",
              "\n",
              "    .dataframe tbody tr th {\n",
              "        vertical-align: top;\n",
              "    }\n",
              "\n",
              "    .dataframe thead th {\n",
              "        text-align: right;\n",
              "    }\n",
              "</style>\n",
              "<table border=\"1\" class=\"dataframe\">\n",
              "  <thead>\n",
              "    <tr style=\"text-align: right;\">\n",
              "      <th></th>\n",
              "      <th>pol_id</th>\n",
              "      <th>year</th>\n",
              "      <th>STATE</th>\n",
              "      <th>ZIP5</th>\n",
              "      <th>ZIP4</th>\n",
              "    </tr>\n",
              "  </thead>\n",
              "  <tbody>\n",
              "    <tr>\n",
              "      <th>153113</th>\n",
              "      <td>PNH00002016383</td>\n",
              "      <td>2019</td>\n",
              "      <td>PA</td>\n",
              "      <td>19380</td>\n",
              "      <td>1336.0</td>\n",
              "    </tr>\n",
              "    <tr>\n",
              "      <th>145842</th>\n",
              "      <td>PNH00002005641</td>\n",
              "      <td>2018</td>\n",
              "      <td>PA</td>\n",
              "      <td>19149</td>\n",
              "      <td>1933.0</td>\n",
              "    </tr>\n",
              "    <tr>\n",
              "      <th>157032</th>\n",
              "      <td>PNH00002021880</td>\n",
              "      <td>2019</td>\n",
              "      <td>PA</td>\n",
              "      <td>17870</td>\n",
              "      <td>7659.0</td>\n",
              "    </tr>\n",
              "    <tr>\n",
              "      <th>58292</th>\n",
              "      <td>BHH10001340552</td>\n",
              "      <td>2016</td>\n",
              "      <td>MA</td>\n",
              "      <td>1342</td>\n",
              "      <td>9704.0</td>\n",
              "    </tr>\n",
              "    <tr>\n",
              "      <th>40770</th>\n",
              "      <td>BHH00001095029</td>\n",
              "      <td>2018</td>\n",
              "      <td>MA</td>\n",
              "      <td>1801</td>\n",
              "      <td>4352.0</td>\n",
              "    </tr>\n",
              "    <tr>\n",
              "      <th>...</th>\n",
              "      <td>...</td>\n",
              "      <td>...</td>\n",
              "      <td>...</td>\n",
              "      <td>...</td>\n",
              "      <td>...</td>\n",
              "    </tr>\n",
              "    <tr>\n",
              "      <th>150155</th>\n",
              "      <td>PNH00002011877</td>\n",
              "      <td>2019</td>\n",
              "      <td>PA</td>\n",
              "      <td>19121</td>\n",
              "      <td>2912.0</td>\n",
              "    </tr>\n",
              "    <tr>\n",
              "      <th>133739</th>\n",
              "      <td>PAH00001621989</td>\n",
              "      <td>2019</td>\n",
              "      <td>NJ</td>\n",
              "      <td>8060</td>\n",
              "      <td>3269.0</td>\n",
              "    </tr>\n",
              "    <tr>\n",
              "      <th>152555</th>\n",
              "      <td>PNH00002015645</td>\n",
              "      <td>2019</td>\n",
              "      <td>PA</td>\n",
              "      <td>19082</td>\n",
              "      <td>3310.0</td>\n",
              "    </tr>\n",
              "    <tr>\n",
              "      <th>84264</th>\n",
              "      <td>MWH00001014225</td>\n",
              "      <td>2016</td>\n",
              "      <td>NH</td>\n",
              "      <td>3827</td>\n",
              "      <td>3526.0</td>\n",
              "    </tr>\n",
              "    <tr>\n",
              "      <th>153605</th>\n",
              "      <td>PNH00002017036</td>\n",
              "      <td>2019</td>\n",
              "      <td>PA</td>\n",
              "      <td>19119</td>\n",
              "      <td>2432.0</td>\n",
              "    </tr>\n",
              "  </tbody>\n",
              "</table>\n",
              "<p>26383 rows × 5 columns</p>\n",
              "</div>"
            ],
            "text/plain": [
              "                pol_id  year STATE   ZIP5    ZIP4\n",
              "153113  PNH00002016383  2019    PA  19380  1336.0\n",
              "145842  PNH00002005641  2018    PA  19149  1933.0\n",
              "157032  PNH00002021880  2019    PA  17870  7659.0\n",
              "58292   BHH10001340552  2016    MA   1342  9704.0\n",
              "40770   BHH00001095029  2018    MA   1801  4352.0\n",
              "...                ...   ...   ...    ...     ...\n",
              "150155  PNH00002011877  2019    PA  19121  2912.0\n",
              "133739  PAH00001621989  2019    NJ   8060  3269.0\n",
              "152555  PNH00002015645  2019    PA  19082  3310.0\n",
              "84264   MWH00001014225  2016    NH   3827  3526.0\n",
              "153605  PNH00002017036  2019    PA  19119  2432.0\n",
              "\n",
              "[26383 rows x 5 columns]"
            ]
          },
          "metadata": {
            "tags": []
          },
          "execution_count": 89
        }
      ]
    },
    {
      "cell_type": "code",
      "metadata": {
        "colab": {
          "base_uri": "https://localhost:8080/"
        },
        "id": "bGLRbJFIbVpe",
        "outputId": "c54b5625-e6c0-4297-b4c0-9726d5ef5197"
      },
      "source": [
        "X_test['y'] = y_test\n",
        "X_test.groupby(['year','y'])['pol_id'].count()"
      ],
      "execution_count": 90,
      "outputs": [
        {
          "output_type": "stream",
          "text": [
            "/usr/local/lib/python3.7/dist-packages/ipykernel_launcher.py:1: SettingWithCopyWarning: \n",
            "A value is trying to be set on a copy of a slice from a DataFrame.\n",
            "Try using .loc[row_indexer,col_indexer] = value instead\n",
            "\n",
            "See the caveats in the documentation: https://pandas.pydata.org/pandas-docs/stable/user_guide/indexing.html#returning-a-view-versus-a-copy\n",
            "  \"\"\"Entry point for launching an IPython kernel.\n"
          ],
          "name": "stderr"
        },
        {
          "output_type": "execute_result",
          "data": {
            "text/plain": [
              "year  y\n",
              "2016  0    7421\n",
              "      1     300\n",
              "2017  0    2516\n",
              "      1     111\n",
              "2018  0    6664\n",
              "      1     327\n",
              "2019  0    8166\n",
              "      1     878\n",
              "Name: pol_id, dtype: int64"
            ]
          },
          "metadata": {
            "tags": []
          },
          "execution_count": 90
        }
      ]
    },
    {
      "cell_type": "code",
      "metadata": {
        "colab": {
          "base_uri": "https://localhost:8080/"
        },
        "id": "6zf0VOEW0UfS",
        "outputId": "465ac0f7-990b-4667-a075-cb70525a6b26"
      },
      "source": [
        "X_test.groupby('year')['pol_id'].count()"
      ],
      "execution_count": 91,
      "outputs": [
        {
          "output_type": "execute_result",
          "data": {
            "text/plain": [
              "year\n",
              "2016    7721\n",
              "2017    2627\n",
              "2018    6991\n",
              "2019    9044\n",
              "Name: pol_id, dtype: int64"
            ]
          },
          "metadata": {
            "tags": []
          },
          "execution_count": 91
        }
      ]
    },
    {
      "cell_type": "code",
      "metadata": {
        "colab": {
          "base_uri": "https://localhost:8080/"
        },
        "id": "jxs77jG10X3k",
        "outputId": "931568db-3234-4b9a-8f6c-a7cc6af06391"
      },
      "source": [
        "X_test.groupby('STATE')['pol_id'].count()"
      ],
      "execution_count": 92,
      "outputs": [
        {
          "output_type": "execute_result",
          "data": {
            "text/plain": [
              "STATE\n",
              "CT     2021\n",
              "MA    11076\n",
              "NH     1323\n",
              "NJ     8204\n",
              "NY      268\n",
              "PA     3491\n",
              "Name: pol_id, dtype: int64"
            ]
          },
          "metadata": {
            "tags": []
          },
          "execution_count": 92
        }
      ]
    },
    {
      "cell_type": "code",
      "metadata": {
        "colab": {
          "base_uri": "https://localhost:8080/"
        },
        "id": "QPCbZ2ad0XyP",
        "outputId": "fd8c5260-33f9-4ac8-d364-2c0161bca941"
      },
      "source": [
        "y_test.value_counts()"
      ],
      "execution_count": 93,
      "outputs": [
        {
          "output_type": "execute_result",
          "data": {
            "text/plain": [
              "no_hit\n",
              "0         24767\n",
              "1          1616\n",
              "dtype: int64"
            ]
          },
          "metadata": {
            "tags": []
          },
          "execution_count": 93
        }
      ]
    },
    {
      "cell_type": "code",
      "metadata": {
        "id": "aeGVawGMbVgs"
      },
      "source": [
        "X_test.to_csv('id_Xtest.csv')"
      ],
      "execution_count": 94,
      "outputs": []
    },
    {
      "cell_type": "markdown",
      "metadata": {
        "id": "klF63mnlidO4"
      },
      "source": [
        "# Policy id (out of sample)"
      ]
    },
    {
      "cell_type": "code",
      "metadata": {
        "colab": {
          "base_uri": "https://localhost:8080/",
          "height": 419
        },
        "id": "9iIKw_q6ibtt",
        "outputId": "775bd38f-2db6-4cc5-8d63-180af1181f8c"
      },
      "source": [
        "p_out = pol[pol.year.isin([2011, 2012, 2013, 2014, 2015, 2020])]\n",
        "p_out"
      ],
      "execution_count": 95,
      "outputs": [
        {
          "output_type": "execute_result",
          "data": {
            "text/html": [
              "<div>\n",
              "<style scoped>\n",
              "    .dataframe tbody tr th:only-of-type {\n",
              "        vertical-align: middle;\n",
              "    }\n",
              "\n",
              "    .dataframe tbody tr th {\n",
              "        vertical-align: top;\n",
              "    }\n",
              "\n",
              "    .dataframe thead th {\n",
              "        text-align: right;\n",
              "    }\n",
              "</style>\n",
              "<table border=\"1\" class=\"dataframe\">\n",
              "  <thead>\n",
              "    <tr style=\"text-align: right;\">\n",
              "      <th></th>\n",
              "      <th>pol_id</th>\n",
              "      <th>year</th>\n",
              "      <th>STATE</th>\n",
              "      <th>ZIP5</th>\n",
              "      <th>ZIP4</th>\n",
              "      <th>no_hit</th>\n",
              "    </tr>\n",
              "  </thead>\n",
              "  <tbody>\n",
              "    <tr>\n",
              "      <th>2</th>\n",
              "      <td>BHD00001001034</td>\n",
              "      <td>2015</td>\n",
              "      <td>MA</td>\n",
              "      <td>2745</td>\n",
              "      <td>5672.0</td>\n",
              "      <td>0</td>\n",
              "    </tr>\n",
              "    <tr>\n",
              "      <th>6</th>\n",
              "      <td>BHD00001001080</td>\n",
              "      <td>2015</td>\n",
              "      <td>MA</td>\n",
              "      <td>1850</td>\n",
              "      <td>2164.0</td>\n",
              "      <td>0</td>\n",
              "    </tr>\n",
              "    <tr>\n",
              "      <th>18</th>\n",
              "      <td>BHD00001001157</td>\n",
              "      <td>2015</td>\n",
              "      <td>MA</td>\n",
              "      <td>2122</td>\n",
              "      <td>2204.0</td>\n",
              "      <td>0</td>\n",
              "    </tr>\n",
              "    <tr>\n",
              "      <th>20</th>\n",
              "      <td>BHD00001001189</td>\n",
              "      <td>2015</td>\n",
              "      <td>MA</td>\n",
              "      <td>1571</td>\n",
              "      <td>3437.0</td>\n",
              "      <td>1</td>\n",
              "    </tr>\n",
              "    <tr>\n",
              "      <th>25</th>\n",
              "      <td>BHD00001001232</td>\n",
              "      <td>2015</td>\n",
              "      <td>MA</td>\n",
              "      <td>2151</td>\n",
              "      <td>5005.0</td>\n",
              "      <td>0</td>\n",
              "    </tr>\n",
              "    <tr>\n",
              "      <th>...</th>\n",
              "      <td>...</td>\n",
              "      <td>...</td>\n",
              "      <td>...</td>\n",
              "      <td>...</td>\n",
              "      <td>...</td>\n",
              "      <td>...</td>\n",
              "    </tr>\n",
              "    <tr>\n",
              "      <th>173116</th>\n",
              "      <td>PAH00001348301</td>\n",
              "      <td>2015</td>\n",
              "      <td>NJ</td>\n",
              "      <td>7606</td>\n",
              "      <td>1405.0</td>\n",
              "      <td>0</td>\n",
              "    </tr>\n",
              "    <tr>\n",
              "      <th>173137</th>\n",
              "      <td>PAH00001371633</td>\n",
              "      <td>2015</td>\n",
              "      <td>NJ</td>\n",
              "      <td>7746</td>\n",
              "      <td>2106.0</td>\n",
              "      <td>0</td>\n",
              "    </tr>\n",
              "    <tr>\n",
              "      <th>173145</th>\n",
              "      <td>PAH00001377970</td>\n",
              "      <td>2015</td>\n",
              "      <td>NJ</td>\n",
              "      <td>7012</td>\n",
              "      <td>1932.0</td>\n",
              "      <td>0</td>\n",
              "    </tr>\n",
              "    <tr>\n",
              "      <th>173158</th>\n",
              "      <td>PAH00001379990</td>\n",
              "      <td>2015</td>\n",
              "      <td>NJ</td>\n",
              "      <td>8046</td>\n",
              "      <td>3511.0</td>\n",
              "      <td>0</td>\n",
              "    </tr>\n",
              "    <tr>\n",
              "      <th>173159</th>\n",
              "      <td>PAH00001380541</td>\n",
              "      <td>2015</td>\n",
              "      <td>NJ</td>\n",
              "      <td>8002</td>\n",
              "      <td>1521.0</td>\n",
              "      <td>0</td>\n",
              "    </tr>\n",
              "  </tbody>\n",
              "</table>\n",
              "<p>44791 rows × 6 columns</p>\n",
              "</div>"
            ],
            "text/plain": [
              "                pol_id  year STATE  ZIP5    ZIP4  no_hit\n",
              "2       BHD00001001034  2015    MA  2745  5672.0       0\n",
              "6       BHD00001001080  2015    MA  1850  2164.0       0\n",
              "18      BHD00001001157  2015    MA  2122  2204.0       0\n",
              "20      BHD00001001189  2015    MA  1571  3437.0       1\n",
              "25      BHD00001001232  2015    MA  2151  5005.0       0\n",
              "...                ...   ...   ...   ...     ...     ...\n",
              "173116  PAH00001348301  2015    NJ  7606  1405.0       0\n",
              "173137  PAH00001371633  2015    NJ  7746  2106.0       0\n",
              "173145  PAH00001377970  2015    NJ  7012  1932.0       0\n",
              "173158  PAH00001379990  2015    NJ  8046  3511.0       0\n",
              "173159  PAH00001380541  2015    NJ  8002  1521.0       0\n",
              "\n",
              "[44791 rows x 6 columns]"
            ]
          },
          "metadata": {
            "tags": []
          },
          "execution_count": 95
        }
      ]
    },
    {
      "cell_type": "code",
      "metadata": {
        "id": "Cg0mVgJaPDIA"
      },
      "source": [
        "p_out.to_csv('id_outsample.csv')"
      ],
      "execution_count": 96,
      "outputs": []
    },
    {
      "cell_type": "code",
      "metadata": {
        "id": "sfamCSHNi3Gj"
      },
      "source": [
        "p_out_X = p_out.drop('no_hit', axis=1)\n",
        "p_out_y = p_out[['no_hit']]"
      ],
      "execution_count": 97,
      "outputs": []
    },
    {
      "cell_type": "code",
      "metadata": {
        "colab": {
          "base_uri": "https://localhost:8080/"
        },
        "id": "lMHMpdW7ibqp",
        "outputId": "ec588ca6-530c-45ef-a95b-46e4108bbe9e"
      },
      "source": [
        "p_out_X.groupby('year')['pol_id'].count()"
      ],
      "execution_count": 98,
      "outputs": [
        {
          "output_type": "execute_result",
          "data": {
            "text/plain": [
              "year\n",
              "2011     3395\n",
              "2012      767\n",
              "2013     2409\n",
              "2014     3045\n",
              "2015     8441\n",
              "2020    26734\n",
              "Name: pol_id, dtype: int64"
            ]
          },
          "metadata": {
            "tags": []
          },
          "execution_count": 98
        }
      ]
    },
    {
      "cell_type": "code",
      "metadata": {
        "colab": {
          "base_uri": "https://localhost:8080/"
        },
        "id": "3VT_H6Lbibns",
        "outputId": "b070d7bf-7924-4cf8-cb63-f61ec340a301"
      },
      "source": [
        "p_out_X.groupby('STATE')['pol_id'].count()"
      ],
      "execution_count": 99,
      "outputs": [
        {
          "output_type": "execute_result",
          "data": {
            "text/plain": [
              "STATE\n",
              "CT     9413\n",
              "MA    11911\n",
              "NH     7060\n",
              "NJ     6527\n",
              "NY     5760\n",
              "PA     4120\n",
              "Name: pol_id, dtype: int64"
            ]
          },
          "metadata": {
            "tags": []
          },
          "execution_count": 99
        }
      ]
    },
    {
      "cell_type": "code",
      "metadata": {
        "colab": {
          "base_uri": "https://localhost:8080/"
        },
        "id": "KK3fEYWCibkR",
        "outputId": "2dd76053-15db-454a-edd4-3b27d1fb8e09"
      },
      "source": [
        "p_out_y.value_counts()"
      ],
      "execution_count": 100,
      "outputs": [
        {
          "output_type": "execute_result",
          "data": {
            "text/plain": [
              "no_hit\n",
              "0         36974\n",
              "1          7817\n",
              "dtype: int64"
            ]
          },
          "metadata": {
            "tags": []
          },
          "execution_count": 100
        }
      ]
    },
    {
      "cell_type": "code",
      "metadata": {
        "id": "GU83jJk2ibgu",
        "colab": {
          "base_uri": "https://localhost:8080/"
        },
        "outputId": "2e0fa245-5ebf-41af-9fe6-f974ca282fcd"
      },
      "source": [
        "p_out.groupby(['STATE','no_hit'])['pol_id'].count()"
      ],
      "execution_count": 101,
      "outputs": [
        {
          "output_type": "execute_result",
          "data": {
            "text/plain": [
              "STATE  no_hit\n",
              "CT     0          8096\n",
              "       1          1317\n",
              "MA     0         10123\n",
              "       1          1788\n",
              "NH     0          6433\n",
              "       1           627\n",
              "NJ     0          5033\n",
              "       1          1494\n",
              "NY     0          4624\n",
              "       1          1136\n",
              "PA     0          2665\n",
              "       1          1455\n",
              "Name: pol_id, dtype: int64"
            ]
          },
          "metadata": {
            "tags": []
          },
          "execution_count": 101
        }
      ]
    },
    {
      "cell_type": "code",
      "metadata": {
        "id": "C3K7nneYibeC"
      },
      "source": [
        ""
      ],
      "execution_count": 101,
      "outputs": []
    },
    {
      "cell_type": "markdown",
      "metadata": {
        "id": "btzeqR6Aju_x"
      },
      "source": [
        "# Policy id + year (in sample)"
      ]
    },
    {
      "cell_type": "markdown",
      "metadata": {
        "id": "K-AI6akRzlef"
      },
      "source": [
        "> **in-sample training set**"
      ]
    },
    {
      "cell_type": "code",
      "metadata": {
        "id": "-njh7B6CibaV"
      },
      "source": [
        "pol_train_id = X_train[['pol_id']]"
      ],
      "execution_count": 102,
      "outputs": []
    },
    {
      "cell_type": "code",
      "metadata": {
        "colab": {
          "base_uri": "https://localhost:8080/",
          "height": 419
        },
        "id": "0EoM5MSIibXH",
        "outputId": "d2ea2f98-5d86-4072-ef55-7e36fc98c5f6"
      },
      "source": [
        "idyr = pd.merge(df, pol_train_id, how='inner', on='pol_id')\n",
        "idyr"
      ],
      "execution_count": 103,
      "outputs": [
        {
          "output_type": "execute_result",
          "data": {
            "text/html": [
              "<div>\n",
              "<style scoped>\n",
              "    .dataframe tbody tr th:only-of-type {\n",
              "        vertical-align: middle;\n",
              "    }\n",
              "\n",
              "    .dataframe tbody tr th {\n",
              "        vertical-align: top;\n",
              "    }\n",
              "\n",
              "    .dataframe thead th {\n",
              "        text-align: right;\n",
              "    }\n",
              "</style>\n",
              "<table border=\"1\" class=\"dataframe\">\n",
              "  <thead>\n",
              "    <tr style=\"text-align: right;\">\n",
              "      <th></th>\n",
              "      <th>pol_id</th>\n",
              "      <th>year</th>\n",
              "      <th>STATE</th>\n",
              "      <th>ZIP5</th>\n",
              "      <th>ZIP4</th>\n",
              "      <th>no_hit</th>\n",
              "    </tr>\n",
              "  </thead>\n",
              "  <tbody>\n",
              "    <tr>\n",
              "      <th>0</th>\n",
              "      <td>BHD00001001024</td>\n",
              "      <td>2016</td>\n",
              "      <td>MA</td>\n",
              "      <td>2740</td>\n",
              "      <td>1228.0</td>\n",
              "      <td>1</td>\n",
              "    </tr>\n",
              "    <tr>\n",
              "      <th>1</th>\n",
              "      <td>BHD00001001024</td>\n",
              "      <td>2017</td>\n",
              "      <td>MA</td>\n",
              "      <td>2740</td>\n",
              "      <td>1228.0</td>\n",
              "      <td>1</td>\n",
              "    </tr>\n",
              "    <tr>\n",
              "      <th>2</th>\n",
              "      <td>BHD00001001024</td>\n",
              "      <td>2018</td>\n",
              "      <td>MA</td>\n",
              "      <td>2740</td>\n",
              "      <td>1228.0</td>\n",
              "      <td>1</td>\n",
              "    </tr>\n",
              "    <tr>\n",
              "      <th>3</th>\n",
              "      <td>BHD00001001024</td>\n",
              "      <td>2019</td>\n",
              "      <td>MA</td>\n",
              "      <td>2740</td>\n",
              "      <td>1228.0</td>\n",
              "      <td>1</td>\n",
              "    </tr>\n",
              "    <tr>\n",
              "      <th>4</th>\n",
              "      <td>BHD00001001024</td>\n",
              "      <td>2020</td>\n",
              "      <td>MA</td>\n",
              "      <td>2740</td>\n",
              "      <td>1228.0</td>\n",
              "      <td>1</td>\n",
              "    </tr>\n",
              "    <tr>\n",
              "      <th>...</th>\n",
              "      <td>...</td>\n",
              "      <td>...</td>\n",
              "      <td>...</td>\n",
              "      <td>...</td>\n",
              "      <td>...</td>\n",
              "      <td>...</td>\n",
              "    </tr>\n",
              "    <tr>\n",
              "      <th>241797</th>\n",
              "      <td>PNH00002031580</td>\n",
              "      <td>2018</td>\n",
              "      <td>PA</td>\n",
              "      <td>16428</td>\n",
              "      <td>1003.0</td>\n",
              "      <td>1</td>\n",
              "    </tr>\n",
              "    <tr>\n",
              "      <th>241798</th>\n",
              "      <td>PNH00002031580</td>\n",
              "      <td>2019</td>\n",
              "      <td>PA</td>\n",
              "      <td>16428</td>\n",
              "      <td>1003.0</td>\n",
              "      <td>1</td>\n",
              "    </tr>\n",
              "    <tr>\n",
              "      <th>241799</th>\n",
              "      <td>PNH00002031723</td>\n",
              "      <td>2019</td>\n",
              "      <td>PA</td>\n",
              "      <td>18042</td>\n",
              "      <td>6377.0</td>\n",
              "      <td>0</td>\n",
              "    </tr>\n",
              "    <tr>\n",
              "      <th>241800</th>\n",
              "      <td>PNH00002031929</td>\n",
              "      <td>2018</td>\n",
              "      <td>PA</td>\n",
              "      <td>19007</td>\n",
              "      <td>4444.0</td>\n",
              "      <td>0</td>\n",
              "    </tr>\n",
              "    <tr>\n",
              "      <th>241801</th>\n",
              "      <td>PNH00002031929</td>\n",
              "      <td>2019</td>\n",
              "      <td>PA</td>\n",
              "      <td>19007</td>\n",
              "      <td>4444.0</td>\n",
              "      <td>0</td>\n",
              "    </tr>\n",
              "  </tbody>\n",
              "</table>\n",
              "<p>241802 rows × 6 columns</p>\n",
              "</div>"
            ],
            "text/plain": [
              "                pol_id  year STATE   ZIP5    ZIP4  no_hit\n",
              "0       BHD00001001024  2016    MA   2740  1228.0       1\n",
              "1       BHD00001001024  2017    MA   2740  1228.0       1\n",
              "2       BHD00001001024  2018    MA   2740  1228.0       1\n",
              "3       BHD00001001024  2019    MA   2740  1228.0       1\n",
              "4       BHD00001001024  2020    MA   2740  1228.0       1\n",
              "...                ...   ...   ...    ...     ...     ...\n",
              "241797  PNH00002031580  2018    PA  16428  1003.0       1\n",
              "241798  PNH00002031580  2019    PA  16428  1003.0       1\n",
              "241799  PNH00002031723  2019    PA  18042  6377.0       0\n",
              "241800  PNH00002031929  2018    PA  19007  4444.0       0\n",
              "241801  PNH00002031929  2019    PA  19007  4444.0       0\n",
              "\n",
              "[241802 rows x 6 columns]"
            ]
          },
          "metadata": {
            "tags": []
          },
          "execution_count": 103
        }
      ]
    },
    {
      "cell_type": "code",
      "metadata": {
        "id": "jQm_qXTdibUd"
      },
      "source": [
        "idyr_X_train = idyr.drop('no_hit', axis=1)\n",
        "idyr_y_train = idyr[['no_hit']]"
      ],
      "execution_count": 104,
      "outputs": []
    },
    {
      "cell_type": "code",
      "metadata": {
        "colab": {
          "base_uri": "https://localhost:8080/"
        },
        "id": "8gPDF-EJx9Re",
        "outputId": "a2bee555-4695-4c89-e745-f58f31dc8153"
      },
      "source": [
        "idyr.groupby(['year','no_hit'])['pol_id'].count()"
      ],
      "execution_count": 105,
      "outputs": [
        {
          "output_type": "execute_result",
          "data": {
            "text/plain": [
              "year  no_hit\n",
              "2016  0         27956\n",
              "      1          2928\n",
              "2017  0         33597\n",
              "      1          3563\n",
              "2018  0         54855\n",
              "      1          5725\n",
              "2019  0         82164\n",
              "      1          7701\n",
              "2020  0         21769\n",
              "      1          1544\n",
              "Name: pol_id, dtype: int64"
            ]
          },
          "metadata": {
            "tags": []
          },
          "execution_count": 105
        }
      ]
    },
    {
      "cell_type": "code",
      "metadata": {
        "colab": {
          "base_uri": "https://localhost:8080/"
        },
        "id": "j2f2Le040x5R",
        "outputId": "e19a6fcf-4a97-4304-c5dc-ce682445a44d"
      },
      "source": [
        "idyr_X_train.groupby('year')['pol_id'].count()"
      ],
      "execution_count": 106,
      "outputs": [
        {
          "output_type": "execute_result",
          "data": {
            "text/plain": [
              "year\n",
              "2016    30884\n",
              "2017    37160\n",
              "2018    60580\n",
              "2019    89865\n",
              "2020    23313\n",
              "Name: pol_id, dtype: int64"
            ]
          },
          "metadata": {
            "tags": []
          },
          "execution_count": 106
        }
      ]
    },
    {
      "cell_type": "code",
      "metadata": {
        "colab": {
          "base_uri": "https://localhost:8080/"
        },
        "id": "0SsklS9E0y7G",
        "outputId": "230efcb0-bc5b-4ded-9ebc-a1fcfa0f3ebf"
      },
      "source": [
        "idyr_X_train.groupby('STATE')['pol_id'].count()"
      ],
      "execution_count": 107,
      "outputs": [
        {
          "output_type": "execute_result",
          "data": {
            "text/plain": [
              "STATE\n",
              "CT     18519\n",
              "MA    127009\n",
              "NH     12444\n",
              "NJ     60442\n",
              "NY      1237\n",
              "PA     22151\n",
              "Name: pol_id, dtype: int64"
            ]
          },
          "metadata": {
            "tags": []
          },
          "execution_count": 107
        }
      ]
    },
    {
      "cell_type": "code",
      "metadata": {
        "colab": {
          "base_uri": "https://localhost:8080/"
        },
        "id": "9aT_ZYI301oO",
        "outputId": "74e44483-22dc-494f-ebaa-63fd88fbeb91"
      },
      "source": [
        "idyr_y_train.value_counts()"
      ],
      "execution_count": 108,
      "outputs": [
        {
          "output_type": "execute_result",
          "data": {
            "text/plain": [
              "no_hit\n",
              "0         220341\n",
              "1          21461\n",
              "dtype: int64"
            ]
          },
          "metadata": {
            "tags": []
          },
          "execution_count": 108
        }
      ]
    },
    {
      "cell_type": "code",
      "metadata": {
        "id": "oHLk57ls07NA"
      },
      "source": [
        "idyr.to_csv('idyr_train.csv')"
      ],
      "execution_count": 109,
      "outputs": []
    },
    {
      "cell_type": "markdown",
      "metadata": {
        "id": "Hr8gFhaqztNg"
      },
      "source": [
        "> **in-sample testing set**"
      ]
    },
    {
      "cell_type": "code",
      "metadata": {
        "id": "sEgVNK5KibRA"
      },
      "source": [
        "pol_test_id = X_test[['pol_id']]"
      ],
      "execution_count": 110,
      "outputs": []
    },
    {
      "cell_type": "code",
      "metadata": {
        "colab": {
          "base_uri": "https://localhost:8080/",
          "height": 419
        },
        "id": "d6KOSCHWibNr",
        "outputId": "090e62c1-8324-4774-ce38-31a6e2e13dd9"
      },
      "source": [
        "idyr_t = pd.merge(df, pol_test_id, how='inner', on='pol_id')\n",
        "idyr_t"
      ],
      "execution_count": 111,
      "outputs": [
        {
          "output_type": "execute_result",
          "data": {
            "text/html": [
              "<div>\n",
              "<style scoped>\n",
              "    .dataframe tbody tr th:only-of-type {\n",
              "        vertical-align: middle;\n",
              "    }\n",
              "\n",
              "    .dataframe tbody tr th {\n",
              "        vertical-align: top;\n",
              "    }\n",
              "\n",
              "    .dataframe thead th {\n",
              "        text-align: right;\n",
              "    }\n",
              "</style>\n",
              "<table border=\"1\" class=\"dataframe\">\n",
              "  <thead>\n",
              "    <tr style=\"text-align: right;\">\n",
              "      <th></th>\n",
              "      <th>pol_id</th>\n",
              "      <th>year</th>\n",
              "      <th>STATE</th>\n",
              "      <th>ZIP5</th>\n",
              "      <th>ZIP4</th>\n",
              "      <th>no_hit</th>\n",
              "    </tr>\n",
              "  </thead>\n",
              "  <tbody>\n",
              "    <tr>\n",
              "      <th>0</th>\n",
              "      <td>BHD00001001088</td>\n",
              "      <td>2016</td>\n",
              "      <td>MA</td>\n",
              "      <td>1570</td>\n",
              "      <td>2246.0</td>\n",
              "      <td>0</td>\n",
              "    </tr>\n",
              "    <tr>\n",
              "      <th>1</th>\n",
              "      <td>BHD00001001088</td>\n",
              "      <td>2017</td>\n",
              "      <td>MA</td>\n",
              "      <td>1570</td>\n",
              "      <td>2246.0</td>\n",
              "      <td>0</td>\n",
              "    </tr>\n",
              "    <tr>\n",
              "      <th>2</th>\n",
              "      <td>BHD00001001088</td>\n",
              "      <td>2018</td>\n",
              "      <td>MA</td>\n",
              "      <td>1570</td>\n",
              "      <td>2246.0</td>\n",
              "      <td>0</td>\n",
              "    </tr>\n",
              "    <tr>\n",
              "      <th>3</th>\n",
              "      <td>BHD00001001136</td>\n",
              "      <td>2016</td>\n",
              "      <td>MA</td>\n",
              "      <td>1570</td>\n",
              "      <td>3637.0</td>\n",
              "      <td>1</td>\n",
              "    </tr>\n",
              "    <tr>\n",
              "      <th>4</th>\n",
              "      <td>BHD00001001136</td>\n",
              "      <td>2017</td>\n",
              "      <td>MA</td>\n",
              "      <td>1570</td>\n",
              "      <td>3637.0</td>\n",
              "      <td>1</td>\n",
              "    </tr>\n",
              "    <tr>\n",
              "      <th>...</th>\n",
              "      <td>...</td>\n",
              "      <td>...</td>\n",
              "      <td>...</td>\n",
              "      <td>...</td>\n",
              "      <td>...</td>\n",
              "      <td>...</td>\n",
              "    </tr>\n",
              "    <tr>\n",
              "      <th>60664</th>\n",
              "      <td>PNH00002030401</td>\n",
              "      <td>2019</td>\n",
              "      <td>PA</td>\n",
              "      <td>19067</td>\n",
              "      <td>1906.0</td>\n",
              "      <td>1</td>\n",
              "    </tr>\n",
              "    <tr>\n",
              "      <th>60665</th>\n",
              "      <td>PNH00002031363</td>\n",
              "      <td>2019</td>\n",
              "      <td>PA</td>\n",
              "      <td>16667</td>\n",
              "      <td>8632.0</td>\n",
              "      <td>0</td>\n",
              "    </tr>\n",
              "    <tr>\n",
              "      <th>60666</th>\n",
              "      <td>PNH00002031395</td>\n",
              "      <td>2018</td>\n",
              "      <td>PA</td>\n",
              "      <td>17015</td>\n",
              "      <td>9049.0</td>\n",
              "      <td>0</td>\n",
              "    </tr>\n",
              "    <tr>\n",
              "      <th>60667</th>\n",
              "      <td>PNH00002031395</td>\n",
              "      <td>2019</td>\n",
              "      <td>PA</td>\n",
              "      <td>17015</td>\n",
              "      <td>9049.0</td>\n",
              "      <td>0</td>\n",
              "    </tr>\n",
              "    <tr>\n",
              "      <th>60668</th>\n",
              "      <td>PNH00002032007</td>\n",
              "      <td>2019</td>\n",
              "      <td>PA</td>\n",
              "      <td>18078</td>\n",
              "      <td>3027.0</td>\n",
              "      <td>0</td>\n",
              "    </tr>\n",
              "  </tbody>\n",
              "</table>\n",
              "<p>60669 rows × 6 columns</p>\n",
              "</div>"
            ],
            "text/plain": [
              "               pol_id  year STATE   ZIP5    ZIP4  no_hit\n",
              "0      BHD00001001088  2016    MA   1570  2246.0       0\n",
              "1      BHD00001001088  2017    MA   1570  2246.0       0\n",
              "2      BHD00001001088  2018    MA   1570  2246.0       0\n",
              "3      BHD00001001136  2016    MA   1570  3637.0       1\n",
              "4      BHD00001001136  2017    MA   1570  3637.0       1\n",
              "...               ...   ...   ...    ...     ...     ...\n",
              "60664  PNH00002030401  2019    PA  19067  1906.0       1\n",
              "60665  PNH00002031363  2019    PA  16667  8632.0       0\n",
              "60666  PNH00002031395  2018    PA  17015  9049.0       0\n",
              "60667  PNH00002031395  2019    PA  17015  9049.0       0\n",
              "60668  PNH00002032007  2019    PA  18078  3027.0       0\n",
              "\n",
              "[60669 rows x 6 columns]"
            ]
          },
          "metadata": {
            "tags": []
          },
          "execution_count": 111
        }
      ]
    },
    {
      "cell_type": "code",
      "metadata": {
        "colab": {
          "base_uri": "https://localhost:8080/"
        },
        "id": "R8ID5n8Exs7y",
        "outputId": "37b8774b-24c9-4120-82e8-380e907d3f72"
      },
      "source": [
        "idyr_t.groupby(['year','no_hit'])['pol_id'].count()"
      ],
      "execution_count": 112,
      "outputs": [
        {
          "output_type": "execute_result",
          "data": {
            "text/plain": [
              "year  no_hit\n",
              "2016  0          6995\n",
              "      1           726\n",
              "2017  0          8448\n",
              "      1           898\n",
              "2018  0         13678\n",
              "      1          1482\n",
              "2019  0         20523\n",
              "      1          1974\n",
              "2020  0          5585\n",
              "      1           360\n",
              "Name: pol_id, dtype: int64"
            ]
          },
          "metadata": {
            "tags": []
          },
          "execution_count": 112
        }
      ]
    },
    {
      "cell_type": "code",
      "metadata": {
        "id": "mJqCO8JGdRHH"
      },
      "source": [
        "idyr_X_test = idyr_t.drop('no_hit', axis=1)\n",
        "idyr_y_test = idyr_t[['no_hit']]"
      ],
      "execution_count": 113,
      "outputs": []
    },
    {
      "cell_type": "code",
      "metadata": {
        "colab": {
          "base_uri": "https://localhost:8080/"
        },
        "id": "PIBLBuHUlVBJ",
        "outputId": "de1a6473-e8ce-4234-8789-692cda91c7ca"
      },
      "source": [
        "idyr_X_test.groupby('year')['pol_id'].count()"
      ],
      "execution_count": 114,
      "outputs": [
        {
          "output_type": "execute_result",
          "data": {
            "text/plain": [
              "year\n",
              "2016     7721\n",
              "2017     9346\n",
              "2018    15160\n",
              "2019    22497\n",
              "2020     5945\n",
              "Name: pol_id, dtype: int64"
            ]
          },
          "metadata": {
            "tags": []
          },
          "execution_count": 114
        }
      ]
    },
    {
      "cell_type": "code",
      "metadata": {
        "colab": {
          "base_uri": "https://localhost:8080/"
        },
        "id": "HhYmKLPclU7M",
        "outputId": "4ddd9135-4dca-4939-b737-296126ea5aac"
      },
      "source": [
        "idyr_X_test.groupby('STATE')['pol_id'].count()"
      ],
      "execution_count": 115,
      "outputs": [
        {
          "output_type": "execute_result",
          "data": {
            "text/plain": [
              "STATE\n",
              "CT     4669\n",
              "MA    31893\n",
              "NH     3146\n",
              "NJ    15139\n",
              "NY      310\n",
              "PA     5512\n",
              "Name: pol_id, dtype: int64"
            ]
          },
          "metadata": {
            "tags": []
          },
          "execution_count": 115
        }
      ]
    },
    {
      "cell_type": "code",
      "metadata": {
        "colab": {
          "base_uri": "https://localhost:8080/"
        },
        "id": "K92CnlzelU2V",
        "outputId": "af5331d9-64d4-4725-bb25-77156963e131"
      },
      "source": [
        "idyr_y_test.value_counts()"
      ],
      "execution_count": 116,
      "outputs": [
        {
          "output_type": "execute_result",
          "data": {
            "text/plain": [
              "no_hit\n",
              "0         55229\n",
              "1          5440\n",
              "dtype: int64"
            ]
          },
          "metadata": {
            "tags": []
          },
          "execution_count": 116
        }
      ]
    },
    {
      "cell_type": "code",
      "metadata": {
        "id": "4SXmsmYjlUzM"
      },
      "source": [
        "idyr_t.to_csv('idyr_test.csv')"
      ],
      "execution_count": 117,
      "outputs": []
    },
    {
      "cell_type": "code",
      "metadata": {
        "id": "73yJef1rOcT3"
      },
      "source": [
        ""
      ],
      "execution_count": 117,
      "outputs": []
    },
    {
      "cell_type": "markdown",
      "metadata": {
        "id": "kza0R0XblvY8"
      },
      "source": [
        "# Policy id + year (out of sample)"
      ]
    },
    {
      "cell_type": "code",
      "metadata": {
        "id": "IoVf0DQ6lu96"
      },
      "source": [
        "out_id = p_out[['pol_id']]"
      ],
      "execution_count": 118,
      "outputs": []
    },
    {
      "cell_type": "code",
      "metadata": {
        "colab": {
          "base_uri": "https://localhost:8080/",
          "height": 419
        },
        "id": "sdtu1y4vlu7Y",
        "outputId": "0aadd99a-840b-49e3-aedb-09c79e397de6"
      },
      "source": [
        "idyr_out = pd.merge(df, out_id, how='inner', on='pol_id')\n",
        "idyr_out"
      ],
      "execution_count": 119,
      "outputs": [
        {
          "output_type": "execute_result",
          "data": {
            "text/html": [
              "<div>\n",
              "<style scoped>\n",
              "    .dataframe tbody tr th:only-of-type {\n",
              "        vertical-align: middle;\n",
              "    }\n",
              "\n",
              "    .dataframe tbody tr th {\n",
              "        vertical-align: top;\n",
              "    }\n",
              "\n",
              "    .dataframe thead th {\n",
              "        text-align: right;\n",
              "    }\n",
              "</style>\n",
              "<table border=\"1\" class=\"dataframe\">\n",
              "  <thead>\n",
              "    <tr style=\"text-align: right;\">\n",
              "      <th></th>\n",
              "      <th>pol_id</th>\n",
              "      <th>year</th>\n",
              "      <th>STATE</th>\n",
              "      <th>ZIP5</th>\n",
              "      <th>ZIP4</th>\n",
              "      <th>no_hit</th>\n",
              "    </tr>\n",
              "  </thead>\n",
              "  <tbody>\n",
              "    <tr>\n",
              "      <th>0</th>\n",
              "      <td>BHD00001001034</td>\n",
              "      <td>2015</td>\n",
              "      <td>MA</td>\n",
              "      <td>2745</td>\n",
              "      <td>5672.0</td>\n",
              "      <td>0</td>\n",
              "    </tr>\n",
              "    <tr>\n",
              "      <th>1</th>\n",
              "      <td>BHD00001001080</td>\n",
              "      <td>2015</td>\n",
              "      <td>MA</td>\n",
              "      <td>1850</td>\n",
              "      <td>2164.0</td>\n",
              "      <td>0</td>\n",
              "    </tr>\n",
              "    <tr>\n",
              "      <th>2</th>\n",
              "      <td>BHD00001001157</td>\n",
              "      <td>2015</td>\n",
              "      <td>MA</td>\n",
              "      <td>2122</td>\n",
              "      <td>2204.0</td>\n",
              "      <td>0</td>\n",
              "    </tr>\n",
              "    <tr>\n",
              "      <th>3</th>\n",
              "      <td>BHD00001001189</td>\n",
              "      <td>2015</td>\n",
              "      <td>MA</td>\n",
              "      <td>1571</td>\n",
              "      <td>3437.0</td>\n",
              "      <td>1</td>\n",
              "    </tr>\n",
              "    <tr>\n",
              "      <th>4</th>\n",
              "      <td>BHD00001001232</td>\n",
              "      <td>2015</td>\n",
              "      <td>MA</td>\n",
              "      <td>2151</td>\n",
              "      <td>5005.0</td>\n",
              "      <td>0</td>\n",
              "    </tr>\n",
              "    <tr>\n",
              "      <th>...</th>\n",
              "      <td>...</td>\n",
              "      <td>...</td>\n",
              "      <td>...</td>\n",
              "      <td>...</td>\n",
              "      <td>...</td>\n",
              "      <td>...</td>\n",
              "    </tr>\n",
              "    <tr>\n",
              "      <th>98243</th>\n",
              "      <td>PNH00002031667</td>\n",
              "      <td>2020</td>\n",
              "      <td>PA</td>\n",
              "      <td>19145</td>\n",
              "      <td>1620.0</td>\n",
              "      <td>0</td>\n",
              "    </tr>\n",
              "    <tr>\n",
              "      <th>98244</th>\n",
              "      <td>PNH00002031669</td>\n",
              "      <td>2020</td>\n",
              "      <td>PA</td>\n",
              "      <td>15136</td>\n",
              "      <td>3130.0</td>\n",
              "      <td>1</td>\n",
              "    </tr>\n",
              "    <tr>\n",
              "      <th>98245</th>\n",
              "      <td>PNH00002031671</td>\n",
              "      <td>2020</td>\n",
              "      <td>PA</td>\n",
              "      <td>19126</td>\n",
              "      <td>3536.0</td>\n",
              "      <td>0</td>\n",
              "    </tr>\n",
              "    <tr>\n",
              "      <th>98246</th>\n",
              "      <td>PNH00002031672</td>\n",
              "      <td>2020</td>\n",
              "      <td>PA</td>\n",
              "      <td>19148</td>\n",
              "      <td>1731.0</td>\n",
              "      <td>0</td>\n",
              "    </tr>\n",
              "    <tr>\n",
              "      <th>98247</th>\n",
              "      <td>PNH00002031681</td>\n",
              "      <td>2020</td>\n",
              "      <td>PA</td>\n",
              "      <td>19131</td>\n",
              "      <td>4416.0</td>\n",
              "      <td>0</td>\n",
              "    </tr>\n",
              "  </tbody>\n",
              "</table>\n",
              "<p>98248 rows × 6 columns</p>\n",
              "</div>"
            ],
            "text/plain": [
              "               pol_id  year STATE   ZIP5    ZIP4  no_hit\n",
              "0      BHD00001001034  2015    MA   2745  5672.0       0\n",
              "1      BHD00001001080  2015    MA   1850  2164.0       0\n",
              "2      BHD00001001157  2015    MA   2122  2204.0       0\n",
              "3      BHD00001001189  2015    MA   1571  3437.0       1\n",
              "4      BHD00001001232  2015    MA   2151  5005.0       0\n",
              "...               ...   ...   ...    ...     ...     ...\n",
              "98243  PNH00002031667  2020    PA  19145  1620.0       0\n",
              "98244  PNH00002031669  2020    PA  15136  3130.0       1\n",
              "98245  PNH00002031671  2020    PA  19126  3536.0       0\n",
              "98246  PNH00002031672  2020    PA  19148  1731.0       0\n",
              "98247  PNH00002031681  2020    PA  19131  4416.0       0\n",
              "\n",
              "[98248 rows x 6 columns]"
            ]
          },
          "metadata": {
            "tags": []
          },
          "execution_count": 119
        }
      ]
    },
    {
      "cell_type": "code",
      "metadata": {
        "id": "pfbpYHp_O13n"
      },
      "source": [
        "idyr_out.to_csv('idyr_outsample.csv')"
      ],
      "execution_count": 120,
      "outputs": []
    },
    {
      "cell_type": "code",
      "metadata": {
        "id": "w4y8TEqDmWIY"
      },
      "source": [
        "idyr_out_X = idyr_out.drop('no_hit', axis=1)\n",
        "idyr_out_y = idyr_out[['no_hit']]"
      ],
      "execution_count": 121,
      "outputs": []
    },
    {
      "cell_type": "code",
      "metadata": {
        "colab": {
          "base_uri": "https://localhost:8080/"
        },
        "id": "nXug0Xkhlu4P",
        "outputId": "b2a61ec5-6d12-401f-8416-0f76cf2b79d6"
      },
      "source": [
        "idyr_out_X.groupby('year')['pol_id'].count()"
      ],
      "execution_count": 122,
      "outputs": [
        {
          "output_type": "execute_result",
          "data": {
            "text/plain": [
              "year\n",
              "2011     3395\n",
              "2012     4084\n",
              "2013     6421\n",
              "2014     9307\n",
              "2015    17002\n",
              "2016     9935\n",
              "2017     8346\n",
              "2018     6958\n",
              "2019     5772\n",
              "2020    27028\n",
              "Name: pol_id, dtype: int64"
            ]
          },
          "metadata": {
            "tags": []
          },
          "execution_count": 122
        }
      ]
    },
    {
      "cell_type": "code",
      "metadata": {
        "colab": {
          "base_uri": "https://localhost:8080/"
        },
        "id": "dMlbxtq5lu0x",
        "outputId": "dacb1e57-7817-4ab0-af61-8db79c6de11a"
      },
      "source": [
        "idyr_out_X.groupby('STATE')['pol_id'].count()"
      ],
      "execution_count": 123,
      "outputs": [
        {
          "output_type": "execute_result",
          "data": {
            "text/plain": [
              "STATE\n",
              "CT    32872\n",
              "MA    13216\n",
              "NH    35575\n",
              "NJ     6705\n",
              "NY     5760\n",
              "PA     4120\n",
              "Name: pol_id, dtype: int64"
            ]
          },
          "metadata": {
            "tags": []
          },
          "execution_count": 123
        }
      ]
    },
    {
      "cell_type": "code",
      "metadata": {
        "colab": {
          "base_uri": "https://localhost:8080/"
        },
        "id": "Hz2ld0LYlUwU",
        "outputId": "1a6a7744-98b9-40b6-c21b-f3281c2ec4b3"
      },
      "source": [
        "idyr_out_y.value_counts()"
      ],
      "execution_count": 124,
      "outputs": [
        {
          "output_type": "execute_result",
          "data": {
            "text/plain": [
              "no_hit\n",
              "0         87053\n",
              "1         11195\n",
              "dtype: int64"
            ]
          },
          "metadata": {
            "tags": []
          },
          "execution_count": 124
        }
      ]
    },
    {
      "cell_type": "code",
      "metadata": {
        "id": "Tib3ZB6RlUuM",
        "colab": {
          "base_uri": "https://localhost:8080/"
        },
        "outputId": "a37c2f03-9ddf-4f11-c585-8d15854c22af"
      },
      "source": [
        "idyr_out.groupby(['year','no_hit'])['pol_id'].count()"
      ],
      "execution_count": 125,
      "outputs": [
        {
          "output_type": "execute_result",
          "data": {
            "text/plain": [
              "year  no_hit\n",
              "2011  0          3122\n",
              "      1           273\n",
              "2012  0          3757\n",
              "      1           327\n",
              "2013  0          5834\n",
              "      1           587\n",
              "2014  0          8610\n",
              "      1           697\n",
              "2015  0         15916\n",
              "      1          1086\n",
              "2016  0          9503\n",
              "      1           432\n",
              "2017  0          7997\n",
              "      1           349\n",
              "2018  0          6704\n",
              "      1           254\n",
              "2019  0          5584\n",
              "      1           188\n",
              "2020  0         20026\n",
              "      1          7002\n",
              "Name: pol_id, dtype: int64"
            ]
          },
          "metadata": {
            "tags": []
          },
          "execution_count": 125
        }
      ]
    },
    {
      "cell_type": "code",
      "metadata": {
        "id": "EcV1XIGYlUrf"
      },
      "source": [
        ""
      ],
      "execution_count": 125,
      "outputs": []
    }
  ]
}